{
  "cells": [
    {
      "cell_type": "markdown",
      "metadata": {
        "id": "BQpPSTu231Lh"
      },
      "source": [
        "# Detecção de fraude em seguro de veículo\n",
        "\n"
      ]
    },
    {
      "cell_type": "markdown",
      "metadata": {
        "id": "9TiNc0my6Cq-"
      },
      "source": [
        "## Sobre"
      ]
    },
    {
      "cell_type": "markdown",
      "metadata": {
        "id": "zVWYIGL45jPk"
      },
      "source": [
        "**Autor:** Pedro Vitor Soares Gomes de Lima\n",
        "\n",
        "### Objetivo\n",
        "\n",
        "Detectar e evitar processos fraudulentos é um enorme desafio. Para tal, o uso de técnicas de machine learning tem se mostrado bastante promissor. Porém, um bom desempenho de um modelo de machine learning depende de uma etapa que não é simples: entender e tratar os diversos dados de diferentes naturezas que estão em posse das seguradoras.\n",
        "\n",
        "E este é o foco principal do projeto: entender cada variável disponibilizada na base de dados e tratá-las adequadamente. Dessa forma, é possível utilizá-las no desenvolvimento de algoritmos de classificação. O que também será realizado, escolhendo alguns métodos existentes e avaliando diferentes configurações destes.\n",
        "\n",
        "### Base de dados\n",
        "\n",
        "A base de dados escolhida contém diversas informações sobre pedidos de indenização de uma seguradora de veículos. As informações se referem à pessoa envolvida em um acidente, à apólice contratada, ao titular da apólice, ao veículo envolvido, etc. Originalmente são 15420 registros, onde o atributo 'FraudFound_P' indica se uma determinada solicitação foi ou não identificada como fraudulenta.\n",
        "\n",
        "Disponível em: https://www.kaggle.com/datasets/shivamb/vehicle-claim-fraud-detection\n",
        "\n",
        "### Sumário\n",
        "\n",
        "PARTE 1: Importar bibliotecas\n",
        "\n",
        "PARTE 2: Importar base de dados\n",
        "\n",
        "PARTE 3: Entendimento da base de dados\n",
        "\n",
        "PARTE 4: Tratamento dos dados\n",
        "\n",
        "PARTE 5: Investigar relações com a variável alvo\n",
        "\n",
        "PARTE 6: Transformar dados\n",
        "\n",
        "PARTE 7: Investigar relações com a variável alvo (novamente)\n",
        "\n",
        "PARTE 8: Dividir variáveis dependentes e independentes\n",
        "\n",
        "PARTE 9: Dividir dados de treino e de teste\n",
        "\n",
        "PARTE 10: Balancear dados de treino\n",
        "\n",
        "PARTE 11: Rodar experimentos\n",
        "\n",
        "PARTE 12: Analisar os resultados\n",
        "\n",
        "PARTE 13: Investigar o melhor modelo\n",
        "\n",
        "PARTE 14: Conclusão e discussão"
      ]
    },
    {
      "cell_type": "markdown",
      "metadata": {
        "id": "N1H4xy9Q4uTv"
      },
      "source": [
        "## PARTE 1: Importar bibliotecas"
      ]
    },
    {
      "cell_type": "code",
      "execution_count": 215,
      "metadata": {
        "id": "VXnBZ4Fe2jAj"
      },
      "outputs": [],
      "source": [
        "import numpy as np\n",
        "import pandas as pd\n",
        "import seaborn as sns\n",
        "import scipy.stats as stats\n",
        "import matplotlib.pyplot as plt\n",
        "\n",
        "from imblearn.over_sampling import ADASYN\n",
        "from sklearn.model_selection import train_test_split\n",
        "\n",
        "from sklearn.ensemble import RandomForestClassifier\n",
        "from sklearn.model_selection import RepeatedStratifiedKFold\n",
        "from sklearn.model_selection import GridSearchCV\n",
        "from sklearn.inspection import permutation_importance\n",
        "from sklearn import metrics"
      ]
    },
    {
      "cell_type": "markdown",
      "metadata": {
        "id": "0Mo4hBsj5bbA"
      },
      "source": [
        "## PARTE 2: Importar base de dados"
      ]
    },
    {
      "cell_type": "code",
      "execution_count": 2,
      "metadata": {
        "id": "fumcC6J72lgF"
      },
      "outputs": [],
      "source": [
        "url_dataset = \"https://github.com/peuvitor/insurance-fraud-detection/blob/main/dataset/fraud_oracle.csv?raw=true\"\n",
        "\n",
        "df_dataset = pd.read_csv(url_dataset)"
      ]
    },
    {
      "cell_type": "markdown",
      "metadata": {},
      "source": [
        "## PARTE 3: Entendimento da base de dados"
      ]
    },
    {
      "cell_type": "markdown",
      "metadata": {},
      "source": [
        "### 3.1. Investigar as colunas existentes\n",
        "\n",
        "Quantas e quais são as colunas? Quais são os seus respectivos tipos?"
      ]
    },
    {
      "cell_type": "code",
      "execution_count": 3,
      "metadata": {},
      "outputs": [
        {
          "data": {
            "text/html": [
              "<div>\n",
              "<style scoped>\n",
              "    .dataframe tbody tr th:only-of-type {\n",
              "        vertical-align: middle;\n",
              "    }\n",
              "\n",
              "    .dataframe tbody tr th {\n",
              "        vertical-align: top;\n",
              "    }\n",
              "\n",
              "    .dataframe thead th {\n",
              "        text-align: right;\n",
              "    }\n",
              "</style>\n",
              "<table border=\"1\" class=\"dataframe\">\n",
              "  <thead>\n",
              "    <tr style=\"text-align: right;\">\n",
              "      <th></th>\n",
              "      <th>Month</th>\n",
              "      <th>WeekOfMonth</th>\n",
              "      <th>DayOfWeek</th>\n",
              "      <th>Make</th>\n",
              "      <th>AccidentArea</th>\n",
              "      <th>DayOfWeekClaimed</th>\n",
              "      <th>MonthClaimed</th>\n",
              "      <th>WeekOfMonthClaimed</th>\n",
              "      <th>Sex</th>\n",
              "      <th>MaritalStatus</th>\n",
              "      <th>...</th>\n",
              "      <th>AgeOfVehicle</th>\n",
              "      <th>AgeOfPolicyHolder</th>\n",
              "      <th>PoliceReportFiled</th>\n",
              "      <th>WitnessPresent</th>\n",
              "      <th>AgentType</th>\n",
              "      <th>NumberOfSuppliments</th>\n",
              "      <th>AddressChange_Claim</th>\n",
              "      <th>NumberOfCars</th>\n",
              "      <th>Year</th>\n",
              "      <th>BasePolicy</th>\n",
              "    </tr>\n",
              "  </thead>\n",
              "  <tbody>\n",
              "    <tr>\n",
              "      <th>0</th>\n",
              "      <td>Dec</td>\n",
              "      <td>5</td>\n",
              "      <td>Wednesday</td>\n",
              "      <td>Honda</td>\n",
              "      <td>Urban</td>\n",
              "      <td>Tuesday</td>\n",
              "      <td>Jan</td>\n",
              "      <td>1</td>\n",
              "      <td>Female</td>\n",
              "      <td>Single</td>\n",
              "      <td>...</td>\n",
              "      <td>3 years</td>\n",
              "      <td>26 to 30</td>\n",
              "      <td>No</td>\n",
              "      <td>No</td>\n",
              "      <td>External</td>\n",
              "      <td>none</td>\n",
              "      <td>1 year</td>\n",
              "      <td>3 to 4</td>\n",
              "      <td>1994</td>\n",
              "      <td>Liability</td>\n",
              "    </tr>\n",
              "    <tr>\n",
              "      <th>1</th>\n",
              "      <td>Jan</td>\n",
              "      <td>3</td>\n",
              "      <td>Wednesday</td>\n",
              "      <td>Honda</td>\n",
              "      <td>Urban</td>\n",
              "      <td>Monday</td>\n",
              "      <td>Jan</td>\n",
              "      <td>4</td>\n",
              "      <td>Male</td>\n",
              "      <td>Single</td>\n",
              "      <td>...</td>\n",
              "      <td>6 years</td>\n",
              "      <td>31 to 35</td>\n",
              "      <td>Yes</td>\n",
              "      <td>No</td>\n",
              "      <td>External</td>\n",
              "      <td>none</td>\n",
              "      <td>no change</td>\n",
              "      <td>1 vehicle</td>\n",
              "      <td>1994</td>\n",
              "      <td>Collision</td>\n",
              "    </tr>\n",
              "    <tr>\n",
              "      <th>2</th>\n",
              "      <td>Oct</td>\n",
              "      <td>5</td>\n",
              "      <td>Friday</td>\n",
              "      <td>Honda</td>\n",
              "      <td>Urban</td>\n",
              "      <td>Thursday</td>\n",
              "      <td>Nov</td>\n",
              "      <td>2</td>\n",
              "      <td>Male</td>\n",
              "      <td>Married</td>\n",
              "      <td>...</td>\n",
              "      <td>7 years</td>\n",
              "      <td>41 to 50</td>\n",
              "      <td>No</td>\n",
              "      <td>No</td>\n",
              "      <td>External</td>\n",
              "      <td>none</td>\n",
              "      <td>no change</td>\n",
              "      <td>1 vehicle</td>\n",
              "      <td>1994</td>\n",
              "      <td>Collision</td>\n",
              "    </tr>\n",
              "    <tr>\n",
              "      <th>3</th>\n",
              "      <td>Jun</td>\n",
              "      <td>2</td>\n",
              "      <td>Saturday</td>\n",
              "      <td>Toyota</td>\n",
              "      <td>Rural</td>\n",
              "      <td>Friday</td>\n",
              "      <td>Jul</td>\n",
              "      <td>1</td>\n",
              "      <td>Male</td>\n",
              "      <td>Married</td>\n",
              "      <td>...</td>\n",
              "      <td>more than 7</td>\n",
              "      <td>51 to 65</td>\n",
              "      <td>Yes</td>\n",
              "      <td>No</td>\n",
              "      <td>External</td>\n",
              "      <td>more than 5</td>\n",
              "      <td>no change</td>\n",
              "      <td>1 vehicle</td>\n",
              "      <td>1994</td>\n",
              "      <td>Liability</td>\n",
              "    </tr>\n",
              "    <tr>\n",
              "      <th>4</th>\n",
              "      <td>Jan</td>\n",
              "      <td>5</td>\n",
              "      <td>Monday</td>\n",
              "      <td>Honda</td>\n",
              "      <td>Urban</td>\n",
              "      <td>Tuesday</td>\n",
              "      <td>Feb</td>\n",
              "      <td>2</td>\n",
              "      <td>Female</td>\n",
              "      <td>Single</td>\n",
              "      <td>...</td>\n",
              "      <td>5 years</td>\n",
              "      <td>31 to 35</td>\n",
              "      <td>No</td>\n",
              "      <td>No</td>\n",
              "      <td>External</td>\n",
              "      <td>none</td>\n",
              "      <td>no change</td>\n",
              "      <td>1 vehicle</td>\n",
              "      <td>1994</td>\n",
              "      <td>Collision</td>\n",
              "    </tr>\n",
              "  </tbody>\n",
              "</table>\n",
              "<p>5 rows × 33 columns</p>\n",
              "</div>"
            ],
            "text/plain": [
              "  Month  WeekOfMonth  DayOfWeek    Make AccidentArea DayOfWeekClaimed  \\\n",
              "0   Dec            5  Wednesday   Honda        Urban          Tuesday   \n",
              "1   Jan            3  Wednesday   Honda        Urban           Monday   \n",
              "2   Oct            5     Friday   Honda        Urban         Thursday   \n",
              "3   Jun            2   Saturday  Toyota        Rural           Friday   \n",
              "4   Jan            5     Monday   Honda        Urban          Tuesday   \n",
              "\n",
              "  MonthClaimed  WeekOfMonthClaimed     Sex MaritalStatus  ...  AgeOfVehicle  \\\n",
              "0          Jan                   1  Female        Single  ...       3 years   \n",
              "1          Jan                   4    Male        Single  ...       6 years   \n",
              "2          Nov                   2    Male       Married  ...       7 years   \n",
              "3          Jul                   1    Male       Married  ...   more than 7   \n",
              "4          Feb                   2  Female        Single  ...       5 years   \n",
              "\n",
              "  AgeOfPolicyHolder PoliceReportFiled WitnessPresent AgentType  \\\n",
              "0          26 to 30                No             No  External   \n",
              "1          31 to 35               Yes             No  External   \n",
              "2          41 to 50                No             No  External   \n",
              "3          51 to 65               Yes             No  External   \n",
              "4          31 to 35                No             No  External   \n",
              "\n",
              "   NumberOfSuppliments  AddressChange_Claim  NumberOfCars  Year  BasePolicy  \n",
              "0                 none               1 year        3 to 4  1994   Liability  \n",
              "1                 none            no change     1 vehicle  1994   Collision  \n",
              "2                 none            no change     1 vehicle  1994   Collision  \n",
              "3          more than 5            no change     1 vehicle  1994   Liability  \n",
              "4                 none            no change     1 vehicle  1994   Collision  \n",
              "\n",
              "[5 rows x 33 columns]"
            ]
          },
          "execution_count": 3,
          "metadata": {},
          "output_type": "execute_result"
        }
      ],
      "source": [
        "df_dataset.head()"
      ]
    },
    {
      "cell_type": "code",
      "execution_count": 4,
      "metadata": {
        "colab": {
          "base_uri": "https://localhost:8080/"
        },
        "id": "vuTI40Y06Nsa",
        "outputId": "48e57588-aaf3-4f36-d698-8e12e4e07c47"
      },
      "outputs": [
        {
          "name": "stdout",
          "output_type": "stream",
          "text": [
            "<class 'pandas.core.frame.DataFrame'>\n",
            "RangeIndex: 15420 entries, 0 to 15419\n",
            "Data columns (total 33 columns):\n",
            " #   Column                Non-Null Count  Dtype \n",
            "---  ------                --------------  ----- \n",
            " 0   Month                 15420 non-null  object\n",
            " 1   WeekOfMonth           15420 non-null  int64 \n",
            " 2   DayOfWeek             15420 non-null  object\n",
            " 3   Make                  15420 non-null  object\n",
            " 4   AccidentArea          15420 non-null  object\n",
            " 5   DayOfWeekClaimed      15420 non-null  object\n",
            " 6   MonthClaimed          15420 non-null  object\n",
            " 7   WeekOfMonthClaimed    15420 non-null  int64 \n",
            " 8   Sex                   15420 non-null  object\n",
            " 9   MaritalStatus         15420 non-null  object\n",
            " 10  Age                   15420 non-null  int64 \n",
            " 11  Fault                 15420 non-null  object\n",
            " 12  PolicyType            15420 non-null  object\n",
            " 13  VehicleCategory       15420 non-null  object\n",
            " 14  VehiclePrice          15420 non-null  object\n",
            " 15  FraudFound_P          15420 non-null  int64 \n",
            " 16  PolicyNumber          15420 non-null  int64 \n",
            " 17  RepNumber             15420 non-null  int64 \n",
            " 18  Deductible            15420 non-null  int64 \n",
            " 19  DriverRating          15420 non-null  int64 \n",
            " 20  Days_Policy_Accident  15420 non-null  object\n",
            " 21  Days_Policy_Claim     15420 non-null  object\n",
            " 22  PastNumberOfClaims    15420 non-null  object\n",
            " 23  AgeOfVehicle          15420 non-null  object\n",
            " 24  AgeOfPolicyHolder     15420 non-null  object\n",
            " 25  PoliceReportFiled     15420 non-null  object\n",
            " 26  WitnessPresent        15420 non-null  object\n",
            " 27  AgentType             15420 non-null  object\n",
            " 28  NumberOfSuppliments   15420 non-null  object\n",
            " 29  AddressChange_Claim   15420 non-null  object\n",
            " 30  NumberOfCars          15420 non-null  object\n",
            " 31  Year                  15420 non-null  int64 \n",
            " 32  BasePolicy            15420 non-null  object\n",
            "dtypes: int64(9), object(24)\n",
            "memory usage: 3.9+ MB\n"
          ]
        }
      ],
      "source": [
        "df_dataset.info()"
      ]
    },
    {
      "cell_type": "markdown",
      "metadata": {},
      "source": [
        "### 3.2. Valores únicos de cada coluna\n",
        "\n",
        "Verificar quais os possíveis valores encontrados na base de dados para cada atributo. Além disso, essa parte será útil para identificar possíveis valores faltantes ou incomuns."
      ]
    },
    {
      "cell_type": "code",
      "execution_count": 5,
      "metadata": {},
      "outputs": [
        {
          "name": "stdout",
          "output_type": "stream",
          "text": [
            "--> 'Month' possui 12 valores únicos, são eles:\n",
            " ['Dec' 'Jan' 'Oct' 'Jun' 'Feb' 'Nov' 'Apr' 'Mar' 'Aug' 'Jul' 'May' 'Sep']\n",
            "--> 'WeekOfMonth' possui 5 valores únicos, são eles:\n",
            " [5 3 2 4 1]\n",
            "--> 'DayOfWeek' possui 7 valores únicos, são eles:\n",
            " ['Wednesday' 'Friday' 'Saturday' 'Monday' 'Tuesday' 'Sunday' 'Thursday']\n",
            "--> 'Make' possui 19 valores únicos, são eles:\n",
            " ['Honda' 'Toyota' 'Ford' 'Mazda' 'Chevrolet' 'Pontiac' 'Accura' 'Dodge'\n",
            " 'Mercury' 'Jaguar' 'Nisson' 'VW' 'Saab' 'Saturn' 'Porche' 'BMW' 'Mecedes'\n",
            " 'Ferrari' 'Lexus']\n",
            "--> 'AccidentArea' possui 2 valores únicos, são eles:\n",
            " ['Urban' 'Rural']\n",
            "--> 'DayOfWeekClaimed' possui 8 valores únicos, são eles:\n",
            " ['Tuesday' 'Monday' 'Thursday' 'Friday' 'Wednesday' 'Saturday' 'Sunday'\n",
            " '0']\n",
            "--> 'MonthClaimed' possui 13 valores únicos, são eles:\n",
            " ['Jan' 'Nov' 'Jul' 'Feb' 'Mar' 'Dec' 'Apr' 'Aug' 'May' 'Jun' 'Sep' 'Oct'\n",
            " '0']\n",
            "--> 'WeekOfMonthClaimed' possui 5 valores únicos, são eles:\n",
            " [1 4 2 3 5]\n",
            "--> 'Sex' possui 2 valores únicos, são eles:\n",
            " ['Female' 'Male']\n",
            "--> 'MaritalStatus' possui 4 valores únicos, são eles:\n",
            " ['Single' 'Married' 'Widow' 'Divorced']\n",
            "--> 'Age' possui 66 valores únicos, são eles:\n",
            " [21 34 47 65 27 20 36  0 30 42 71 52 28 61 38 41 32 40 63 31 45 60 39 55\n",
            " 35 44 72 29 37 59 49 50 26 48 64 33 74 23 25 56 16 68 18 51 22 53 46 43\n",
            " 57 54 69 67 19 78 77 75 80 58 73 24 76 62 79 70 17 66]\n",
            "--> 'Fault' possui 2 valores únicos, são eles:\n",
            " ['Policy Holder' 'Third Party']\n",
            "--> 'PolicyType' possui 9 valores únicos, são eles:\n",
            " ['Sport - Liability' 'Sport - Collision' 'Sedan - Liability'\n",
            " 'Utility - All Perils' 'Sedan - All Perils' 'Sedan - Collision'\n",
            " 'Utility - Collision' 'Utility - Liability' 'Sport - All Perils']\n",
            "--> 'VehicleCategory' possui 3 valores únicos, são eles:\n",
            " ['Sport' 'Utility' 'Sedan']\n",
            "--> 'VehiclePrice' possui 6 valores únicos, são eles:\n",
            " ['more than 69000' '20000 to 29000' '30000 to 39000' 'less than 20000'\n",
            " '40000 to 59000' '60000 to 69000']\n",
            "--> 'FraudFound_P' possui 2 valores únicos, são eles:\n",
            " [0 1]\n",
            "--> 'PolicyNumber' possui 15420 valores únicos, são eles:\n",
            " [    1     2     3 ... 15418 15419 15420]\n",
            "--> 'RepNumber' possui 16 valores únicos, são eles:\n",
            " [12 15  7  4  3 14  1 13 11 16  6  2  8  5  9 10]\n",
            "--> 'Deductible' possui 4 valores únicos, são eles:\n",
            " [300 400 500 700]\n",
            "--> 'DriverRating' possui 4 valores únicos, são eles:\n",
            " [1 4 3 2]\n",
            "--> 'Days_Policy_Accident' possui 5 valores únicos, são eles:\n",
            " ['more than 30' '15 to 30' 'none' '1 to 7' '8 to 15']\n",
            "--> 'Days_Policy_Claim' possui 4 valores únicos, são eles:\n",
            " ['more than 30' '15 to 30' '8 to 15' 'none']\n",
            "--> 'PastNumberOfClaims' possui 4 valores únicos, são eles:\n",
            " ['none' '1' '2 to 4' 'more than 4']\n",
            "--> 'AgeOfVehicle' possui 8 valores únicos, são eles:\n",
            " ['3 years' '6 years' '7 years' 'more than 7' '5 years' 'new' '4 years'\n",
            " '2 years']\n",
            "--> 'AgeOfPolicyHolder' possui 9 valores únicos, são eles:\n",
            " ['26 to 30' '31 to 35' '41 to 50' '51 to 65' '21 to 25' '36 to 40'\n",
            " '16 to 17' 'over 65' '18 to 20']\n",
            "--> 'PoliceReportFiled' possui 2 valores únicos, são eles:\n",
            " ['No' 'Yes']\n",
            "--> 'WitnessPresent' possui 2 valores únicos, são eles:\n",
            " ['No' 'Yes']\n",
            "--> 'AgentType' possui 2 valores únicos, são eles:\n",
            " ['External' 'Internal']\n",
            "--> 'NumberOfSuppliments' possui 4 valores únicos, são eles:\n",
            " ['none' 'more than 5' '3 to 5' '1 to 2']\n",
            "--> 'AddressChange_Claim' possui 5 valores únicos, são eles:\n",
            " ['1 year' 'no change' '4 to 8 years' '2 to 3 years' 'under 6 months']\n",
            "--> 'NumberOfCars' possui 5 valores únicos, são eles:\n",
            " ['3 to 4' '1 vehicle' '2 vehicles' '5 to 8' 'more than 8']\n",
            "--> 'Year' possui 3 valores únicos, são eles:\n",
            " [1994 1995 1996]\n",
            "--> 'BasePolicy' possui 3 valores únicos, são eles:\n",
            " ['Liability' 'Collision' 'All Perils']\n"
          ]
        }
      ],
      "source": [
        "for coluna in df_dataset.columns:\n",
        "    valores_unicos = df_dataset[coluna].unique()\n",
        "    print(f\"--> '{coluna}' possui {len(valores_unicos)} valores únicos, são eles:\\n {valores_unicos}\")"
      ]
    },
    {
      "cell_type": "markdown",
      "metadata": {},
      "source": [
        "### 3.3. Resumo sobre as colunas\n",
        "\n",
        "Breve entendimento de cada atributo. Levando em conta o contexto do problema, em geral o nome da coluna é autoexplicativo, porém, em alguns momentos pode dar margem à mais de uma interpretação. Aqui explicarei o que é cada atributo, como trabalharei com ele e problemas que precisam ser investigados."
      ]
    },
    {
      "cell_type": "markdown",
      "metadata": {},
      "source": [
        "1. **Month** (object):  \n",
        "    - considerarei como o mês em que o acidente ocorreu\n",
        "    - mês abreviado (3 primeiras letras, em inglês)\n",
        "    - contém os 12 possíveis meses, não há valores faltantes nem incompatíveis\n",
        "\n",
        "2. **WeekOfMonth** (int64):\n",
        "    - considerarei como a semana do mês em que o acidente ocorreu\n",
        "    - contém valores inteiros de 1 a 5\n",
        "\n",
        "3. **DayOfWeek** (object):\n",
        "    - considerarei como o dia da semana em que o acidente ocorreu\n",
        "    - nome do dia da semana completo, em inglês\n",
        "    - contém os 7 possíveis dias da semana, não há valores faltantes nem incompatíveis\n",
        "\n",
        "4. **Make** (object):\n",
        "    - considerarei como a marca do veículo envolvido no acidente\n",
        "    - contém uma lista com 19 fabricantes\n",
        "\n",
        "5. **AccidentArea** (object):\n",
        "    - informa se o acidente ocorreu em uma área rural ou urbana\n",
        "\n",
        "6. **DayOfWeekClaimed** (object):\n",
        "    - dia da semana referente ao pedido de seguro\n",
        "    - nome do dia da semana completo, em inglês\n",
        "    - contém 8 valores únicos (7 possíveis dias da semana + '0'), a seguir serão investigados mais a fundo\n",
        "\n",
        "7. **MonthClaimed** (object):\n",
        "    - mês referente ao pedido de seguro\n",
        "    - mês abreviado (3 primeiras letras, em inglês)\n",
        "    - contém 13 valores únicos (12 possíves meses + '0'), a seguir serão investigados mais a fundo\n",
        "\n",
        "8. **WeekOfMonthClaimed** (int64):\n",
        "    - semana do mês referente ao pedido de seguro\n",
        "    - contém valores inteiros de 1 a 5\n",
        "\n",
        "9. **Sex** (object):\n",
        "    - é o sexo biológico da pessoa envolvida no acidente ou da pessoa solicitando o seguro? (considerarei a primeira opção)\n",
        "    - pode ser: sexo masculino ou feminino\n",
        "\n",
        "10. **MaritalStatus** (object):\n",
        "    - é o estado civil da pessoa envolvida no acidente ou da pessoa solicitando o seguro? (considerarei a primeira opção)\n",
        "    - pode ser: solteiro, casado, divorciado ou viúvo\n",
        "\n",
        "11. **Age** (int64):\n",
        "    - é a idade da pessoa envolvida no acidente ou da pessoa solicitando o seguro? (considerarei a primeira opção)\n",
        "    - valores inteiros de 16 a 80 (a seguir, o valor '0' será investigado mais a fundo)\n",
        "\n",
        "12. **Fault** (object):\n",
        "    - indica quem foi considerado como o responsável pelo acidente\n",
        "    - pode ser: titular do seguro ou terceiro\n",
        "\n",
        "13. **PolicyType** (object):\n",
        "    - indica o tipo da apólice contratada\n",
        "    - contém uma lista com 9 tipos, onde cada um é composto por 'categoria do veículo' + 'tipo do seguro'\n",
        "        - categoria do veículo: sport, sedan, utility\n",
        "        - tipo de seguro: liability, all perils, collision\n",
        "    - já existe um atributo para indicar a categoria do veículo (VehicleCategory) e outra para indicar o tipo de seguro (BasePolicy), a seguir verificarei como tratar essas informações duplicadas\n",
        "\n",
        "14. **VehicleCategory** (object):\n",
        "    - indica a categoria do veículo registrado na apólice/envolvido no acidente\n",
        "    - pode ser: sport, sedan, utility\n",
        "\n",
        "15. **VehiclePrice** (object):\n",
        "    - indica o preço do veículo envolvido no acidente\n",
        "    - contém 6 faixas de valores (provavelmente em dólares) \n",
        "    - duas abordagens serão avaliadas: considerar como um dado categórico ou substituir os intervalos pelo valor médio\n",
        "\n",
        "16. **FraudFound_P** (int64):\n",
        "    - indica se aquela solicitação foi ou não uma fraude\n",
        "    - é o atributo alvo\n",
        "\n",
        "17. **PolicyNumber** (int64):\n",
        "    - identifica cada pedido de seguro\n",
        "    - contém 15420 valores inteiros únicos, de 1 a 15420\n",
        "    - a seguir será verificada a relação entre o número da linha e o PolicyNumber, possivelmente são a mesma coisa\n",
        "\n",
        "18. **RepNumber** (int64):\n",
        "    - indica o número do representante\n",
        "    - contém valores inteiros de 1 a 16\n",
        "    - não fica claro a relevância do parâmetro para o problema, a seguir isso será investigado\n",
        "\n",
        "19. **Deductible** (int64):\n",
        "    - indica o valor da franquia do seguro\n",
        "    - 4 opções de valores inteiros: 300, 400, 500 e 700\n",
        "\n",
        "20. **DriverRating** (int64):\n",
        "    - alguma métrica de avaliação do motorista\n",
        "    - contém valores inteiros de 1 a 4\n",
        "    - não fica claro se esses dados se traduzem em categorias ou se estão dentro de um certo intervalo de avaliação\n",
        "\n",
        "21. **Days_Policy_Accident** (object):\n",
        "    - será considerado como o número de dias que se passaram entre a compra da apólice e o acidente\n",
        "    - contém 5 faixas de valores \n",
        "    - duas abordagens serão avaliadas: considerar como um dado categórico ou substituir os intervalos pelo valor médio\n",
        "\n",
        "22. **Days_Policy_Claim** (object):\n",
        "    - será considerado como o número de dias que se passaram entre a compra da apólice e o pedido de indenização\n",
        "    - contém 4 faixas de valores \n",
        "    - duas abordagens serão avaliadas: considerar como um dado categórico ou substituir os intervalos pelo valor médio\n",
        "\n",
        "23. **PastNumberOfClaims** (object):\n",
        "    - indica quantas vezes a mesma pessoa realizou pedidos de indenização\n",
        "    - contém 4 faixas de valores\n",
        "\n",
        "24. **AgeOfVehicle** (object):\n",
        "    - indica a idade do veículo (considerarei referenre ao momento do acidente)\n",
        "    - contém 8 faixas de valores \n",
        "    - duas abordagens serão avaliadas: considerar como um dado categórico ou substituir os intervalos pelo valor médio\n",
        "\n",
        "25. **AgeOfPolicyHolder** (object):\n",
        "    - indica a idade do titular da apólice\n",
        "    - contém 9 faixas de valores\n",
        "    - duas abordagens serão avaliadas: considerar como um dado categórico ou substituir os intervalos pelo valor médio\n",
        "\n",
        "26. **PoliceReportFiled** (object):\n",
        "    - indica se foi feito um boletim de ocorrência para o acidente\n",
        "    - pode ser: sim ou não\n",
        "\n",
        "27. **WitnessPresent** (object):\n",
        "    - indica se uma testemunha estava presente no momento do acidente\n",
        "    - pode ser: sim ou não\n",
        "\n",
        "28. **AgentType** (object):\n",
        "    - classifica um agente (relacionado ao acidente ou ao pedido) como externo ou interno\n",
        "    - não fica claro a relevância do parâmetro para o problema, a seguir isso será investigado\n",
        "\n",
        "29. **NumberOfSuppliments** (object):\n",
        "    - indica algum tipo de suplemento no seguro\n",
        "    - contém 4 faixas de valores\n",
        "    - duas abordagens serão avaliadas: considerar como um dado categórico ou substituir os intervalos pelo valor médio\n",
        "    - não fica claro a relevância do parâmetro para o problema, a seguir isso será investigado\n",
        "\n",
        "30. **AddressChange_Claim** (object):\n",
        "    - indica quantos anos se passaram entre a última vez que foi registrado uma mudança de endereço e o pedido de indenização\n",
        "    - contém 5 faixas de valores\n",
        "    - duas abordagens serão avaliadas: considerar como um dado categórico ou substituir os intervalos pelo valor médio\n",
        "\n",
        "31. **NumberOfCars** (object):\n",
        "    - considerarei como o número de carros cobertos pela apólice (outra possibilidade seria o número de carros envolvidos no acidente)\n",
        "    - contém 5 faixas de valores\n",
        "    - duas abordagens serão avaliadas: considerar como um dado categórico ou substituir os intervalos pelo valor médio\n",
        "\n",
        "32. **Year** (int64):\n",
        "    - considerarei como o ano em que o acidente ocorreu\n",
        "    - pode ser: 1994, 1995 e 1996\n",
        "\n",
        "33. **BasePolicy** (object):\n",
        "    - indica o tipo de seguro contratado\n",
        "    - pode ser: liability, all perils, collision"
      ]
    },
    {
      "cell_type": "markdown",
      "metadata": {},
      "source": [
        "## PARTE 4: Tratamento dos dados"
      ]
    },
    {
      "cell_type": "code",
      "execution_count": 6,
      "metadata": {},
      "outputs": [],
      "source": [
        "df_dataset_1 = df_dataset.copy()"
      ]
    },
    {
      "cell_type": "markdown",
      "metadata": {},
      "source": [
        "### 4.1. Verificar relação entre os índices das linhas do dataset e 'PolicyNumber'\n",
        "\n",
        "PolicyNumber é igual ao índice da linha+1?"
      ]
    },
    {
      "cell_type": "code",
      "execution_count": 7,
      "metadata": {},
      "outputs": [
        {
          "data": {
            "text/plain": [
              "<bound method NDFrame.describe of 0            1\n",
              "1            2\n",
              "2            3\n",
              "3            4\n",
              "4            5\n",
              "         ...  \n",
              "15415    15416\n",
              "15416    15417\n",
              "15417    15418\n",
              "15418    15419\n",
              "15419    15420\n",
              "Name: PolicyNumber, Length: 15420, dtype: int64>"
            ]
          },
          "execution_count": 7,
          "metadata": {},
          "output_type": "execute_result"
        }
      ],
      "source": [
        "df_dataset_1['PolicyNumber'].describe"
      ]
    },
    {
      "cell_type": "code",
      "execution_count": 8,
      "metadata": {},
      "outputs": [
        {
          "name": "stdout",
          "output_type": "stream",
          "text": [
            "Número de linhas do dataset: 15420\n",
            "Quantidade de linhas onde PolicyNumber = indice+1: 15420\n"
          ]
        }
      ],
      "source": [
        "df_dataset_total_linhas = len(df_dataset_1)\n",
        "\n",
        "PolicyNumber_e_indice = sum(1 if df_dataset_1['PolicyNumber'].iloc[indice] == indice+1 else 0 \\\n",
        "                                    for indice in range(df_dataset_total_linhas))\n",
        "\n",
        "print(f\"Número de linhas do dataset: {df_dataset_total_linhas}\")\n",
        "print(f\"Quantidade de linhas onde PolicyNumber = indice+1: {PolicyNumber_e_indice}\")"
      ]
    },
    {
      "cell_type": "markdown",
      "metadata": {},
      "source": [
        "Como a suposição foi provada verdadeira, esta coluna será ignorada, pois não apresenta utilidade para o problema em questão."
      ]
    },
    {
      "cell_type": "code",
      "execution_count": 9,
      "metadata": {},
      "outputs": [],
      "source": [
        "df_dataset_1.drop(columns='PolicyNumber', inplace=True)"
      ]
    },
    {
      "cell_type": "markdown",
      "metadata": {},
      "source": [
        "### 4.2. Tratar o valor 0 encontrado em 'DayOfWeekClaimed', 'MonthClaimed' e 'Age'"
      ]
    },
    {
      "cell_type": "code",
      "execution_count": 10,
      "metadata": {},
      "outputs": [
        {
          "name": "stdout",
          "output_type": "stream",
          "text": [
            "DayOfWeekClaimed e MonthClaimed possuem o valor '0' na(s) mesma(s) linha(s): True\n",
            "Índice(s): [1516]\n"
          ]
        }
      ],
      "source": [
        "##### 'DayOfWeekClaimed' e 'MonthClaimed'\n",
        "\n",
        "DayOfWeekClaimed_zeros = df_dataset_1.index[df_dataset_1['DayOfWeekClaimed'] == '0'].tolist()\n",
        "MonthClaimed_zeros = df_dataset_1.index[df_dataset_1['MonthClaimed'] == '0'].tolist()\n",
        "\n",
        "print(\"DayOfWeekClaimed e MonthClaimed possuem o valor '0' na(s) mesma(s) linha(s):\", DayOfWeekClaimed_zeros == MonthClaimed_zeros)\n",
        "print(\"Índice(s):\", DayOfWeekClaimed_zeros)\n",
        "\n",
        "# como trata-se apenas de uma única ocorrência, a linha correspondente será eliminada\n",
        "df_dataset_1 = df_dataset_1.drop(DayOfWeekClaimed_zeros)\n",
        "df_dataset_1.reset_index(drop=True, inplace=True)\n"
      ]
    },
    {
      "cell_type": "code",
      "execution_count": 11,
      "metadata": {},
      "outputs": [
        {
          "name": "stdout",
          "output_type": "stream",
          "text": [
            "Age possui o valor '0' em 319 linhas. \n",
            "\n",
            "--> Correspondência para 'Sex': ['Male']\n",
            "--> Correspondência para 'MaritalStatus': ['Single']\n",
            "--> Correspondência para 'Days_Policy_Accident': ['more than 30']\n",
            "--> Correspondência para 'Days_Policy_Claim': ['more than 30']\n",
            "--> Correspondência para 'AgeOfPolicyHolder': ['16 to 17']\n"
          ]
        }
      ],
      "source": [
        "##### 'Age'\n",
        "\n",
        "Age_zeros = df_dataset_1.index[df_dataset_1['Age'] == 0].tolist()\n",
        "print(f\"Age possui o valor '0' em {len(Age_zeros)} linhas. \\n\")\n",
        "\n",
        "# partirei do seguinte questionamento: nessas ocasiões, existe alguma relação com outra coluna que pode ser útil?\n",
        "\n",
        "for coluna in df_dataset_1.columns:\n",
        "    linhas_age0 = df_dataset_1.loc[df_dataset_1['Age']==0, coluna].unique()\n",
        "    if len(linhas_age0) < 2 and coluna != 'Age':\n",
        "        print(f\"--> Correspondência para '{coluna}': {linhas_age0}\")\n"
      ]
    },
    {
      "cell_type": "code",
      "execution_count": 12,
      "metadata": {},
      "outputs": [
        {
          "data": {
            "text/plain": [
              "16 to 17     319\n",
              "18 to 20      15\n",
              "21 to 25     108\n",
              "26 to 30     613\n",
              "31 to 35    5593\n",
              "36 to 40    4043\n",
              "41 to 50    2828\n",
              "51 to 65    1392\n",
              "over 65      508\n",
              "Name: AgeOfPolicyHolder, dtype: int64"
            ]
          },
          "execution_count": 12,
          "metadata": {},
          "output_type": "execute_result"
        }
      ],
      "source": [
        "df_dataset_1['AgeOfPolicyHolder'].value_counts().sort_index()"
      ]
    },
    {
      "cell_type": "markdown",
      "metadata": {},
      "source": [
        "Verificando as colunas que possuem sempre a mesma correspondência, à primeira vista, aquela que pode dar uma solução para Age==0 é 'AgeOfPolicyHolder'.\n",
        "\n",
        "E, de fato, considerando todo o dataset, temos uma frequência de 319 para '16 to 17' em AgeOfPolicyHolder. Exatamente a mesma quantidade de linhas com Age==0.\n",
        "\n",
        "Investigarei o seguinte: 'Age' sempre está dentro do intervalo de 'AgeOfPolicyHolder'?"
      ]
    },
    {
      "cell_type": "code",
      "execution_count": 13,
      "metadata": {},
      "outputs": [
        {
          "name": "stdout",
          "output_type": "stream",
          "text": [
            "Em 7241 linhas 'Age' não corresponde a 'AgeOfPolicyHolder'. O que representa 46.96% do total de linhas.\n"
          ]
        }
      ],
      "source": [
        "# extrair os limites dos intervalos em 'AgeOfPolicyHolder'\n",
        "get_intervalo_AgeOfPolicyHolder = lambda linha: [int(linha[:2]), int(linha[-2:])] if 'to' in linha else [int(linha[-2:]), 200]\n",
        "\n",
        "df_dataset_total_linhas = len(df_dataset_1)\n",
        "total = 0\n",
        "\n",
        "for indice in range(df_dataset_total_linhas):\n",
        "    idade = df_dataset_1['Age'].iloc[indice]\n",
        "    intervalo_idade = get_intervalo_AgeOfPolicyHolder(df_dataset_1['AgeOfPolicyHolder'].iloc[indice])\n",
        "    if ~(idade >= intervalo_idade[0] and idade <= intervalo_idade[1]): total += 1\n",
        "\n",
        "print(f\"Em {total} linhas 'Age' não corresponde a 'AgeOfPolicyHolder'. O que representa {total/df_dataset_total_linhas:.2%} do total de linhas.\")"
      ]
    },
    {
      "cell_type": "markdown",
      "metadata": {},
      "source": [
        "A resposta para o questionamento é 'não'. Ou seja, o indivíduo envolvido no acidente não necessariamente é a pessoa titular da apólice do seguro. \n",
        "\n",
        "Apesar disso, para não excluir essa quantidade de linhas do dataset, a opção escolhida para dar seguimento ao projeto é a de substituir o valor de 0 de 'Age' pela média do intervalo de 'AgeOfPolicyHolder'."
      ]
    },
    {
      "cell_type": "code",
      "execution_count": 14,
      "metadata": {},
      "outputs": [
        {
          "name": "stdout",
          "output_type": "stream",
          "text": [
            "Age possui o valor '0' em 0 linhas. \n",
            "\n",
            "Age possui o valor '16.5' em 319 linhas. \n",
            "\n"
          ]
        }
      ],
      "source": [
        "df_dataset_1.loc[df_dataset_1['Age']==0, 'Age'] = 16.5\n",
        "\n",
        "Age_zeros = df_dataset_1.index[df_dataset_1['Age'] == 0].tolist()\n",
        "print(f\"Age possui o valor '0' em {len(Age_zeros)} linhas. \\n\")\n",
        "\n",
        "Age_mean = df_dataset_1.index[df_dataset_1['Age'] == 16.5].tolist()\n",
        "print(f\"Age possui o valor '16.5' em {len(Age_mean)} linhas. \\n\")"
      ]
    },
    {
      "cell_type": "markdown",
      "metadata": {},
      "source": [
        "### 4.3. Verificar relação entre 'PolicyType', 'VehicleCategory' e 'BasePolicy'\n",
        "\n",
        "PolicyType = \"VehicleCategory - BasePolicy\"?"
      ]
    },
    {
      "cell_type": "code",
      "execution_count": 15,
      "metadata": {},
      "outputs": [
        {
          "data": {
            "text/plain": [
              "<bound method NDFrame.describe of                PolicyType VehicleCategory  BasePolicy\n",
              "0       Sport - Liability           Sport   Liability\n",
              "1       Sport - Collision           Sport   Collision\n",
              "2       Sport - Collision           Sport   Collision\n",
              "3       Sedan - Liability           Sport   Liability\n",
              "4       Sport - Collision           Sport   Collision\n",
              "...                   ...             ...         ...\n",
              "15414   Sedan - Collision           Sedan   Collision\n",
              "15415   Sedan - Liability           Sport   Liability\n",
              "15416   Sedan - Collision           Sedan   Collision\n",
              "15417  Sedan - All Perils           Sedan  All Perils\n",
              "15418   Sedan - Collision           Sedan   Collision\n",
              "\n",
              "[15419 rows x 3 columns]>"
            ]
          },
          "execution_count": 15,
          "metadata": {},
          "output_type": "execute_result"
        }
      ],
      "source": [
        "df_dataset_1[['PolicyType', 'VehicleCategory', 'BasePolicy']].describe"
      ]
    },
    {
      "cell_type": "code",
      "execution_count": 16,
      "metadata": {},
      "outputs": [
        {
          "name": "stdout",
          "output_type": "stream",
          "text": [
            "'PolicyType' corresponde a 'VehicleCategory - BasePolicy' em 10432 linhas. O que representa 67.66% do total de linhas.\n"
          ]
        }
      ],
      "source": [
        "df_dataset_total_linhas = len(df_dataset_1)\n",
        "total = 0\n",
        "\n",
        "for indice in range(df_dataset_total_linhas):\n",
        "    PolicyType = df_dataset_1['PolicyType'].iloc[indice]\n",
        "    VehicleCategory_BasePolicy = f\"{df_dataset_1['VehicleCategory'].iloc[indice]} - {df_dataset_1['BasePolicy'].iloc[indice]}\"\n",
        "    if PolicyType == VehicleCategory_BasePolicy: total += 1\n",
        "\n",
        "print(f\"'PolicyType' corresponde a 'VehicleCategory - BasePolicy' em {total} linhas. O que representa {total/df_dataset_total_linhas:.2%} do total de linhas.\")"
      ]
    },
    {
      "cell_type": "markdown",
      "metadata": {},
      "source": [
        "A suposição foi provada falsa, portanto, nada será feito com essas três colunas. Mesmo se a suposição fosse verdadeira, ter as informações tanto separadas quanto combinadas pode ser útil para o modelo a ser construído."
      ]
    },
    {
      "cell_type": "markdown",
      "metadata": {},
      "source": [
        "## PARTE 5: Investigar relações com a variável alvo\n",
        "\n",
        "Usar de testes estatísticos e recursos gráficos para verificar as relações entre os atributos e o target ('FraudFound_P')."
      ]
    },
    {
      "cell_type": "markdown",
      "metadata": {},
      "source": [
        "### 5.1 Teste de Independência\n",
        "\n",
        "Considerando os diferentes tipos de atributos (numéricos, binários, categóricos), a abordagem escolhida leva em conta a tabela de contigência para cada par coluna e target. Será realizado o teste de independência chi-quadrado, onde a hipótese nula **$H_0$** é que as colunas **não têm relação** e a hipótese alternativa **$H_1$** é que **existe relação** entre as colunas. O nível de significância (alfa) considerado é de 0,05.\n",
        "\n",
        "Para os resultados dos testes:\n",
        "\n",
        "- Se o valor-p encontrado for **maior que alfa**, não rejeitamos a hipótese nula. Podemos dizer que o resultado do teste não detecta uma relação significativa entre as variáveis;\n",
        "\n",
        "- Se o valor-p encontrado for **menor que alfa**, podemos dizer que há evidências estatísticas suficientes de que existe alguma relação entre as variáveis."
      ]
    },
    {
      "cell_type": "code",
      "execution_count": 17,
      "metadata": {},
      "outputs": [
        {
          "data": {
            "text/html": [
              "<div>\n",
              "<style scoped>\n",
              "    .dataframe tbody tr th:only-of-type {\n",
              "        vertical-align: middle;\n",
              "    }\n",
              "\n",
              "    .dataframe tbody tr th {\n",
              "        vertical-align: top;\n",
              "    }\n",
              "\n",
              "    .dataframe thead th {\n",
              "        text-align: right;\n",
              "    }\n",
              "</style>\n",
              "<table border=\"1\" class=\"dataframe\">\n",
              "  <thead>\n",
              "    <tr style=\"text-align: right;\">\n",
              "      <th>FraudFound_P</th>\n",
              "      <th>0</th>\n",
              "      <th>1</th>\n",
              "    </tr>\n",
              "    <tr>\n",
              "      <th>MaritalStatus</th>\n",
              "      <th></th>\n",
              "      <th></th>\n",
              "    </tr>\n",
              "  </thead>\n",
              "  <tbody>\n",
              "    <tr>\n",
              "      <th>Divorced</th>\n",
              "      <td>73</td>\n",
              "      <td>3</td>\n",
              "    </tr>\n",
              "    <tr>\n",
              "      <th>Married</th>\n",
              "      <td>9986</td>\n",
              "      <td>639</td>\n",
              "    </tr>\n",
              "    <tr>\n",
              "      <th>Single</th>\n",
              "      <td>4405</td>\n",
              "      <td>278</td>\n",
              "    </tr>\n",
              "    <tr>\n",
              "      <th>Widow</th>\n",
              "      <td>32</td>\n",
              "      <td>3</td>\n",
              "    </tr>\n",
              "  </tbody>\n",
              "</table>\n",
              "</div>"
            ],
            "text/plain": [
              "FraudFound_P      0    1\n",
              "MaritalStatus           \n",
              "Divorced         73    3\n",
              "Married        9986  639\n",
              "Single         4405  278\n",
              "Widow            32    3"
            ]
          },
          "execution_count": 17,
          "metadata": {},
          "output_type": "execute_result"
        }
      ],
      "source": [
        "# exemplo de tabela de contigência\n",
        "pd.crosstab(df_dataset_1['MaritalStatus'], df_dataset_1['FraudFound_P'])"
      ]
    },
    {
      "cell_type": "code",
      "execution_count": 18,
      "metadata": {},
      "outputs": [
        {
          "name": "stdout",
          "output_type": "stream",
          "text": [
            "Há evidências estatísticas suficientes de que existe alguma relação entre FraudFound_P e os seguintes atributos:\n",
            "                Atributo            χ²       Valor-p\n",
            "10          FraudFound_P  15401.236138  0.000000e+00\n",
            "7             PolicyType    437.491381  1.768441e-89\n",
            "20            BasePolicy    402.947238  3.170436e-88\n",
            "8        VehicleCategory    290.980893  6.520817e-64\n",
            "6                  Fault    264.984556  1.406180e-59\n",
            "18   AddressChange_Claim    104.722693  9.704718e-22\n",
            "11            Deductible     72.406255  1.302831e-15\n",
            "9           VehiclePrice     67.836116  2.888324e-13\n",
            "13    PastNumberOfClaims     53.541755  1.405198e-11\n",
            "1                   Make     59.815292  2.191573e-06\n",
            "3           MonthClaimed     42.200514  1.495245e-05\n",
            "2           AccidentArea     16.901858  3.936304e-05\n",
            "15     AgeOfPolicyHolder     33.104861  5.896560e-05\n",
            "4                    Sex     13.495678  2.391135e-04\n",
            "17   NumberOfSuppliments     18.155527  4.085276e-04\n",
            "5                    Age    109.664968  4.472083e-04\n",
            "0                  Month     29.771469  1.720902e-03\n",
            "14          AgeOfVehicle     21.995137  2.545322e-03\n",
            "16             AgentType      7.380469  6.593597e-03\n",
            "19                  Year      9.592587  8.260307e-03\n",
            "12  Days_Policy_Accident     11.569842  2.085381e-02\n"
          ]
        }
      ],
      "source": [
        "# teste de independêndia chi-quadrado\n",
        "nivel_significancia = 0.05\n",
        "teste_independencia = []\n",
        "\n",
        "for coluna in df_dataset_1.columns:\n",
        "    tabela_contigencia = pd.crosstab(df_dataset_1[coluna], df_dataset_1['FraudFound_P'])\n",
        "    chi2_val, valor_p, _, __ = stats.chi2_contingency(tabela_contigencia)\n",
        "    if valor_p < nivel_significancia:\n",
        "        teste_independencia.append([coluna, chi2_val, valor_p])\n",
        "\n",
        "print(\"Há evidências estatísticas suficientes de que existe alguma relação entre FraudFound_P e os seguintes atributos:\")\n",
        "\n",
        "df_teste_independencia = pd.DataFrame(teste_independencia, columns=['Atributo', '\\u03C7\\u00B2', 'Valor-p'])\n",
        "df_teste_independencia.sort_values(by='Valor-p', inplace=True)\n",
        "print(df_teste_independencia)"
      ]
    },
    {
      "cell_type": "markdown",
      "metadata": {},
      "source": [
        "### 5.2 TODO\n",
        "\n",
        "Apenas com os atributos que mostram ter uma potencial relação com a variável alvo, utilizarei de recursos gráficos para visualizar mais a fundo essas relações e ver se é possível extrair algum insight."
      ]
    },
    {
      "cell_type": "code",
      "execution_count": 34,
      "metadata": {},
      "outputs": [
        {
          "data": {
            "text/plain": [
              "Sedan - Collision       5584\n",
              "Sedan - Liability       4987\n",
              "Sedan - All Perils      4086\n",
              "Sport - Collision        348\n",
              "Utility - All Perils     340\n",
              "Utility - Collision       30\n",
              "Sport - All Perils        22\n",
              "Utility - Liability       21\n",
              "Sport - Liability          1\n",
              "Name: PolicyType, dtype: int64"
            ]
          },
          "execution_count": 34,
          "metadata": {},
          "output_type": "execute_result"
        }
      ],
      "source": [
        "df_dataset_1['PolicyType'].value_counts()"
      ]
    },
    {
      "cell_type": "code",
      "execution_count": 33,
      "metadata": {},
      "outputs": [
        {
          "data": {
            "text/plain": [
              "PolicyType\n",
              "Sedan - All Perils      4086\n",
              "Sedan - Collision       5584\n",
              "Sedan - Liability       4987\n",
              "Sport - All Perils        22\n",
              "Sport - Collision        348\n",
              "Sport - Liability          1\n",
              "Utility - All Perils     340\n",
              "Utility - Collision       30\n",
              "Utility - Liability       21\n",
              "Name: PolicyType, dtype: int64"
            ]
          },
          "execution_count": 33,
          "metadata": {},
          "output_type": "execute_result"
        }
      ],
      "source": [
        "df_dataset_1['PolicyType'].groupby(df_dataset_1['PolicyType']).agg('count')"
      ]
    },
    {
      "cell_type": "code",
      "execution_count": null,
      "metadata": {},
      "outputs": [],
      "source": [
        "# Percentage by 'atributo' e Percentage by Total\n",
        "df_dataset_total_linhas = len(df_dataset_1)\n",
        "\n",
        "for coluna in df_teste_independencia['Atributo'].values: \n",
        "    # 1. total de registros por tipo\n",
        "    a = df_dataset_1[coluna].value_counts()\n",
        "\n",
        "    # 2. total de registros por tipo com FraudFound_P = 1\n",
        "    b = df_dataset_1.loc[df_dataset_1['FraudFound_P']==1, coluna].value_counts()\n",
        "    #df_dataset['PolicyType'].groupby(df_dataset['PolicyType']).agg('count')\n",
        "\n",
        "    # 2/1\n",
        "    c = b / a\n",
        "\n",
        "    # 2/df_dataset_total_linhas\n",
        "    d = b / df_dataset_total_linhas\n",
        "\n",
        "    #tabela_contigencia = pd.crosstab(df_dataset[coluna], df_dataset['FraudFound_P'])\n",
        "    #tabela_contigencia.plot.pie(subplots=True)\n",
        "    #tabela_contigencia.plot(kind='bar', rot=0, stacked=True)"
      ]
    },
    {
      "cell_type": "code",
      "execution_count": 41,
      "metadata": {},
      "outputs": [
        {
          "data": {
            "text/plain": [
              "Sedan - All Perils      411\n",
              "Sedan - Collision       384\n",
              "Sedan - Liability        36\n",
              "Sport - Collision        48\n",
              "Utility - All Perils     41\n",
              "Utility - Collision       3\n",
              "Name: PolicyType, dtype: int64"
            ]
          },
          "execution_count": 41,
          "metadata": {},
          "output_type": "execute_result"
        }
      ],
      "source": [
        "df_dataset_1.loc[df_dataset_1['FraudFound_P'] == 1, 'PolicyType'].value_counts().sort_index()"
      ]
    },
    {
      "cell_type": "code",
      "execution_count": 37,
      "metadata": {},
      "outputs": [
        {
          "name": "stdout",
          "output_type": "stream",
          "text": [
            "FraudFound_P             0    1\n",
            "PolicyType                     \n",
            "Sedan - All Perils    3675  411\n",
            "Sedan - Collision     5200  384\n",
            "Sedan - Liability     4951   36\n",
            "Sport - All Perils      22    0\n",
            "Sport - Collision      300   48\n",
            "Sport - Liability        1    0\n",
            "Utility - All Perils   299   41\n",
            "Utility - Collision     27    3\n",
            "Utility - Liability     21    0\n"
          ]
        },
        {
          "data": {
            "text/plain": [
              "<AxesSubplot:xlabel='PolicyType'>"
            ]
          },
          "execution_count": 37,
          "metadata": {},
          "output_type": "execute_result"
        },
        {
          "data": {
            "image/png": "[encoded data removed]",
            "text/plain": [
              "<Figure size 504x288 with 1 Axes>"
            ]
          },
          "metadata": {
            "needs_background": "light"
          },
          "output_type": "display_data"
        }
      ],
      "source": [
        "#colunas_analise_exploratoria = [i[0] for i in teste_independencia]\n",
        "#print(df_teste_independencia['Atributo'].values)\n",
        "\n",
        "#corr_matrix = df_dataset[df_teste_independencia['Atributo'].values].corr(method = 'spearman')\n",
        "#sn.heatmap(corr_matrix, annot=True)\n",
        "\n",
        "CrosstabResult=pd.crosstab(index=df_dataset_1['PolicyType'], columns=df_dataset_1['FraudFound_P'])\n",
        "print(CrosstabResult)\n",
        " \n",
        "# Grouped bar chart between GENDER and APPROVE_LOAN\n",
        "CrosstabResult.plot.bar(figsize=(7,4), rot=0)"
      ]
    },
    {
      "cell_type": "markdown",
      "metadata": {},
      "source": [
        "## PARTE 6: Transformar dados"
      ]
    },
    {
      "cell_type": "markdown",
      "metadata": {},
      "source": [
        "o que é RepNumber? o que é DriverRating? o que é AgentType? o que é NumberOfSuppliments?\n",
        "diferença entre mês do acidente e mês de solicitação (pode citar isso, mas a coluna Days_Policy_Claim e/ou Days_Policy_Accident já deve ajudar)"
      ]
    },
    {
      "cell_type": "code",
      "execution_count": 19,
      "metadata": {},
      "outputs": [],
      "source": [
        "df_dataset_2 = df_dataset_1.copy()"
      ]
    },
    {
      "cell_type": "markdown",
      "metadata": {},
      "source": [
        "### 6.1. Conversão de dados categóricos e binários\n",
        "\n",
        "A partir da investigação realizada anteriormente, os seguintes atributos categóricos podem ser transformados em binário:\n",
        "\n",
        "**AccidentArea**: 1=Urban, 0=Rural\n",
        "\n",
        "**Sex**: 1=Female, 0=Male\n",
        "\n",
        "**Fault**: 1=Policy Holder, 0=Third Party\n",
        "\n",
        "**PoliceReportFiled**: 1=No, 0=Yes\n",
        "\n",
        "**WitnessPresent**: 1=No, 0=Yes\n",
        "\n",
        "**AgentType**: 1=External 0=Internal"
      ]
    },
    {
      "cell_type": "code",
      "execution_count": 20,
      "metadata": {},
      "outputs": [
        {
          "name": "stdout",
          "output_type": "stream",
          "text": [
            "AccidentArea\n",
            "Valores antigos: ['Urban' 'Rural']\n",
            "Valores novos: [1 0] \n",
            "\n",
            "Sex\n",
            "Valores antigos: ['Female' 'Male']\n",
            "Valores novos: [1 0] \n",
            "\n",
            "Fault\n",
            "Valores antigos: ['Policy Holder' 'Third Party']\n",
            "Valores novos: [1 0] \n",
            "\n",
            "PoliceReportFiled\n",
            "Valores antigos: ['No' 'Yes']\n",
            "Valores novos: [1 0] \n",
            "\n",
            "WitnessPresent\n",
            "Valores antigos: ['No' 'Yes']\n",
            "Valores novos: [1 0] \n",
            "\n",
            "AgentType\n",
            "Valores antigos: ['External' 'Internal']\n",
            "Valores novos: [1 0] \n",
            "\n"
          ]
        }
      ],
      "source": [
        "categorico_para_binario = ['AccidentArea', 'Sex', 'Fault', 'PoliceReportFiled', 'WitnessPresent', 'AgentType']\n",
        "\n",
        "for coluna in categorico_para_binario:\n",
        "    print(coluna)\n",
        "\n",
        "    valores_unicos = df_dataset_2[coluna].unique()\n",
        "    print(f\"Valores antigos: {valores_unicos}\")\n",
        "\n",
        "    df_dataset_2[coluna] = df_dataset_2[coluna].replace(valores_unicos[0], 1).replace(valores_unicos[1], 0)\n",
        "\n",
        "    valores_unicos = df_dataset_2[coluna].unique()\n",
        "    print(f\"Valores novos: {valores_unicos} \\n\")"
      ]
    },
    {
      "cell_type": "code",
      "execution_count": 21,
      "metadata": {},
      "outputs": [
        {
          "name": "stdout",
          "output_type": "stream",
          "text": [
            "<class 'pandas.core.frame.DataFrame'>\n",
            "RangeIndex: 15419 entries, 0 to 15418\n",
            "Data columns (total 6 columns):\n",
            " #   Column             Non-Null Count  Dtype\n",
            "---  ------             --------------  -----\n",
            " 0   AccidentArea       15419 non-null  int64\n",
            " 1   Sex                15419 non-null  int64\n",
            " 2   Fault              15419 non-null  int64\n",
            " 3   PoliceReportFiled  15419 non-null  int64\n",
            " 4   WitnessPresent     15419 non-null  int64\n",
            " 5   AgentType          15419 non-null  int64\n",
            "dtypes: int64(6)\n",
            "memory usage: 722.9 KB\n"
          ]
        }
      ],
      "source": [
        "df_dataset_2[categorico_para_binario].info()"
      ]
    },
    {
      "cell_type": "markdown",
      "metadata": {},
      "source": [
        "### 6.2 Conversão dos dados ordinais\n",
        "\n",
        "A partir da investigação realizada anteriormente, são atributos ordinais: 'Month', 'DayOfWeek', 'DayOfWeekClaimed', 'MonthClaimed'. \n",
        "\n",
        "Estes devem corresponder à sua ordem natural. Exemplo: para o atributo 'Month', 'Jan' deve corresponder a 1, 'Feb' deve corresponder a 2, 'Mar' deve corresponder a 3, etc."
      ]
    },
    {
      "cell_type": "code",
      "execution_count": 22,
      "metadata": {},
      "outputs": [],
      "source": [
        "dias_da_semana = {'Monday':1,'Tuesday':2,'Wednesday':3,'Thursday':4,'Friday':5,'Saturday':6,'Sunday':7}\n",
        "meses = {'Jan':1,'Feb':2,'Mar':3,'Apr':4,'May':5,'Jun':6,'Jul':7,'Aug':8,'Sep':9,'Oct':10,'Nov':11,'Dec':12}\n",
        "\n",
        "Month = {'Month': meses}\n",
        "DayOfWeek = {'DayOfWeek': dias_da_semana}\n",
        "DayOfWeekClaimed = {'DayOfWeekClaimed': dias_da_semana}\n",
        "MonthClaimed = {'MonthClaimed': meses}\n",
        "\n",
        "mapping = [Month, DayOfWeek, DayOfWeekClaimed, MonthClaimed]"
      ]
    },
    {
      "cell_type": "code",
      "execution_count": 23,
      "metadata": {},
      "outputs": [],
      "source": [
        "for i in range(len(mapping)):\n",
        "    df_dataset_2.replace(mapping[i], inplace=True)"
      ]
    },
    {
      "cell_type": "code",
      "execution_count": 24,
      "metadata": {},
      "outputs": [
        {
          "name": "stdout",
          "output_type": "stream",
          "text": [
            "Month\n",
            "Valores antigos: ['Dec' 'Jan' 'Oct' 'Jun' 'Feb' 'Nov' 'Apr' 'Mar' 'Aug' 'Jul' 'May' 'Sep']\n",
            "Valores novos: [12  1 10  6  2 11  4  3  8  7  5  9] \n",
            "\n",
            "DayOfWeek\n",
            "Valores antigos: ['Wednesday' 'Friday' 'Saturday' 'Monday' 'Tuesday' 'Sunday' 'Thursday']\n",
            "Valores novos: [3 5 6 1 2 7 4] \n",
            "\n",
            "DayOfWeekClaimed\n",
            "Valores antigos: ['Tuesday' 'Monday' 'Thursday' 'Friday' 'Wednesday' 'Saturday' 'Sunday']\n",
            "Valores novos: [2 1 4 5 3 6 7] \n",
            "\n",
            "MonthClaimed\n",
            "Valores antigos: ['Jan' 'Nov' 'Jul' 'Feb' 'Mar' 'Dec' 'Apr' 'Aug' 'May' 'Jun' 'Sep' 'Oct']\n",
            "Valores novos: [ 1 11  7  2  3 12  4  8  5  6  9 10] \n",
            "\n"
          ]
        }
      ],
      "source": [
        "ordinais = ['Month', 'DayOfWeek', 'DayOfWeekClaimed', 'MonthClaimed']\n",
        "\n",
        "for coluna in ordinais:\n",
        "    print(coluna)\n",
        "    print(f\"Valores antigos: {df_dataset_1[coluna].unique()}\")\n",
        "    print(f\"Valores novos: {df_dataset_2[coluna].unique()} \\n\")"
      ]
    },
    {
      "cell_type": "markdown",
      "metadata": {},
      "source": [
        "### 6.3 Conversão dos dados de intervalo\n",
        "\n",
        "A partir da investigação realizada anteriormente, são atributos de intervalos:'PastNumberOfClaims', 'NumberOfSuppliments', 'VehiclePrice', 'Days_Policy_Accident', 'Days_Policy_Claim', 'AgeOfVehicle', 'AgeOfPolicyHolder', 'AddressChange_Claim', 'NumberOfCars'. \n",
        "\n",
        "Estes serão nivelados por baixo. Exemplo: para o atributo 'NumberOfSuppliments', 'none' deve corresponder a 0, '1 to 2' deve corresponder a 1, '3 to 5' deve corresponder a 3 e 'more than 5' deve corresponder a 6."
      ]
    },
    {
      "cell_type": "code",
      "execution_count": 25,
      "metadata": {},
      "outputs": [],
      "source": [
        "PastNumberOfClaims = {'PastNumberOfClaims':{'none':0 ,'1':1,'2 to 4':2,'more than 4':5 }}\n",
        "NumberOfSuppliments = {'NumberOfSuppliments':{'none':0,'1 to 2':1,'3 to 5':3,'more than 5':6}}\n",
        "AgeOfVehicle = {'AgeOfVehicle':{'3 years':3,'6 years':6,'7 years':7,'more than 7':8,'5 years':5,'new':0,'4 years':4,'2 years':2}}\n",
        "VehiclePrice = {'VehiclePrice':{'more than 69000':69001,'20000 to 29000':20000,'30000 to 39000':30000,'less than 20000':19999,\n",
        "                                     '40000 to 59000':40000,'60000 to 69000':60000}}\n",
        "Days_Policy_Accident = {'Days_Policy_Accident':{'more than 30':31,'15 to 30':15,'none':0,'1 to 7':1,'8 to 15':8}}\n",
        "Days_Policy_Claim = {'Days_Policy_Claim':{'more than 30':31,'15 to 30':15,'8 to 15':8,'none':0}}\n",
        "AgeOfPolicyHolder = {'AgeOfPolicyHolder':{'26 to 30':26,'31 to 35':31,'41 to 50':41,'51 to 65':51,'21 to 25':21,'36 to 40':36,\n",
        "                                                            '16 to 17':16, 'over 65':66, '18 to 20':18}}\n",
        "AddressChange_Claim = {'AddressChange_Claim':{'1 year':1,'no change':0,'4 to 8 years':4,'2 to 3 years':2,'under 6 months':0.5}}\n",
        "NumberOfCars = {'NumberOfCars':{'3 to 4':3,'1 vehicle':1,'2 vehicles':2,'5 to 8':5,'more than 8':9}}\n",
        "\n",
        "mapping = [PastNumberOfClaims, NumberOfSuppliments, VehiclePrice, AgeOfVehicle, Days_Policy_Accident, \n",
        "            Days_Policy_Claim, AgeOfPolicyHolder, AddressChange_Claim, NumberOfCars]"
      ]
    },
    {
      "cell_type": "code",
      "execution_count": 26,
      "metadata": {},
      "outputs": [],
      "source": [
        "for i in range(len(mapping)):\n",
        "    df_dataset_2.replace(mapping[i], inplace=True)"
      ]
    },
    {
      "cell_type": "code",
      "execution_count": 27,
      "metadata": {},
      "outputs": [
        {
          "name": "stdout",
          "output_type": "stream",
          "text": [
            "PastNumberOfClaims\n",
            "Valores antigos: ['none' '1' '2 to 4' 'more than 4']\n",
            "Valores novos: [0 1 2 5] \n",
            "\n",
            "NumberOfSuppliments\n",
            "Valores antigos: ['none' 'more than 5' '3 to 5' '1 to 2']\n",
            "Valores novos: [0 6 3 1] \n",
            "\n",
            "VehiclePrice\n",
            "Valores antigos: ['more than 69000' '20000 to 29000' '30000 to 39000' 'less than 20000'\n",
            " '40000 to 59000' '60000 to 69000']\n",
            "Valores novos: [69001 20000 30000 19999 40000 60000] \n",
            "\n",
            "Days_Policy_Accident\n",
            "Valores antigos: ['more than 30' '15 to 30' 'none' '1 to 7' '8 to 15']\n",
            "Valores novos: [31 15  0  1  8] \n",
            "\n",
            "Days_Policy_Claim\n",
            "Valores antigos: ['more than 30' '15 to 30' '8 to 15']\n",
            "Valores novos: [31 15  8] \n",
            "\n",
            "AgeOfVehicle\n",
            "Valores antigos: ['3 years' '6 years' '7 years' 'more than 7' '5 years' 'new' '4 years'\n",
            " '2 years']\n",
            "Valores novos: [3 6 7 8 5 0 4 2] \n",
            "\n",
            "AgeOfPolicyHolder\n",
            "Valores antigos: ['26 to 30' '31 to 35' '41 to 50' '51 to 65' '21 to 25' '36 to 40'\n",
            " '16 to 17' 'over 65' '18 to 20']\n",
            "Valores novos: [26 31 41 51 21 36 16 66 18] \n",
            "\n",
            "AddressChange_Claim\n",
            "Valores antigos: ['1 year' 'no change' '4 to 8 years' '2 to 3 years' 'under 6 months']\n",
            "Valores novos: [1.  0.  4.  2.  0.5] \n",
            "\n",
            "NumberOfCars\n",
            "Valores antigos: ['3 to 4' '1 vehicle' '2 vehicles' '5 to 8' 'more than 8']\n",
            "Valores novos: [3 1 2 5 9] \n",
            "\n"
          ]
        }
      ],
      "source": [
        "dados_intervalos = ['PastNumberOfClaims', 'NumberOfSuppliments', 'VehiclePrice', 'Days_Policy_Accident', 'Days_Policy_Claim', \n",
        "                        'AgeOfVehicle', 'AgeOfPolicyHolder', 'AddressChange_Claim', 'NumberOfCars']\n",
        "\n",
        "for coluna in dados_intervalos:\n",
        "    print(coluna)\n",
        "    print(f\"Valores antigos: {df_dataset_1[coluna].unique()}\")\n",
        "    print(f\"Valores novos: {df_dataset_2[coluna].unique()} \\n\")"
      ]
    },
    {
      "cell_type": "markdown",
      "metadata": {},
      "source": [
        "### 6.3 Conversão dos dados categóricos e nominais\n",
        "\n",
        "A partir da investigação realizada anteriormente, os seguintes atributos são categóricos e nominais: 'Make','MaritalStatus','PolicyType','VehicleCategory' e 'BasePolicy'. Agora, estes terão uma representação vetorial binária."
      ]
    },
    {
      "cell_type": "code",
      "execution_count": 28,
      "metadata": {},
      "outputs": [
        {
          "name": "stdout",
          "output_type": "stream",
          "text": [
            "<class 'pandas.core.frame.DataFrame'>\n",
            "RangeIndex: 15419 entries, 0 to 15418\n",
            "Columns: 32 entries, Month to BasePolicy\n",
            "dtypes: float64(2), int64(25), object(5)\n",
            "memory usage: 3.8+ MB\n"
          ]
        }
      ],
      "source": [
        "df_dataset_2.info(verbose=False)"
      ]
    },
    {
      "cell_type": "code",
      "execution_count": 29,
      "metadata": {},
      "outputs": [
        {
          "name": "stdout",
          "output_type": "stream",
          "text": [
            "<class 'pandas.core.frame.DataFrame'>\n",
            "RangeIndex: 15419 entries, 0 to 15418\n",
            "Columns: 65 entries, Month to BasePolicy_Liability\n",
            "dtypes: float64(2), int64(25), uint8(38)\n",
            "memory usage: 3.7 MB\n"
          ]
        }
      ],
      "source": [
        "# get_dummies transforma as colunas do tipo 'object'\n",
        "\n",
        "# 19 categorias de 'Make' + 4 categorias de 'MaritalStatus' + 9 categorias de 'PolicyType'\n",
        "# + 3 categorias de 'VehicleCategory' + 3 categorias de 'BasePolicy'\n",
        "# = 38 colunas\n",
        "df_dataset_2 = pd.get_dummies(df_dataset_2);\n",
        "df_dataset_2.info(verbose=False)"
      ]
    },
    {
      "cell_type": "markdown",
      "metadata": {},
      "source": [
        "## PARTE 7: Investigar relações com a variável alvo (novamente)\n",
        "\n",
        "Será realizado o mesmo teste de independência executado na PARTE 5. A ideia é verificar se, após as transformações, aparecem novas relações relevantes entre os atributos e o target ('FraudFound_P')."
      ]
    },
    {
      "cell_type": "code",
      "execution_count": 30,
      "metadata": {},
      "outputs": [],
      "source": [
        "df_final = df_dataset_2.copy()"
      ]
    },
    {
      "cell_type": "code",
      "execution_count": 31,
      "metadata": {},
      "outputs": [
        {
          "name": "stdout",
          "output_type": "stream",
          "text": [
            "Há evidências estatísticas suficientes de que existe alguma relação entre FraudFound_P e os seguintes atributos:\n",
            "                           Atributo            χ²       Valor-p\n",
            "7                      FraudFound_P  15401.236138  0.000000e+00\n",
            "29             BasePolicy_Liability    364.390028  3.116620e-81\n",
            "21     PolicyType_Sedan - Liability    361.581932  1.273869e-80\n",
            "25            VehicleCategory_Sport    283.640594  1.208553e-63\n",
            "5                             Fault    264.984556  1.406180e-59\n",
            "24            VehicleCategory_Sedan    229.174903  9.021607e-52\n",
            "27            BasePolicy_All Perils    192.648135  8.400805e-44\n",
            "19    PolicyType_Sedan - All Perils    162.856618  2.688717e-37\n",
            "15              AddressChange_Claim    104.722693  9.704718e-22\n",
            "8                        Deductible     72.406255  1.302831e-15\n",
            "6                      VehiclePrice     67.836116  2.888324e-13\n",
            "10               PastNumberOfClaims     53.541755  1.405198e-11\n",
            "22     PolicyType_Sport - Collision     37.152501  1.092425e-09\n",
            "17                      Make_Accura     35.525852  2.516880e-09\n",
            "28             BasePolicy_Collision     29.267146  6.305578e-08\n",
            "23  PolicyType_Utility - All Perils     21.691830  3.201519e-06\n",
            "26          VehicleCategory_Utility     18.827174  1.431136e-05\n",
            "2                      MonthClaimed     42.200514  1.495245e-05\n",
            "1                      AccidentArea     16.901858  3.936304e-05\n",
            "12                AgeOfPolicyHolder     33.104861  5.896560e-05\n",
            "3                               Sex     13.495678  2.391135e-04\n",
            "14              NumberOfSuppliments     18.155527  4.085276e-04\n",
            "4                               Age    109.664968  4.472083e-04\n",
            "20     PolicyType_Sedan - Collision     12.093358  5.060177e-04\n",
            "0                             Month     29.771469  1.720902e-03\n",
            "11                     AgeOfVehicle     21.995137  2.545322e-03\n",
            "13                        AgentType      7.380469  6.593597e-03\n",
            "16                             Year      9.592587  8.260307e-03\n",
            "9              Days_Policy_Accident     11.569842  2.085381e-02\n",
            "18                          Make_VW      4.557015  3.278417e-02\n"
          ]
        }
      ],
      "source": [
        "# teste de independêndia chi-quadrado\n",
        "nivel_significancia = 0.05\n",
        "teste_independencia = []\n",
        "\n",
        "for coluna in df_final.columns:\n",
        "    tabela_contigencia = pd.crosstab(df_final[coluna], df_final['FraudFound_P'])\n",
        "    chi2_val, valor_p, _, __ = stats.chi2_contingency(tabela_contigencia)\n",
        "    if valor_p < nivel_significancia:\n",
        "        teste_independencia.append([coluna, chi2_val, valor_p])\n",
        "\n",
        "print(\"Há evidências estatísticas suficientes de que existe alguma relação entre FraudFound_P e os seguintes atributos:\")\n",
        "\n",
        "df_teste_independencia = pd.DataFrame(teste_independencia, columns=['Atributo', '\\u03C7\\u00B2', 'Valor-p'])\n",
        "df_teste_independencia.sort_values(by='Valor-p', inplace=True)\n",
        "print(df_teste_independencia)"
      ]
    },
    {
      "cell_type": "markdown",
      "metadata": {},
      "source": [
        "## PARTE 8: Dividir variáveis dependentes e independentes\n",
        "\n",
        "Variável dependente/alvo: 'FraudFound_P'"
      ]
    },
    {
      "cell_type": "code",
      "execution_count": 187,
      "metadata": {},
      "outputs": [
        {
          "name": "stdout",
          "output_type": "stream",
          "text": [
            "(15419, 64) (15419,)\n"
          ]
        }
      ],
      "source": [
        "X = df_final.drop('FraudFound_P', axis=1).copy()\n",
        "y = df_final['FraudFound_P'].copy()\n",
        "print(X.shape, y.shape)"
      ]
    },
    {
      "cell_type": "markdown",
      "metadata": {},
      "source": [
        "## PARTE 9: Dividir dados de treino e de teste\n",
        "\n",
        "70% treino e 30% teste"
      ]
    },
    {
      "cell_type": "code",
      "execution_count": 188,
      "metadata": {},
      "outputs": [
        {
          "name": "stdout",
          "output_type": "stream",
          "text": [
            "(10793, 64) (4626, 64) (10793,) (4626,)\n"
          ]
        }
      ],
      "source": [
        "X_train, X_test, y_train, y_test = train_test_split(X, y, test_size=0.3, stratify=y, random_state=42)\n",
        "print(X_train.shape, X_test.shape, y_train.shape, y_test.shape)"
      ]
    },
    {
      "cell_type": "markdown",
      "metadata": {},
      "source": [
        "## PARTE 10: Balancear dados de treino\n",
        "\n",
        "Método escolhido: ADASYN"
      ]
    },
    {
      "cell_type": "code",
      "execution_count": 189,
      "metadata": {},
      "outputs": [
        {
          "data": {
            "text/plain": [
              "0    10147\n",
              "1      646\n",
              "Name: FraudFound_P, dtype: int64"
            ]
          },
          "execution_count": 189,
          "metadata": {},
          "output_type": "execute_result"
        }
      ],
      "source": [
        "y_train.value_counts()"
      ]
    },
    {
      "cell_type": "code",
      "execution_count": 223,
      "metadata": {},
      "outputs": [
        {
          "name": "stdout",
          "output_type": "stream",
          "text": [
            "(20235, 64) (20235,)\n"
          ]
        }
      ],
      "source": [
        "X_train_over, y_train_over = ADASYN().fit_resample(X_train, y_train)\n",
        "print(X_train_over.shape, y_train_over.shape)"
      ]
    },
    {
      "cell_type": "code",
      "execution_count": 224,
      "metadata": {},
      "outputs": [
        {
          "data": {
            "text/plain": [
              "0    10147\n",
              "1    10088\n",
              "Name: FraudFound_P, dtype: int64"
            ]
          },
          "execution_count": 224,
          "metadata": {},
          "output_type": "execute_result"
        }
      ],
      "source": [
        "y_train_over.value_counts()"
      ]
    },
    {
      "cell_type": "markdown",
      "metadata": {},
      "source": [
        "## PARTE 11: Rodar experimentos\n",
        "\n",
        "Serão avaliadas diferentes configurações do algoritmo Random Forest."
      ]
    },
    {
      "cell_type": "markdown",
      "metadata": {},
      "source": [
        "### 11.1 Criar o modelo de classificação e definir os possíveis hiperparâmetros"
      ]
    },
    {
      "cell_type": "code",
      "execution_count": 225,
      "metadata": {},
      "outputs": [],
      "source": [
        "RF_classifier = RandomForestClassifier()\n",
        "n_estimators = [10, 100, 300]\n",
        "max_features = ['sqrt', 'log2']\n",
        "max_depth = [3, 5, 8]\n",
        "RF_grid = dict(n_estimators=n_estimators, max_features=max_features, max_depth=max_depth)"
      ]
    },
    {
      "cell_type": "markdown",
      "metadata": {},
      "source": [
        "### 11.2 Definir as métricas de comparação"
      ]
    },
    {
      "cell_type": "code",
      "execution_count": 150,
      "metadata": {},
      "outputs": [],
      "source": [
        "metricas = {'accuracy_score':metrics.make_scorer(metrics.accuracy_score),\n",
        "          'f1_score':metrics.make_scorer(metrics.f1_score),\n",
        "          'roc_auc_score':metrics.make_scorer(metrics.roc_auc_score) \n",
        "         }"
      ]
    },
    {
      "cell_type": "markdown",
      "metadata": {},
      "source": [
        "### 11.3 Definir os parâmetros dos experimentos"
      ]
    },
    {
      "cell_type": "code",
      "execution_count": 151,
      "metadata": {},
      "outputs": [],
      "source": [
        "# validação cruzada\n",
        "n_splits = 5\n",
        "n_repeats = 3\n",
        "cv = RepeatedStratifiedKFold(n_splits=n_splits, n_repeats=n_repeats)"
      ]
    },
    {
      "cell_type": "markdown",
      "metadata": {},
      "source": [
        "### 11.4 Executar os experimentos\n",
        "\n",
        "Os experimentos serão realizados a partir do 'GridSearchCV', assim, serão realizadas n repetições de validação cruzada para cada possível configuração de classificador. No final, teremos disponíveis, para cada métrica definida anteriormente, os resultados de cada experimento para cada configuração de classificador."
      ]
    },
    {
      "cell_type": "code",
      "execution_count": 226,
      "metadata": {},
      "outputs": [],
      "source": [
        "grid_search = GridSearchCV(estimator=RF_classifier, param_grid=RF_grid, cv=cv, scoring=metricas, refit='accuracy_score', error_score=0)\n",
        "grid_result = grid_search.fit(X_train_over, y_train_over)"
      ]
    },
    {
      "cell_type": "markdown",
      "metadata": {},
      "source": [
        "## PARTE 12: Analisar os resultados"
      ]
    },
    {
      "cell_type": "markdown",
      "metadata": {},
      "source": [
        "É possível observar os resultados do grid search a partir do atributo 'cv_results_'. Para criar os gráficos, será realizado um tratamento no formato original retornado por esse atributo."
      ]
    },
    {
      "cell_type": "code",
      "execution_count": 227,
      "metadata": {},
      "outputs": [
        {
          "data": {
            "text/plain": [
              "{'mean_fit_time': array([0.07055925, 0.48188624, 1.43797464, 0.05264885, 0.38235351,\n",
              "        1.19669081, 0.09069357, 0.75947932, 2.14542871, 0.05788043,\n",
              "        0.48517164, 1.4532743 , 0.09111195, 0.83308516, 2.43996523,\n",
              "        0.07801716, 0.65545375, 2.1690903 ]),\n",
              " 'std_fit_time': array([0.01280988, 0.04533419, 0.10600135, 0.00402083, 0.01205537,\n",
              "        0.07695704, 0.02779625, 0.06479773, 0.47757864, 0.00165686,\n",
              "        0.02588492, 0.08310024, 0.00583689, 0.07118998, 0.21818819,\n",
              "        0.0047029 , 0.02913143, 0.21694023]),\n",
              " 'mean_score_time': array([0.01139119, 0.0333533 , 0.08873008, 0.00967719, 0.0329508 ,\n",
              "        0.0842532 , 0.01142494, 0.04398694, 0.11398322, 0.00935885,\n",
              "        0.03516029, 0.09284951, 0.01048927, 0.04522506, 0.1225812 ,\n",
              "        0.01063428, 0.04333011, 0.13270268]),\n",
              " 'std_score_time': array([0.00240934, 0.00474552, 0.0083084 , 0.00096117, 0.00294529,\n",
              "        0.00790279, 0.00213282, 0.00582987, 0.02621521, 0.00041481,\n",
              "        0.00225985, 0.00533634, 0.00078456, 0.00428489, 0.01093581,\n",
              "        0.00056114, 0.00177226, 0.01658016]),\n",
              " 'param_max_depth': masked_array(data=[3, 3, 3, 3, 3, 3, 5, 5, 5, 5, 5, 5, 8, 8, 8, 8, 8, 8],\n",
              "              mask=[False, False, False, False, False, False, False, False,\n",
              "                    False, False, False, False, False, False, False, False,\n",
              "                    False, False],\n",
              "        fill_value='?',\n",
              "             dtype=object),\n",
              " 'param_max_features': masked_array(data=['sqrt', 'sqrt', 'sqrt', 'log2', 'log2', 'log2', 'sqrt',\n",
              "                    'sqrt', 'sqrt', 'log2', 'log2', 'log2', 'sqrt', 'sqrt',\n",
              "                    'sqrt', 'log2', 'log2', 'log2'],\n",
              "              mask=[False, False, False, False, False, False, False, False,\n",
              "                    False, False, False, False, False, False, False, False,\n",
              "                    False, False],\n",
              "        fill_value='?',\n",
              "             dtype=object),\n",
              " 'param_n_estimators': masked_array(data=[10, 100, 300, 10, 100, 300, 10, 100, 300, 10, 100, 300,\n",
              "                    10, 100, 300, 10, 100, 300],\n",
              "              mask=[False, False, False, False, False, False, False, False,\n",
              "                    False, False, False, False, False, False, False, False,\n",
              "                    False, False],\n",
              "        fill_value='?',\n",
              "             dtype=object),\n",
              " 'params': [{'max_depth': 3, 'max_features': 'sqrt', 'n_estimators': 10},\n",
              "  {'max_depth': 3, 'max_features': 'sqrt', 'n_estimators': 100},\n",
              "  {'max_depth': 3, 'max_features': 'sqrt', 'n_estimators': 300},\n",
              "  {'max_depth': 3, 'max_features': 'log2', 'n_estimators': 10},\n",
              "  {'max_depth': 3, 'max_features': 'log2', 'n_estimators': 100},\n",
              "  {'max_depth': 3, 'max_features': 'log2', 'n_estimators': 300},\n",
              "  {'max_depth': 5, 'max_features': 'sqrt', 'n_estimators': 10},\n",
              "  {'max_depth': 5, 'max_features': 'sqrt', 'n_estimators': 100},\n",
              "  {'max_depth': 5, 'max_features': 'sqrt', 'n_estimators': 300},\n",
              "  {'max_depth': 5, 'max_features': 'log2', 'n_estimators': 10},\n",
              "  {'max_depth': 5, 'max_features': 'log2', 'n_estimators': 100},\n",
              "  {'max_depth': 5, 'max_features': 'log2', 'n_estimators': 300},\n",
              "  {'max_depth': 8, 'max_features': 'sqrt', 'n_estimators': 10},\n",
              "  {'max_depth': 8, 'max_features': 'sqrt', 'n_estimators': 100},\n",
              "  {'max_depth': 8, 'max_features': 'sqrt', 'n_estimators': 300},\n",
              "  {'max_depth': 8, 'max_features': 'log2', 'n_estimators': 10},\n",
              "  {'max_depth': 8, 'max_features': 'log2', 'n_estimators': 100},\n",
              "  {'max_depth': 8, 'max_features': 'log2', 'n_estimators': 300}],\n",
              " 'split0_test_accuracy_score': array([0.83049172, 0.84086978, 0.84927106, 0.84284655, 0.85001235,\n",
              "        0.85520138, 0.86434396, 0.88682975, 0.89276007, 0.86903879,\n",
              "        0.89300717, 0.89127749, 0.91771683, 0.92562392, 0.92587102,\n",
              "        0.91302199, 0.92512973, 0.9271065 ]),\n",
              " 'split1_test_accuracy_score': array([0.81640722, 0.81616012, 0.81937237, 0.80627625, 0.82851495,\n",
              "        0.83543365, 0.85495429, 0.86187299, 0.86730912, 0.86582654,\n",
              "        0.86607363, 0.86928589, 0.89992587, 0.91697554, 0.92018779,\n",
              "        0.88559427, 0.91203361, 0.91821102]),\n",
              " 'split2_test_accuracy_score': array([0.84581171, 0.83123301, 0.82752656, 0.79243884, 0.84210526,\n",
              "        0.82950334, 0.86755621, 0.87175686, 0.87274524, 0.84012849,\n",
              "        0.87076847, 0.87546331, 0.9048678 , 0.91475167, 0.91895231,\n",
              "        0.90264393, 0.91153941, 0.91771683]),\n",
              " 'split3_test_accuracy_score': array([0.81443044, 0.82851495, 0.8393872 , 0.78329627, 0.84531752,\n",
              "        0.83543365, 0.84754139, 0.87842847, 0.8762046 , 0.84902397,\n",
              "        0.88386459, 0.8759575 , 0.90091426, 0.91524586, 0.91722263,\n",
              "        0.89967877, 0.91574005, 0.91499876]),\n",
              " 'split4_test_accuracy_score': array([0.81961947, 0.82925624, 0.82554979, 0.81566593, 0.8470472 ,\n",
              "        0.83271559, 0.85791945, 0.87299234, 0.88065234, 0.85347171,\n",
              "        0.87422782, 0.87669879, 0.91376328, 0.91401038, 0.92216457,\n",
              "        0.89696071, 0.91919941, 0.91450457]),\n",
              " 'split5_test_accuracy_score': array([0.79713368, 0.82307882, 0.82307882, 0.78304917, 0.82134915,\n",
              "        0.83493946, 0.85322461, 0.87076847, 0.87150976, 0.85643687,\n",
              "        0.8759575 , 0.87842847, 0.897702  , 0.9125278 , 0.91425747,\n",
              "        0.89547813, 0.91203361, 0.91376328]),\n",
              " 'split6_test_accuracy_score': array([0.83049172, 0.83345688, 0.83148011, 0.8099827 , 0.84927106,\n",
              "        0.85248332, 0.85544848, 0.88188782, 0.88213491, 0.85495429,\n",
              "        0.88559427, 0.8833704 , 0.91401038, 0.92364715, 0.92241166,\n",
              "        0.91005683, 0.92241166, 0.92290586]),\n",
              " 'split7_test_accuracy_score': array([0.76426983, 0.82036076, 0.82950334, 0.81690141, 0.82826785,\n",
              "        0.83271559, 0.86632073, 0.87126266, 0.8762046 , 0.85297751,\n",
              "        0.87249815, 0.87249815, 0.90363232, 0.92167037, 0.92265876,\n",
              "        0.90042006, 0.91648134, 0.91672844]),\n",
              " 'split8_test_accuracy_score': array([0.78774401, 0.83172721, 0.83073882, 0.77662466, 0.84383494,\n",
              "        0.83568075, 0.8611317 , 0.86953299, 0.87645169, 0.86088461,\n",
              "        0.88435878, 0.88262911, 0.90190264, 0.91919941, 0.92068199,\n",
              "        0.8974549 , 0.91623425, 0.9196936 ]),\n",
              " 'split9_test_accuracy_score': array([0.82999753, 0.83345688, 0.8391401 , 0.76797628, 0.83988139,\n",
              "        0.84976526, 0.86508525, 0.88188782, 0.88435878, 0.86014332,\n",
              "        0.88065234, 0.88435878, 0.92068199, 0.92191747, 0.92463553,\n",
              "        0.90313813, 0.9194465 , 0.92191747]),\n",
              " 'split10_test_accuracy_score': array([0.79960465, 0.83024463, 0.82653818, 0.80479367, 0.8393872 ,\n",
              "        0.83815172, 0.84531752, 0.87398073, 0.8757104 , 0.86632073,\n",
              "        0.87842847, 0.87991105, 0.90758587, 0.91475167, 0.91475167,\n",
              "        0.89967877, 0.91722263, 0.91746973]),\n",
              " 'split11_test_accuracy_score': array([0.7813195 , 0.82727947, 0.83617494, 0.80405238, 0.84902397,\n",
              "        0.83296269, 0.85100074, 0.87225105, 0.87101557, 0.88164072,\n",
              "        0.87744008, 0.88015814, 0.9122807 , 0.9199407 , 0.91821102,\n",
              "        0.89523104, 0.91524586, 0.91722263]),\n",
              " 'split12_test_accuracy_score': array([0.80677045, 0.8324685 , 0.83493946, 0.80355819, 0.83741043,\n",
              "        0.84334075, 0.85544848, 0.87867556, 0.87916976, 0.86533234,\n",
              "        0.88633556, 0.88584136, 0.91450457, 0.91821102, 0.92241166,\n",
              "        0.90560909, 0.9196936 , 0.92315295]),\n",
              " 'split13_test_accuracy_score': array([0.81813689, 0.83172721, 0.81961947, 0.8102298 , 0.82629108,\n",
              "        0.82727947, 0.83642204, 0.8687917 , 0.86730912, 0.85964912,\n",
              "        0.86261428, 0.87200395, 0.90313813, 0.90733877, 0.90808006,\n",
              "        0.89127749, 0.91005683, 0.90758587]),\n",
              " 'split14_test_accuracy_score': array([0.82629108, 0.84803558, 0.84556462, 0.8176427 , 0.84951816,\n",
              "        0.84531752, 0.86780331, 0.8902891 , 0.88411169, 0.86335557,\n",
              "        0.8833704 , 0.88633556, 0.90437361, 0.92068199, 0.92265876,\n",
              "        0.90437361, 0.92340005, 0.92290586]),\n",
              " 'mean_test_accuracy_score': array([0.81123466, 0.83052467, 0.83185899, 0.80235565, 0.8398155 ,\n",
              "        0.83872828, 0.85663454, 0.87541389, 0.87717651, 0.85994564,\n",
              "        0.8783461 , 0.87961453, 0.90780002, 0.91776625, 0.91967713,\n",
              "        0.90004118, 0.9170579 , 0.91839222]),\n",
              " 'std_test_accuracy_score': array([0.02109873, 0.00739083, 0.00858478, 0.018414  , 0.0091914 ,\n",
              "        0.00822386, 0.0087897 , 0.0072436 , 0.00669412, 0.009345  ,\n",
              "        0.00792338, 0.00589811, 0.00687554, 0.00461676, 0.0044719 ,\n",
              "        0.006738  , 0.00437639, 0.004646  ]),\n",
              " 'rank_test_accuracy_score': array([17, 16, 15, 18, 13, 14, 12, 10,  9, 11,  8,  7,  5,  3,  1,  6,  4,\n",
              "         2]),\n",
              " 'split0_test_f1_score': array([0.84843129, 0.85870996, 0.86546096, 0.85472819, 0.86387082,\n",
              "        0.86902101, 0.87553843, 0.89451865, 0.89976905, 0.8752354 ,\n",
              "        0.89974531, 0.89861751, 0.92077088, 0.92776578, 0.92791927,\n",
              "        0.91566842, 0.92759857, 0.92923963]),\n",
              " 'split1_test_f1_score': array([0.8353645 , 0.83972426, 0.84262648, 0.83015598, 0.84847162,\n",
              "        0.85413929, 0.86829706, 0.87463557, 0.87864407, 0.87445087,\n",
              "        0.8775418 , 0.88007255, 0.90280778, 0.91973244, 0.92270878,\n",
              "        0.89235062, 0.91555977, 0.92102124]),\n",
              " 'split2_test_f1_score': array([0.85945946, 0.85097098, 0.84917891, 0.81707317, 0.85853443,\n",
              "        0.8501954 , 0.87482485, 0.88180369, 0.88298114, 0.85338772,\n",
              "        0.88143278, 0.8852459 , 0.90865955, 0.91822707, 0.92212726,\n",
              "        0.90707547, 0.91524621, 0.92099644]),\n",
              " 'split3_test_f1_score': array([0.8386681 , 0.84965338, 0.85795455, 0.81556257, 0.86156568,\n",
              "        0.85471204, 0.85884237, 0.88813097, 0.88611048, 0.86235639,\n",
              "        0.89205328, 0.88554492, 0.90463734, 0.91807977, 0.92037081,\n",
              "        0.90460526, 0.91898313, 0.91852203]),\n",
              " 'split4_test_f1_score': array([0.83698079, 0.85104548, 0.84692108, 0.83977663, 0.86308339,\n",
              "        0.85304971, 0.86624796, 0.8833409 , 0.88990198, 0.86629087,\n",
              "        0.884397  , 0.88646189, 0.91584278, 0.91796322, 0.92487479,\n",
              "        0.90277454, 0.92190112, 0.91828059]),\n",
              " 'split5_test_f1_score': array([0.82309847, 0.84568966, 0.84515571, 0.81484606, 0.84320104,\n",
              "        0.85433929, 0.86388634, 0.88159384, 0.88245931, 0.86893751,\n",
              "        0.8854927 , 0.88797814, 0.90327103, 0.91547278, 0.91755761,\n",
              "        0.90021231, 0.91563981, 0.91704302]),\n",
              " 'split6_test_f1_score': array([0.85132206, 0.85315904, 0.85193226, 0.83020534, 0.86414254,\n",
              "        0.86694896, 0.86862789, 0.89041724, 0.89047072, 0.86674234,\n",
              "        0.89309628, 0.89144434, 0.91614458, 0.92563177, 0.9245555 ,\n",
              "        0.91233141, 0.92451923, 0.925     ]),\n",
              " 'split7_test_f1_score': array([0.80297398, 0.84267475, 0.85026042, 0.83463513, 0.84815381,\n",
              "        0.85304971, 0.87514424, 0.88215336, 0.8865746 , 0.8657188 ,\n",
              "        0.88272727, 0.88309923, 0.90723121, 0.92425329, 0.92542292,\n",
              "        0.90461538, 0.92005676, 0.9201611 ]),\n",
              " 'split8_test_f1_score': array([0.81427027, 0.85256549, 0.8516995 , 0.80123131, 0.86042403,\n",
              "        0.85483519, 0.87180657, 0.88086643, 0.88687783, 0.87101947,\n",
              "        0.89339408, 0.89192264, 0.90625738, 0.9225669 , 0.92398769,\n",
              "        0.90158881, 0.9201037 , 0.92318601]),\n",
              " 'split9_test_f1_score': array([0.84825761, 0.85335074, 0.85714286, 0.79714841, 0.85707984,\n",
              "        0.8647085 , 0.87413555, 0.89101687, 0.89280806, 0.86879926,\n",
              "        0.88924559, 0.89256198, 0.92322411, 0.92454632, 0.92705094,\n",
              "        0.90741615, 0.92249168, 0.92458234]),\n",
              " 'split10_test_f1_score': array([0.82249945, 0.85029418, 0.84792028, 0.82553004, 0.85745614,\n",
              "        0.85601231, 0.85913591, 0.88340192, 0.88487068, 0.87450707,\n",
              "        0.886479  , 0.88807001, 0.91082499, 0.91684743, 0.91712707,\n",
              "        0.90397351, 0.91921871, 0.91963426]),\n",
              " 'split11_test_f1_score': array([0.81325174, 0.84925598, 0.85558702, 0.83015635, 0.86461334,\n",
              "        0.85272331, 0.86323429, 0.88289921, 0.88274933, 0.88852688,\n",
              "        0.88752834, 0.88989784, 0.91565693, 0.92325912, 0.92184179,\n",
              "        0.90162413, 0.91908469, 0.92089728]),\n",
              " 'split12_test_f1_score': array([0.82992605, 0.85286458, 0.85528596, 0.82788482, 0.85595447,\n",
              "        0.86126915, 0.86677294, 0.88843445, 0.8887372 , 0.8753716 ,\n",
              "        0.89459212, 0.89427918, 0.91746183, 0.92117171, 0.92530923,\n",
              "        0.90878701, 0.92278451, 0.92589945]),\n",
              " 'split13_test_f1_score': array([0.83363472, 0.85095207, 0.84212803, 0.83680408, 0.84512007,\n",
              "        0.84767923, 0.85288889, 0.87923584, 0.87853427, 0.87043796,\n",
              "        0.87522442, 0.88216561, 0.90724089, 0.9112846 , 0.9121813 ,\n",
              "        0.89661654, 0.91411043, 0.91179245]),\n",
              " 'split14_test_f1_score': array([0.84660703, 0.86348502, 0.86230447, 0.83607286, 0.86559258,\n",
              "        0.86156568, 0.87737795, 0.89764869, 0.89314195, 0.87485857,\n",
              "        0.89159394, 0.89420423, 0.90844571, 0.92366231, 0.92524481,\n",
              "        0.90840237, 0.92604962, 0.92564347]),\n",
              " 'mean_test_f1_score': array([0.8336497 , 0.8509597 , 0.8521039 , 0.82612073, 0.85715092,\n",
              "        0.85694992, 0.86778408, 0.88533984, 0.88697538, 0.87044271,\n",
              "        0.88763626, 0.88877106, 0.9112318 , 0.92069763, 0.92255199,\n",
              "        0.90453613, 0.9202232 , 0.92145995]),\n",
              " 'std_test_f1_score': array([0.01549111, 0.00554629, 0.00662556, 0.01442819, 0.00723625,\n",
              "        0.00605959, 0.0069728 , 0.00596313, 0.00553673, 0.00748862,\n",
              "        0.0064844 , 0.00496846, 0.00625911, 0.00426554, 0.00409069,\n",
              "        0.00567424, 0.00391661, 0.00416692]),\n",
              " 'rank_test_f1_score': array([17, 16, 15, 18, 13, 14, 12, 10,  9, 11,  8,  7,  5,  3,  1,  6,  4,\n",
              "         2]),\n",
              " 'split0_test_roc_auc_score': array([0.8308805 , 0.84128406, 0.84966638, 0.84311798, 0.85034815,\n",
              "        0.85554914, 0.8646418 , 0.88707306, 0.89299391, 0.8692073 ,\n",
              "        0.89323228, 0.89151925, 0.91785012, 0.92572872, 0.92597185,\n",
              "        0.91313222, 0.92524881, 0.9272129 ]),\n",
              " 'split1_test_roc_auc_score': array([0.81678553, 0.81664082, 0.81985549, 0.80673622, 0.82894657,\n",
              "        0.83585423, 0.85528854, 0.86220891, 0.8676181 , 0.86605613,\n",
              "        0.8663834 , 0.86958378, 0.90003041, 0.91709533, 0.92030206,\n",
              "        0.88580502, 0.91217716, 0.91833479]),\n",
              " 'split2_test_roc_auc_score': array([0.84608191, 0.83159915, 0.82792289, 0.79281074, 0.84242715,\n",
              "        0.8298849 , 0.86772046, 0.87199434, 0.87298945, 0.84038051,\n",
              "        0.87101938, 0.87570149, 0.90498732, 0.91487395, 0.91906992,\n",
              "        0.90278023, 0.91166502, 0.91783644]),\n",
              " 'split3_test_roc_auc_score': array([0.81484481, 0.82890323, 0.83974869, 0.78377757, 0.84564279,\n",
              "        0.83580049, 0.84776526, 0.8786707 , 0.87644748, 0.84929352,\n",
              "        0.88407731, 0.87619165, 0.90102703, 0.91534665, 0.91733687,\n",
              "        0.89982579, 0.91585562, 0.91512306]),\n",
              " 'split4_test_roc_auc_score': array([0.819915  , 0.82965997, 0.82593536, 0.81608097, 0.84737181,\n",
              "        0.83309786, 0.85809504, 0.8732399 , 0.8808872 , 0.8537386 ,\n",
              "        0.87447338, 0.87693899, 0.9138372 , 0.9141481 , 0.92226944,\n",
              "        0.89712987, 0.91930023, 0.91463692]),\n",
              " 'split5_test_roc_auc_score': array([0.79761339, 0.82355801, 0.82354531, 0.78360891, 0.8218053 ,\n",
              "        0.83537591, 0.85348503, 0.87107114, 0.871818  , 0.85675209,\n",
              "        0.87623403, 0.87871137, 0.89789621, 0.91264913, 0.9143955 ,\n",
              "        0.89563977, 0.91218033, 0.91389971]),\n",
              " 'split6_test_roc_auc_score': array([0.83095035, 0.83389649, 0.83193239, 0.81037365, 0.84963146,\n",
              "        0.85284137, 0.85577957, 0.88214695, 0.88238849, 0.85524727,\n",
              "        0.88582883, 0.88361843, 0.91410157, 0.9237424 , 0.92251246,\n",
              "        0.91014957, 0.92251087, 0.92300507]),\n",
              " 'split7_test_roc_auc_score': array([0.76480942, 0.82075234, 0.82988625, 0.81719893, 0.82862994,\n",
              "        0.83309786, 0.86651922, 0.87152029, 0.87645957, 0.85324172,\n",
              "        0.87274168, 0.87275108, 0.90374444, 0.92176987, 0.92276632,\n",
              "        0.90054627, 0.91660968, 0.91685208]),\n",
              " 'split8_test_roc_auc_score': array([0.78813803, 0.83211752, 0.83112913, 0.77696688, 0.84416423,\n",
              "        0.83604558, 0.8613644 , 0.86979799, 0.87670869, 0.86110454,\n",
              "        0.88459569, 0.88286936, 0.90203557, 0.9193244 , 0.920807  ,\n",
              "        0.89757571, 0.91637266, 0.91982397]),\n",
              " 'split9_test_roc_auc_score': array([0.83033074, 0.83383176, 0.83948883, 0.76837284, 0.84021468,\n",
              "        0.85007175, 0.86528708, 0.88212202, 0.88457957, 0.860329  ,\n",
              "        0.88086973, 0.88457285, 0.92077879, 0.92201898, 0.92473236,\n",
              "        0.90327039, 0.91956009, 0.92202032]),\n",
              " 'split10_test_roc_auc_score': array([0.80002723, 0.8306834 , 0.82699835, 0.80518377, 0.83980305,\n",
              "        0.83855883, 0.84564136, 0.8742493 , 0.87597503, 0.86653922,\n",
              "        0.87866533, 0.88015428, 0.90771191, 0.91484207, 0.91485318,\n",
              "        0.89983173, 0.91731147, 0.91756572]),\n",
              " 'split11_test_roc_auc_score': array([0.78187683, 0.82775631, 0.83661537, 0.80455439, 0.84940261,\n",
              "        0.83340229, 0.85129686, 0.87255215, 0.87134602, 0.88184826,\n",
              "        0.87773726, 0.88045138, 0.9124187 , 0.92008909, 0.91836972,\n",
              "        0.89544903, 0.9154077 , 0.91738132]),\n",
              " 'split12_test_roc_auc_score': array([0.80714648, 0.83285143, 0.83532779, 0.8039483 , 0.83776653,\n",
              "        0.84369824, 0.85568584, 0.87891981, 0.87940998, 0.86555769,\n",
              "        0.88655501, 0.88606484, 0.91460871, 0.91831989, 0.92252392,\n",
              "        0.90571048, 0.9198092 , 0.92326052]),\n",
              " 'split13_test_roc_auc_score': array([0.81839614, 0.83208394, 0.82001306, 0.81067839, 0.82662763,\n",
              "        0.8276496 , 0.83673247, 0.86903319, 0.86756671, 0.85988181,\n",
              "        0.86289535, 0.87224479, 0.90326502, 0.90746637, 0.90821371,\n",
              "        0.89142444, 0.91019184, 0.9077222 ]),\n",
              " 'split14_test_roc_auc_score': array([0.82665718, 0.84834945, 0.8459013 , 0.81795433, 0.84984951,\n",
              "        0.84564279, 0.86802196, 0.89049112, 0.88434792, 0.8636118 ,\n",
              "        0.88358311, 0.88654427, 0.90450118, 0.92079491, 0.9227596 ,\n",
              "        0.90449984, 0.92350426, 0.92301275]),\n",
              " 'mean_test_roc_auc_score': array([0.81163024, 0.83093119, 0.83226444, 0.80275759, 0.84017543,\n",
              "        0.83910472, 0.85688833, 0.87567272, 0.87743574, 0.86018596,\n",
              "        0.87859279, 0.87986119, 0.90791961, 0.91788066, 0.91979226,\n",
              "        0.90018469, 0.91718033, 0.91851252]),\n",
              " 'std_test_roc_auc_score': array([0.0210367 , 0.00736076, 0.00856001, 0.01837824, 0.00916742,\n",
              "        0.00820239, 0.00875693, 0.00722077, 0.00667332, 0.00932339,\n",
              "        0.00790196, 0.00588601, 0.00686273, 0.00461101, 0.00446233,\n",
              "        0.00671055, 0.00436468, 0.00463565]),\n",
              " 'rank_test_roc_auc_score': array([17, 16, 15, 18, 13, 14, 12, 10,  9, 11,  8,  7,  5,  3,  1,  6,  4,\n",
              "         2])}"
            ]
          },
          "execution_count": 227,
          "metadata": {},
          "output_type": "execute_result"
        }
      ],
      "source": [
        "grid_result.cv_results_"
      ]
    },
    {
      "cell_type": "code",
      "execution_count": 228,
      "metadata": {},
      "outputs": [],
      "source": [
        "id_vars = ['mean_fit_time', 'std_fit_time', 'mean_score_time', 'std_score_time', 'params', 'mean_test_accuracy_score', 'std_test_accuracy_score', 'rank_test_accuracy_score', 'mean_test_f1_score', 'std_test_f1_score', 'rank_test_f1_score', 'mean_test_roc_auc_score', 'std_test_roc_auc_score', 'rank_test_roc_auc_score']\n",
        "id_vars = id_vars + ['param_max_features', 'param_n_estimators', 'param_max_depth']\n",
        "\n",
        "df_results_RF = pd.DataFrame(grid_result.cv_results_)\n",
        "\n",
        "df_results_RF = pd.melt(df_results_RF, id_vars=id_vars)"
      ]
    },
    {
      "cell_type": "code",
      "execution_count": 229,
      "metadata": {},
      "outputs": [
        {
          "name": "stdout",
          "output_type": "stream",
          "text": [
            "<class 'pandas.core.frame.DataFrame'>\n",
            "RangeIndex: 810 entries, 0 to 809\n",
            "Data columns (total 19 columns):\n",
            " #   Column                    Non-Null Count  Dtype  \n",
            "---  ------                    --------------  -----  \n",
            " 0   mean_fit_time             810 non-null    float64\n",
            " 1   std_fit_time              810 non-null    float64\n",
            " 2   mean_score_time           810 non-null    float64\n",
            " 3   std_score_time            810 non-null    float64\n",
            " 4   params                    810 non-null    object \n",
            " 5   mean_test_accuracy_score  810 non-null    float64\n",
            " 6   std_test_accuracy_score   810 non-null    float64\n",
            " 7   rank_test_accuracy_score  810 non-null    int32  \n",
            " 8   mean_test_f1_score        810 non-null    float64\n",
            " 9   std_test_f1_score         810 non-null    float64\n",
            " 10  rank_test_f1_score        810 non-null    int32  \n",
            " 11  mean_test_roc_auc_score   810 non-null    float64\n",
            " 12  std_test_roc_auc_score    810 non-null    float64\n",
            " 13  rank_test_roc_auc_score   810 non-null    int32  \n",
            " 14  param_max_features        810 non-null    object \n",
            " 15  param_n_estimators        810 non-null    object \n",
            " 16  param_max_depth           810 non-null    object \n",
            " 17  variable                  810 non-null    object \n",
            " 18  value                     810 non-null    float64\n",
            "dtypes: float64(11), int32(3), object(5)\n",
            "memory usage: 110.9+ KB\n"
          ]
        }
      ],
      "source": [
        "df_results_RF.info()"
      ]
    },
    {
      "cell_type": "code",
      "execution_count": 230,
      "metadata": {},
      "outputs": [
        {
          "data": {
            "text/html": [
              "<div>\n",
              "<style scoped>\n",
              "    .dataframe tbody tr th:only-of-type {\n",
              "        vertical-align: middle;\n",
              "    }\n",
              "\n",
              "    .dataframe tbody tr th {\n",
              "        vertical-align: top;\n",
              "    }\n",
              "\n",
              "    .dataframe thead th {\n",
              "        text-align: right;\n",
              "    }\n",
              "</style>\n",
              "<table border=\"1\" class=\"dataframe\">\n",
              "  <thead>\n",
              "    <tr style=\"text-align: right;\">\n",
              "      <th></th>\n",
              "      <th>params</th>\n",
              "      <th>variable</th>\n",
              "      <th>value</th>\n",
              "    </tr>\n",
              "  </thead>\n",
              "  <tbody>\n",
              "    <tr>\n",
              "      <th>0</th>\n",
              "      <td>{'max_depth': 3, 'max_features': 'sqrt', 'n_es...</td>\n",
              "      <td>split0_test_accuracy_score</td>\n",
              "      <td>0.830492</td>\n",
              "    </tr>\n",
              "    <tr>\n",
              "      <th>1</th>\n",
              "      <td>{'max_depth': 3, 'max_features': 'sqrt', 'n_es...</td>\n",
              "      <td>split0_test_accuracy_score</td>\n",
              "      <td>0.840870</td>\n",
              "    </tr>\n",
              "    <tr>\n",
              "      <th>2</th>\n",
              "      <td>{'max_depth': 3, 'max_features': 'sqrt', 'n_es...</td>\n",
              "      <td>split0_test_accuracy_score</td>\n",
              "      <td>0.849271</td>\n",
              "    </tr>\n",
              "    <tr>\n",
              "      <th>3</th>\n",
              "      <td>{'max_depth': 3, 'max_features': 'log2', 'n_es...</td>\n",
              "      <td>split0_test_accuracy_score</td>\n",
              "      <td>0.842847</td>\n",
              "    </tr>\n",
              "    <tr>\n",
              "      <th>4</th>\n",
              "      <td>{'max_depth': 3, 'max_features': 'log2', 'n_es...</td>\n",
              "      <td>split0_test_accuracy_score</td>\n",
              "      <td>0.850012</td>\n",
              "    </tr>\n",
              "    <tr>\n",
              "      <th>...</th>\n",
              "      <td>...</td>\n",
              "      <td>...</td>\n",
              "      <td>...</td>\n",
              "    </tr>\n",
              "    <tr>\n",
              "      <th>805</th>\n",
              "      <td>{'max_depth': 8, 'max_features': 'sqrt', 'n_es...</td>\n",
              "      <td>split14_test_roc_auc_score</td>\n",
              "      <td>0.920795</td>\n",
              "    </tr>\n",
              "    <tr>\n",
              "      <th>806</th>\n",
              "      <td>{'max_depth': 8, 'max_features': 'sqrt', 'n_es...</td>\n",
              "      <td>split14_test_roc_auc_score</td>\n",
              "      <td>0.922760</td>\n",
              "    </tr>\n",
              "    <tr>\n",
              "      <th>807</th>\n",
              "      <td>{'max_depth': 8, 'max_features': 'log2', 'n_es...</td>\n",
              "      <td>split14_test_roc_auc_score</td>\n",
              "      <td>0.904500</td>\n",
              "    </tr>\n",
              "    <tr>\n",
              "      <th>808</th>\n",
              "      <td>{'max_depth': 8, 'max_features': 'log2', 'n_es...</td>\n",
              "      <td>split14_test_roc_auc_score</td>\n",
              "      <td>0.923504</td>\n",
              "    </tr>\n",
              "    <tr>\n",
              "      <th>809</th>\n",
              "      <td>{'max_depth': 8, 'max_features': 'log2', 'n_es...</td>\n",
              "      <td>split14_test_roc_auc_score</td>\n",
              "      <td>0.923013</td>\n",
              "    </tr>\n",
              "  </tbody>\n",
              "</table>\n",
              "<p>810 rows × 3 columns</p>\n",
              "</div>"
            ],
            "text/plain": [
              "                                                params  \\\n",
              "0    {'max_depth': 3, 'max_features': 'sqrt', 'n_es...   \n",
              "1    {'max_depth': 3, 'max_features': 'sqrt', 'n_es...   \n",
              "2    {'max_depth': 3, 'max_features': 'sqrt', 'n_es...   \n",
              "3    {'max_depth': 3, 'max_features': 'log2', 'n_es...   \n",
              "4    {'max_depth': 3, 'max_features': 'log2', 'n_es...   \n",
              "..                                                 ...   \n",
              "805  {'max_depth': 8, 'max_features': 'sqrt', 'n_es...   \n",
              "806  {'max_depth': 8, 'max_features': 'sqrt', 'n_es...   \n",
              "807  {'max_depth': 8, 'max_features': 'log2', 'n_es...   \n",
              "808  {'max_depth': 8, 'max_features': 'log2', 'n_es...   \n",
              "809  {'max_depth': 8, 'max_features': 'log2', 'n_es...   \n",
              "\n",
              "                       variable     value  \n",
              "0    split0_test_accuracy_score  0.830492  \n",
              "1    split0_test_accuracy_score  0.840870  \n",
              "2    split0_test_accuracy_score  0.849271  \n",
              "3    split0_test_accuracy_score  0.842847  \n",
              "4    split0_test_accuracy_score  0.850012  \n",
              "..                          ...       ...  \n",
              "805  split14_test_roc_auc_score  0.920795  \n",
              "806  split14_test_roc_auc_score  0.922760  \n",
              "807  split14_test_roc_auc_score  0.904500  \n",
              "808  split14_test_roc_auc_score  0.923504  \n",
              "809  split14_test_roc_auc_score  0.923013  \n",
              "\n",
              "[810 rows x 3 columns]"
            ]
          },
          "execution_count": 230,
          "metadata": {},
          "output_type": "execute_result"
        }
      ],
      "source": [
        "df_results_RF[['params', 'variable', 'value']]"
      ]
    },
    {
      "cell_type": "markdown",
      "metadata": {},
      "source": [
        "Agora, basta filtrar cada configuração dos parâmetros e cada métrica para que tenhamos os resultados de cada experimento realizado."
      ]
    },
    {
      "cell_type": "code",
      "execution_count": 157,
      "metadata": {},
      "outputs": [],
      "source": [
        "def valores(modelo, parametros, metric):\n",
        "  col1, param1, col2, param2, col3, param3 = parametros\n",
        "  val = modelo[(modelo[\"param_\"+col1]==param1) & (modelo[\"param_\"+col2]==param2) & (modelo[\"param_\"+col3]==param3)]\n",
        "  val = val.loc[val.variable.str.contains(f'[a-zA-Z]+[0-9]+_[a-zA-Z]+_{metric}+'), 'value']\n",
        "  return val"
      ]
    },
    {
      "cell_type": "code",
      "execution_count": 231,
      "metadata": {},
      "outputs": [],
      "source": [
        "metrica = [*metricas.keys()]\n",
        "dict_acuracia, dict_f1, dict_roc = {}, {}, {}\n",
        "\n",
        "parametros_combinacoes = list( df_results_RF['params'].value_counts().index )\n",
        "\n",
        "for combinacao in [i.items() for i in parametros_combinacoes]:\n",
        "    # param = (nome, valor)\n",
        "    param1, param2, param3 = list(combinacao)\n",
        "    nome_coluna = f\"{param1[0][:6]}_{param1[1]}-{param2[0][:6]}_{param2[1]}-{param3[0][:6]}_{param3[1]}\"\n",
        "    parametros = [param1[0], param1[1], param2[0], param2[1], param3[0], param3[1]]\n",
        "\n",
        "    dict_acuracia[nome_coluna] = valores(df_results_RF, parametros, metrica[0])\n",
        "    dict_f1[nome_coluna] = valores(df_results_RF, parametros, metrica[1])\n",
        "    dict_roc[nome_coluna] = valores(df_results_RF, parametros, metrica[2])\n",
        "\n",
        "df_acuracia, df_f1, df_roc = pd.DataFrame(dict_acuracia), pd.DataFrame(dict_f1), pd.DataFrame(dict_roc)"
      ]
    },
    {
      "cell_type": "code",
      "execution_count": 232,
      "metadata": {},
      "outputs": [
        {
          "name": "stdout",
          "output_type": "stream",
          "text": [
            "<class 'pandas.core.frame.DataFrame'>\n",
            "Int64Index: 270 entries, 0 to 269\n",
            "Data columns (total 18 columns):\n",
            " #   Column                           Non-Null Count  Dtype  \n",
            "---  ------                           --------------  -----  \n",
            " 0   max_de_8-max_fe_log2-n_esti_300  15 non-null     float64\n",
            " 1   max_de_8-max_fe_log2-n_esti_10   15 non-null     float64\n",
            " 2   max_de_3-max_fe_sqrt-n_esti_300  15 non-null     float64\n",
            " 3   max_de_3-max_fe_log2-n_esti_100  15 non-null     float64\n",
            " 4   max_de_5-max_fe_sqrt-n_esti_10   15 non-null     float64\n",
            " 5   max_de_5-max_fe_sqrt-n_esti_300  15 non-null     float64\n",
            " 6   max_de_5-max_fe_log2-n_esti_100  15 non-null     float64\n",
            " 7   max_de_8-max_fe_sqrt-n_esti_10   15 non-null     float64\n",
            " 8   max_de_8-max_fe_sqrt-n_esti_300  15 non-null     float64\n",
            " 9   max_de_8-max_fe_log2-n_esti_100  15 non-null     float64\n",
            " 10  max_de_3-max_fe_sqrt-n_esti_100  15 non-null     float64\n",
            " 11  max_de_3-max_fe_log2-n_esti_10   15 non-null     float64\n",
            " 12  max_de_3-max_fe_log2-n_esti_300  15 non-null     float64\n",
            " 13  max_de_5-max_fe_sqrt-n_esti_100  15 non-null     float64\n",
            " 14  max_de_5-max_fe_log2-n_esti_10   15 non-null     float64\n",
            " 15  max_de_5-max_fe_log2-n_esti_300  15 non-null     float64\n",
            " 16  max_de_8-max_fe_sqrt-n_esti_100  15 non-null     float64\n",
            " 17  max_de_3-max_fe_sqrt-n_esti_10   15 non-null     float64\n",
            "dtypes: float64(18)\n",
            "memory usage: 40.1 KB\n"
          ]
        }
      ],
      "source": [
        "# exemplo de como estão sendo armazenados os resultados\n",
        "df_acuracia.info()"
      ]
    },
    {
      "cell_type": "code",
      "execution_count": 256,
      "metadata": {},
      "outputs": [
        {
          "data": {
            "image/png": "[encoded data removed]",
            "text/plain": [
              "<Figure size 648x288 with 1 Axes>"
            ]
          },
          "metadata": {
            "needs_background": "light"
          },
          "output_type": "display_data"
        }
      ],
      "source": [
        "fig, ax = plt.subplots(figsize=(9,4))\n",
        "sns.boxplot(ax=ax, data=df_acuracia, width = 0.5, fliersize = 3)\n",
        "ax.set_xlabel(\"Classificadores\")\n",
        "ax.set_ylabel(\"Acurácia\")\n",
        "plt.xticks(rotation=-90)\n",
        "plt.show()"
      ]
    },
    {
      "cell_type": "code",
      "execution_count": 257,
      "metadata": {},
      "outputs": [
        {
          "data": {
            "image/png": "[encoded data removed]",
            "text/plain": [
              "<Figure size 648x288 with 1 Axes>"
            ]
          },
          "metadata": {
            "needs_background": "light"
          },
          "output_type": "display_data"
        }
      ],
      "source": [
        "fig, ax = plt.subplots(figsize=(9,4))\n",
        "sns.boxplot(ax=ax, data=df_f1, width = 0.5, fliersize = 3)\n",
        "ax.set_xlabel(\"Classificadores\")\n",
        "ax.set_ylabel(\"F1\")\n",
        "plt.xticks(rotation=-90)\n",
        "plt.show()"
      ]
    },
    {
      "cell_type": "code",
      "execution_count": 254,
      "metadata": {},
      "outputs": [
        {
          "data": {
            "image/png": "[encoded data removed]",
            "text/plain": [
              "<Figure size 648x288 with 1 Axes>"
            ]
          },
          "metadata": {
            "needs_background": "light"
          },
          "output_type": "display_data"
        }
      ],
      "source": [
        "fig, ax = plt.subplots(figsize=(9,4))\n",
        "sns.boxplot(ax=ax, data=df_roc, width = 0.5, fliersize = 3)\n",
        "ax.set_xlabel(\"Classificadores\")\n",
        "ax.set_ylabel(\"AUC ROC\")\n",
        "plt.xticks(rotation=-90)\n",
        "plt.show()"
      ]
    },
    {
      "cell_type": "markdown",
      "metadata": {},
      "source": [
        "Observando cada configuração, os valores para cada uma das três métricas são semelhantes. É importante deixar claro que não há um significado específico para isso. Conhecendo as expressões matemáticas de cada uma dessas métricas, esse comportamento é previsto quando os valores de Falso Positivo e Falso Negativo são iguais (ou perto disso) e pequenos.\n",
        "\n",
        "Com isso, a configuração escolhida é a com melhor desempenho (melhor distribuído próximo a 1) em todas (ou na maioria) das métricas. Sendo assim, foi escolhida a configuração com max_depth=8, n_estimators=300 e max_features='log2'."
      ]
    },
    {
      "cell_type": "markdown",
      "metadata": {},
      "source": [
        "## PARTE 13: Investigar o melhor modelo"
      ]
    },
    {
      "cell_type": "code",
      "execution_count": 240,
      "metadata": {},
      "outputs": [],
      "source": [
        "best_model = RandomForestClassifier(max_depth=8, n_estimators=300, max_features='log2').fit(X_train_over, y_train_over)"
      ]
    },
    {
      "cell_type": "markdown",
      "metadata": {},
      "source": [
        "A primeira abordagem escolhida como forma de entender quais atributos são considerados mais relevantes na classificação do modelo com melhor desempenho foi a de observar a Importância da Permutação. Este método embaralha aleatoriamente cada atributo e calcula a mudança no desempenho do modelo. Então, quanto mais uma mudança em um determinado atributo impacta no desempenho do modelo, mais importante este atributo é."
      ]
    },
    {
      "cell_type": "code",
      "execution_count": 182,
      "metadata": {},
      "outputs": [
        {
          "data": {
            "image/png": "[encoded data removed]",
            "text/plain": [
              "<Figure size 1080x648 with 1 Axes>"
            ]
          },
          "metadata": {
            "needs_background": "light"
          },
          "output_type": "display_data"
        }
      ],
      "source": [
        "perm_importance = permutation_importance(best_model, X_test, y_test, n_repeats=10)\n",
        "\n",
        "best_model_importances = pd.Series(perm_importance.importances_mean, index=X_test.columns)\n",
        "best_model_importances = best_model_importances.sort_values(ascending=True)\n",
        "\n",
        "fig, ax = plt.subplots()\n",
        "best_model_importances.plot.barh(yerr=perm_importance.importances_std, ax=ax, figsize=(15,9))\n",
        "ax.set_title(\"Importância da Permutação (dados de treino)\")\n",
        "fig.tight_layout()\n",
        "plt.show()"
      ]
    },
    {
      "cell_type": "markdown",
      "metadata": {},
      "source": [
        "Porém, um problema foi notado: comparando o resultado acima com o teste de independência realizado na PARTE 7, é possível observar que os dois atributos que aparentam ter maior relação com a variável alvo ('BasePolicy_Liability' e 'PolicyType_Sedan - Liability'), aparecem com uma importância baixíssima.\n",
        "\n",
        "Isso se dá por conta de uma limitação da abordagem escolhida. A Importância da Permutação não performa bem caso existam atributos que não sejam totalmente independentes e se correlacionem de alguma forma. E, como pode ser visto abaixo, estes dois atributos citados podem ser considerados colineares (se correlacionando de alguma forma, mas não necessariamente com uma relação estritamente linear)."
      ]
    },
    {
      "cell_type": "code",
      "execution_count": 91,
      "metadata": {},
      "outputs": [
        {
          "data": {
            "text/html": [
              "<div>\n",
              "<style scoped>\n",
              "    .dataframe tbody tr th:only-of-type {\n",
              "        vertical-align: middle;\n",
              "    }\n",
              "\n",
              "    .dataframe tbody tr th {\n",
              "        vertical-align: top;\n",
              "    }\n",
              "\n",
              "    .dataframe thead th {\n",
              "        text-align: right;\n",
              "    }\n",
              "</style>\n",
              "<table border=\"1\" class=\"dataframe\">\n",
              "  <thead>\n",
              "    <tr style=\"text-align: right;\">\n",
              "      <th>BasePolicy_Liability</th>\n",
              "      <th>0</th>\n",
              "      <th>1</th>\n",
              "    </tr>\n",
              "    <tr>\n",
              "      <th>PolicyType_Sedan - Liability</th>\n",
              "      <th></th>\n",
              "      <th></th>\n",
              "    </tr>\n",
              "  </thead>\n",
              "  <tbody>\n",
              "    <tr>\n",
              "      <th>0</th>\n",
              "      <td>10410</td>\n",
              "      <td>22</td>\n",
              "    </tr>\n",
              "    <tr>\n",
              "      <th>1</th>\n",
              "      <td>0</td>\n",
              "      <td>4987</td>\n",
              "    </tr>\n",
              "  </tbody>\n",
              "</table>\n",
              "</div>"
            ],
            "text/plain": [
              "BasePolicy_Liability              0     1\n",
              "PolicyType_Sedan - Liability             \n",
              "0                             10410    22\n",
              "1                                 0  4987"
            ]
          },
          "execution_count": 91,
          "metadata": {},
          "output_type": "execute_result"
        }
      ],
      "source": [
        "pd.crosstab(df_final['PolicyType_Sedan - Liability'], df_final['BasePolicy_Liability'])"
      ]
    },
    {
      "cell_type": "markdown",
      "metadata": {},
      "source": [
        "Uma outra forma de entender quais atributos são considerados mais relevantes na classificação do modelo com melhor desempenho é com a Importância da Característica da Floresta Aleatória, um recurso baseado em impureza. O princípio desse método é baseado no critério considerado na divisão dos nós em uma árvore de decisão, onde a 'impureza' se refere a uma métrica usada para determinar como (usando qual atributo e em qual limite) dividir os dados em grupos menores. \n",
        "\n",
        "Se o atributo é útil, este tende a dividir nós rotulados mistos em nós puros de classe única. Então, podemos medir como cada atributo diminui a impureza da divisão (o recurso com maior diminuição é selecionado para o nó interno). Para cada atributo, podemos coletar como, em média, diminui a impureza. A média de todas as árvores é a medida da importância da característica."
      ]
    },
    {
      "cell_type": "code",
      "execution_count": 178,
      "metadata": {},
      "outputs": [
        {
          "data": {
            "image/png": "[encoded data removed]",
            "text/plain": [
              "<Figure size 1224x648 with 1 Axes>"
            ]
          },
          "metadata": {
            "needs_background": "light"
          },
          "output_type": "display_data"
        }
      ],
      "source": [
        "importances = best_model.feature_importances_\n",
        "best_model_importances = pd.Series(importances, index=X_train_over.columns)\n",
        "best_model_importances = best_model_importances.sort_values(ascending=True)\n",
        "\n",
        "fig, ax = plt.subplots()\n",
        "best_model_importances.plot.barh(ax=ax, figsize=(17,9))\n",
        "ax.set_title(\"Importância da Característica da Floresta Aleatória - Diminuição Média de Impureza (MDI)\")\n",
        "fig.tight_layout()"
      ]
    },
    {
      "cell_type": "markdown",
      "metadata": {},
      "source": [
        "Como todos os valores necessários são calculados durante o treinamento, este método é executado rapidamente. Além disso, é possível observar um comportamento mais semelhante com o resultado obtido no teste de independência da PARTE 7. Porém, é importante salientar que este método tem a tendência de preferir (selecionar como importantes) atributos numéricos e atributos categóricos com alta cardinalidade (muitos valores exclusivos, como era o caso de 'PolicyNumber', excluído no tratamento dos dados). E, no caso de atributos correlacionados, pode-se selecionar apenas um dos atributos e negligenciar a importância do outro (o que pode levar a conclusões erradas).\n",
        "\n",
        "É importante entender que qualquer abordagem escolhida traz consigo alguma limitação. Para este projeto, apesar das desvantagens comentadas, o segundo método apresentou o melhor desempenho, corroborando com algumas análises realizadas anteriormente e permitindo uma maior compreensão do problema.\n",
        "\n",
        "Agora, com o modelo treinado (usando dados balanceados), verificaremos a performance com os dados de teste (que mantêm a proporção original)."
      ]
    },
    {
      "cell_type": "code",
      "execution_count": 241,
      "metadata": {},
      "outputs": [
        {
          "data": {
            "text/plain": [
              "0    4349\n",
              "1     277\n",
              "Name: FraudFound_P, dtype: int64"
            ]
          },
          "execution_count": 241,
          "metadata": {},
          "output_type": "execute_result"
        }
      ],
      "source": [
        "y_test.value_counts()"
      ]
    },
    {
      "cell_type": "code",
      "execution_count": 242,
      "metadata": {},
      "outputs": [
        {
          "data": {
            "image/png": "[encoded data removed]",
            "text/plain": [
              "<Figure size 432x288 with 2 Axes>"
            ]
          },
          "metadata": {
            "needs_background": "light"
          },
          "output_type": "display_data"
        }
      ],
      "source": [
        "y_pred = best_model.predict(X_test)\n",
        "\n",
        "matriz_confusao = metrics.confusion_matrix(y_test, y_pred)\n",
        "\n",
        "ax = sns.heatmap(matriz_confusao, annot=True, fmt='g', cmap='Blues')\n",
        "\n",
        "ax.set_xlabel('\\nPredição')\n",
        "ax.set_ylabel('Valor real')\n",
        "\n",
        "plt.show()"
      ]
    },
    {
      "cell_type": "code",
      "execution_count": 243,
      "metadata": {},
      "outputs": [
        {
          "data": {
            "image/png": "[encoded data removed]",
            "text/plain": [
              "<Figure size 432x288 with 2 Axes>"
            ]
          },
          "metadata": {
            "needs_background": "light"
          },
          "output_type": "display_data"
        }
      ],
      "source": [
        "ax1 = sns.heatmap(matriz_confusao/np.sum(matriz_confusao), annot=True, cmap='Blues')\n",
        "\n",
        "ax1.set_xlabel('\\nPredição')\n",
        "ax1.set_ylabel('Valor real')\n",
        "\n",
        "plt.show()"
      ]
    },
    {
      "cell_type": "code",
      "execution_count": 244,
      "metadata": {},
      "outputs": [
        {
          "name": "stdout",
          "output_type": "stream",
          "text": [
            "acurácia: 0.8372243839169909\n",
            "precisão: 0.15804597701149425\n",
            "recall: 0.3971119133574007\n",
            "f1-score: 0.22610483042137722\n",
            "ROC: 0.6311841470672954\n"
          ]
        }
      ],
      "source": [
        "print(f\"acurácia: {metrics.accuracy_score(y_test, y_pred)}\")\n",
        "print(f\"precisão: {metrics.precision_score(y_test, y_pred)}\")\n",
        "print(f\"recall: {metrics.recall_score(y_test, y_pred)}\")\n",
        "print(f\"f1-score: {metrics.f1_score(y_test, y_pred)}\")\n",
        "print(f\"ROC: {metrics.roc_auc_score(y_test, y_pred)}\")"
      ]
    },
    {
      "cell_type": "markdown",
      "metadata": {},
      "source": [
        "## PARTE 14: Conclusão e discussão\n",
        "\n",
        "Nota-se um desempenho diferente, em geral menor, quando observados os resultados de teste. Porém, isso é esperado, pois os dados utilizados na validação cruzada e no teste são diferentes e, ainda mais importante, os dados de teste apresentam o desbalanceamento real de solicitações identificadas ou não como fraudulentas. Dessa forma, conseguimos verificar se de fato o modelo aprendeu a generalizar o problema.\n",
        "\n",
        "O que é possível tirar de conclusão a partir dos resultados:\n",
        "\n",
        "- a pessoa considerada culpada pelo acidente demonstra ser bastante importante;\n",
        "\n",
        "- o tipo de apólice contratada se mostra bem relevante para o classificador, principalmente para 'Liability' (indenização à terceiros quando o titular da apólice é o culpado) e segundo para 'All Perils' (indenização em casos de incêndio, roubo, vandalismo, etc - exceto colisão);\n",
        "\n",
        "- a categoria do veículo também parece ser relevante, principalmente quando 'Sedan' ou 'Sport';\n",
        "\n",
        "- em relação ao histórico do titular da apólice/condutor vemos 'AddressChange_Claim' e 'PastNumberOfClaims' como fatores importantes. Porém, 'Days_Policy_Accident' e 'Days_Policy_Claim' não parecem ser tão significativos;\n",
        "\n",
        "- já sobre as características pessoais  do titular da apólice/condutor (exceto por 'Age'), nem tanto se tira de 'Sex' e 'MaritalStatus';\n",
        "\n",
        "- os atributos relacionados aos períodos do acidente e da solicitação de indenização também se mostram relevantes para o problema, principalmente com 'Month' e 'MonthClaimed';\n",
        "\n",
        "- alguns fatores mostraram pouca relevância para o problema, como: presença de testemunha no momento do acidente ('WitnessPresent'), realização de boletim de ocorrência para o acontecido ('PoliceReportFiled') e a área em que o acidente ocorreu ('AccidentArea')."
      ]
    }
  ],
  "metadata": {
    "colab": {
      "collapsed_sections": [
        "N1H4xy9Q4uTv",
        "0Mo4hBsj5bbA"
      ],
      "name": "insurance-fraud-detection.ipynb",
      "provenance": []
    },
    "interpreter": {
      "hash": "d6cd257906ac1e8b880016419fc620c6d832bb406340c745d3507cc8a681b5df"
    },
    "kernelspec": {
      "display_name": "Python 3.9.1 64-bit",
      "language": "python",
      "name": "python3"
    },
    "language_info": {
      "codemirror_mode": {
        "name": "ipython",
        "version": 3
      },
      "file_extension": ".py",
      "mimetype": "text/x-python",
      "name": "python",
      "nbconvert_exporter": "python",
      "pygments_lexer": "ipython3",
      "version": "3.9.1"
    }
  },
  "nbformat": 4,
  "nbformat_minor": 0
}
