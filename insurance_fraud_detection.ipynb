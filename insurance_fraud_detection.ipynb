{
  "cells": [
    {
      "cell_type": "markdown",
      "metadata": {
        "id": "BQpPSTu231Lh"
      },
      "source": [
        "# Detecção de fraude em seguro de veículo\n",
        "\n"
      ]
    },
    {
      "cell_type": "markdown",
      "metadata": {
        "id": "9TiNc0my6Cq-"
      },
      "source": [
        "## Sobre"
      ]
    },
    {
      "cell_type": "markdown",
      "metadata": {
        "id": "zVWYIGL45jPk"
      },
      "source": [
        "### Objetivo\n",
        "\n",
        "TODO\n",
        "\n",
        "### Base de dados\n",
        "\n",
        "TODO\n",
        "\n",
        "Disponível em: https://www.kaggle.com/datasets/shivamb/vehicle-claim-fraud-detection"
      ]
    },
    {
      "cell_type": "markdown",
      "metadata": {
        "id": "N1H4xy9Q4uTv"
      },
      "source": [
        "## PARTE 1: Importar bibliotecas"
      ]
    },
    {
      "cell_type": "code",
      "execution_count": 65,
      "metadata": {
        "id": "VXnBZ4Fe2jAj"
      },
      "outputs": [],
      "source": [
        "import pandas as pd\n",
        "import seaborn as sns\n",
        "import scipy.stats as stats\n",
        "import matplotlib.pyplot as plt\n",
        "from imblearn.over_sampling import SMOTE\n",
        "from sklearn.model_selection import train_test_split\n",
        "\n",
        "from sklearn.linear_model import LogisticRegression\n",
        "from sklearn.ensemble import RandomForestClassifier\n",
        "from sklearn.model_selection import RepeatedStratifiedKFold\n",
        "from sklearn.model_selection import cross_validate\n",
        "from sklearn.model_selection import GridSearchCV\n",
        "from sklearn import metrics"
      ]
    },
    {
      "cell_type": "markdown",
      "metadata": {
        "id": "0Mo4hBsj5bbA"
      },
      "source": [
        "## PARTE 2: Importar base de dados\n"
      ]
    },
    {
      "cell_type": "code",
      "execution_count": 2,
      "metadata": {
        "id": "fumcC6J72lgF"
      },
      "outputs": [],
      "source": [
        "url_dataset = \"https://github.com/peuvitor/insurance-fraud-detection/blob/main/dataset/fraud_oracle.csv?raw=true\"\n",
        "\n",
        "df_dataset = pd.read_csv(url_dataset)"
      ]
    },
    {
      "cell_type": "markdown",
      "metadata": {},
      "source": [
        "## PARTE 3: Entendimento da base de dados"
      ]
    },
    {
      "cell_type": "markdown",
      "metadata": {},
      "source": [
        "### 3.1. Investigar as colunas existentes\n",
        "\n",
        "Quantas e quais são as colunas? Quais são os seus respectivos tipos?"
      ]
    },
    {
      "cell_type": "code",
      "execution_count": 3,
      "metadata": {},
      "outputs": [
        {
          "data": {
            "text/html": [
              "<div>\n",
              "<style scoped>\n",
              "    .dataframe tbody tr th:only-of-type {\n",
              "        vertical-align: middle;\n",
              "    }\n",
              "\n",
              "    .dataframe tbody tr th {\n",
              "        vertical-align: top;\n",
              "    }\n",
              "\n",
              "    .dataframe thead th {\n",
              "        text-align: right;\n",
              "    }\n",
              "</style>\n",
              "<table border=\"1\" class=\"dataframe\">\n",
              "  <thead>\n",
              "    <tr style=\"text-align: right;\">\n",
              "      <th></th>\n",
              "      <th>Month</th>\n",
              "      <th>WeekOfMonth</th>\n",
              "      <th>DayOfWeek</th>\n",
              "      <th>Make</th>\n",
              "      <th>AccidentArea</th>\n",
              "      <th>DayOfWeekClaimed</th>\n",
              "      <th>MonthClaimed</th>\n",
              "      <th>WeekOfMonthClaimed</th>\n",
              "      <th>Sex</th>\n",
              "      <th>MaritalStatus</th>\n",
              "      <th>...</th>\n",
              "      <th>AgeOfVehicle</th>\n",
              "      <th>AgeOfPolicyHolder</th>\n",
              "      <th>PoliceReportFiled</th>\n",
              "      <th>WitnessPresent</th>\n",
              "      <th>AgentType</th>\n",
              "      <th>NumberOfSuppliments</th>\n",
              "      <th>AddressChange_Claim</th>\n",
              "      <th>NumberOfCars</th>\n",
              "      <th>Year</th>\n",
              "      <th>BasePolicy</th>\n",
              "    </tr>\n",
              "  </thead>\n",
              "  <tbody>\n",
              "    <tr>\n",
              "      <th>0</th>\n",
              "      <td>Dec</td>\n",
              "      <td>5</td>\n",
              "      <td>Wednesday</td>\n",
              "      <td>Honda</td>\n",
              "      <td>Urban</td>\n",
              "      <td>Tuesday</td>\n",
              "      <td>Jan</td>\n",
              "      <td>1</td>\n",
              "      <td>Female</td>\n",
              "      <td>Single</td>\n",
              "      <td>...</td>\n",
              "      <td>3 years</td>\n",
              "      <td>26 to 30</td>\n",
              "      <td>No</td>\n",
              "      <td>No</td>\n",
              "      <td>External</td>\n",
              "      <td>none</td>\n",
              "      <td>1 year</td>\n",
              "      <td>3 to 4</td>\n",
              "      <td>1994</td>\n",
              "      <td>Liability</td>\n",
              "    </tr>\n",
              "    <tr>\n",
              "      <th>1</th>\n",
              "      <td>Jan</td>\n",
              "      <td>3</td>\n",
              "      <td>Wednesday</td>\n",
              "      <td>Honda</td>\n",
              "      <td>Urban</td>\n",
              "      <td>Monday</td>\n",
              "      <td>Jan</td>\n",
              "      <td>4</td>\n",
              "      <td>Male</td>\n",
              "      <td>Single</td>\n",
              "      <td>...</td>\n",
              "      <td>6 years</td>\n",
              "      <td>31 to 35</td>\n",
              "      <td>Yes</td>\n",
              "      <td>No</td>\n",
              "      <td>External</td>\n",
              "      <td>none</td>\n",
              "      <td>no change</td>\n",
              "      <td>1 vehicle</td>\n",
              "      <td>1994</td>\n",
              "      <td>Collision</td>\n",
              "    </tr>\n",
              "    <tr>\n",
              "      <th>2</th>\n",
              "      <td>Oct</td>\n",
              "      <td>5</td>\n",
              "      <td>Friday</td>\n",
              "      <td>Honda</td>\n",
              "      <td>Urban</td>\n",
              "      <td>Thursday</td>\n",
              "      <td>Nov</td>\n",
              "      <td>2</td>\n",
              "      <td>Male</td>\n",
              "      <td>Married</td>\n",
              "      <td>...</td>\n",
              "      <td>7 years</td>\n",
              "      <td>41 to 50</td>\n",
              "      <td>No</td>\n",
              "      <td>No</td>\n",
              "      <td>External</td>\n",
              "      <td>none</td>\n",
              "      <td>no change</td>\n",
              "      <td>1 vehicle</td>\n",
              "      <td>1994</td>\n",
              "      <td>Collision</td>\n",
              "    </tr>\n",
              "    <tr>\n",
              "      <th>3</th>\n",
              "      <td>Jun</td>\n",
              "      <td>2</td>\n",
              "      <td>Saturday</td>\n",
              "      <td>Toyota</td>\n",
              "      <td>Rural</td>\n",
              "      <td>Friday</td>\n",
              "      <td>Jul</td>\n",
              "      <td>1</td>\n",
              "      <td>Male</td>\n",
              "      <td>Married</td>\n",
              "      <td>...</td>\n",
              "      <td>more than 7</td>\n",
              "      <td>51 to 65</td>\n",
              "      <td>Yes</td>\n",
              "      <td>No</td>\n",
              "      <td>External</td>\n",
              "      <td>more than 5</td>\n",
              "      <td>no change</td>\n",
              "      <td>1 vehicle</td>\n",
              "      <td>1994</td>\n",
              "      <td>Liability</td>\n",
              "    </tr>\n",
              "    <tr>\n",
              "      <th>4</th>\n",
              "      <td>Jan</td>\n",
              "      <td>5</td>\n",
              "      <td>Monday</td>\n",
              "      <td>Honda</td>\n",
              "      <td>Urban</td>\n",
              "      <td>Tuesday</td>\n",
              "      <td>Feb</td>\n",
              "      <td>2</td>\n",
              "      <td>Female</td>\n",
              "      <td>Single</td>\n",
              "      <td>...</td>\n",
              "      <td>5 years</td>\n",
              "      <td>31 to 35</td>\n",
              "      <td>No</td>\n",
              "      <td>No</td>\n",
              "      <td>External</td>\n",
              "      <td>none</td>\n",
              "      <td>no change</td>\n",
              "      <td>1 vehicle</td>\n",
              "      <td>1994</td>\n",
              "      <td>Collision</td>\n",
              "    </tr>\n",
              "  </tbody>\n",
              "</table>\n",
              "<p>5 rows × 33 columns</p>\n",
              "</div>"
            ],
            "text/plain": [
              "  Month  WeekOfMonth  DayOfWeek    Make AccidentArea DayOfWeekClaimed  \\\n",
              "0   Dec            5  Wednesday   Honda        Urban          Tuesday   \n",
              "1   Jan            3  Wednesday   Honda        Urban           Monday   \n",
              "2   Oct            5     Friday   Honda        Urban         Thursday   \n",
              "3   Jun            2   Saturday  Toyota        Rural           Friday   \n",
              "4   Jan            5     Monday   Honda        Urban          Tuesday   \n",
              "\n",
              "  MonthClaimed  WeekOfMonthClaimed     Sex MaritalStatus  ...  AgeOfVehicle  \\\n",
              "0          Jan                   1  Female        Single  ...       3 years   \n",
              "1          Jan                   4    Male        Single  ...       6 years   \n",
              "2          Nov                   2    Male       Married  ...       7 years   \n",
              "3          Jul                   1    Male       Married  ...   more than 7   \n",
              "4          Feb                   2  Female        Single  ...       5 years   \n",
              "\n",
              "  AgeOfPolicyHolder PoliceReportFiled WitnessPresent AgentType  \\\n",
              "0          26 to 30                No             No  External   \n",
              "1          31 to 35               Yes             No  External   \n",
              "2          41 to 50                No             No  External   \n",
              "3          51 to 65               Yes             No  External   \n",
              "4          31 to 35                No             No  External   \n",
              "\n",
              "   NumberOfSuppliments  AddressChange_Claim  NumberOfCars  Year  BasePolicy  \n",
              "0                 none               1 year        3 to 4  1994   Liability  \n",
              "1                 none            no change     1 vehicle  1994   Collision  \n",
              "2                 none            no change     1 vehicle  1994   Collision  \n",
              "3          more than 5            no change     1 vehicle  1994   Liability  \n",
              "4                 none            no change     1 vehicle  1994   Collision  \n",
              "\n",
              "[5 rows x 33 columns]"
            ]
          },
          "execution_count": 3,
          "metadata": {},
          "output_type": "execute_result"
        }
      ],
      "source": [
        "df_dataset.head()"
      ]
    },
    {
      "cell_type": "code",
      "execution_count": 4,
      "metadata": {
        "colab": {
          "base_uri": "https://localhost:8080/"
        },
        "id": "vuTI40Y06Nsa",
        "outputId": "48e57588-aaf3-4f36-d698-8e12e4e07c47"
      },
      "outputs": [
        {
          "name": "stdout",
          "output_type": "stream",
          "text": [
            "<class 'pandas.core.frame.DataFrame'>\n",
            "RangeIndex: 15420 entries, 0 to 15419\n",
            "Data columns (total 33 columns):\n",
            " #   Column                Non-Null Count  Dtype \n",
            "---  ------                --------------  ----- \n",
            " 0   Month                 15420 non-null  object\n",
            " 1   WeekOfMonth           15420 non-null  int64 \n",
            " 2   DayOfWeek             15420 non-null  object\n",
            " 3   Make                  15420 non-null  object\n",
            " 4   AccidentArea          15420 non-null  object\n",
            " 5   DayOfWeekClaimed      15420 non-null  object\n",
            " 6   MonthClaimed          15420 non-null  object\n",
            " 7   WeekOfMonthClaimed    15420 non-null  int64 \n",
            " 8   Sex                   15420 non-null  object\n",
            " 9   MaritalStatus         15420 non-null  object\n",
            " 10  Age                   15420 non-null  int64 \n",
            " 11  Fault                 15420 non-null  object\n",
            " 12  PolicyType            15420 non-null  object\n",
            " 13  VehicleCategory       15420 non-null  object\n",
            " 14  VehiclePrice          15420 non-null  object\n",
            " 15  FraudFound_P          15420 non-null  int64 \n",
            " 16  PolicyNumber          15420 non-null  int64 \n",
            " 17  RepNumber             15420 non-null  int64 \n",
            " 18  Deductible            15420 non-null  int64 \n",
            " 19  DriverRating          15420 non-null  int64 \n",
            " 20  Days_Policy_Accident  15420 non-null  object\n",
            " 21  Days_Policy_Claim     15420 non-null  object\n",
            " 22  PastNumberOfClaims    15420 non-null  object\n",
            " 23  AgeOfVehicle          15420 non-null  object\n",
            " 24  AgeOfPolicyHolder     15420 non-null  object\n",
            " 25  PoliceReportFiled     15420 non-null  object\n",
            " 26  WitnessPresent        15420 non-null  object\n",
            " 27  AgentType             15420 non-null  object\n",
            " 28  NumberOfSuppliments   15420 non-null  object\n",
            " 29  AddressChange_Claim   15420 non-null  object\n",
            " 30  NumberOfCars          15420 non-null  object\n",
            " 31  Year                  15420 non-null  int64 \n",
            " 32  BasePolicy            15420 non-null  object\n",
            "dtypes: int64(9), object(24)\n",
            "memory usage: 3.9+ MB\n"
          ]
        }
      ],
      "source": [
        "df_dataset.info()"
      ]
    },
    {
      "cell_type": "markdown",
      "metadata": {},
      "source": [
        "### 3.2. Valores únicos de cada coluna\n",
        "\n",
        "Verificar quais os possíveis valores encontrados na base de dados para cada atributo. Além disso, essa parte será útil para identificar possíveis valores faltantes ou incomuns."
      ]
    },
    {
      "cell_type": "code",
      "execution_count": 5,
      "metadata": {},
      "outputs": [
        {
          "name": "stdout",
          "output_type": "stream",
          "text": [
            "--> 'Month' possui 12 valores únicos, são eles:\n",
            " ['Dec' 'Jan' 'Oct' 'Jun' 'Feb' 'Nov' 'Apr' 'Mar' 'Aug' 'Jul' 'May' 'Sep']\n",
            "--> 'WeekOfMonth' possui 5 valores únicos, são eles:\n",
            " [5 3 2 4 1]\n",
            "--> 'DayOfWeek' possui 7 valores únicos, são eles:\n",
            " ['Wednesday' 'Friday' 'Saturday' 'Monday' 'Tuesday' 'Sunday' 'Thursday']\n",
            "--> 'Make' possui 19 valores únicos, são eles:\n",
            " ['Honda' 'Toyota' 'Ford' 'Mazda' 'Chevrolet' 'Pontiac' 'Accura' 'Dodge'\n",
            " 'Mercury' 'Jaguar' 'Nisson' 'VW' 'Saab' 'Saturn' 'Porche' 'BMW' 'Mecedes'\n",
            " 'Ferrari' 'Lexus']\n",
            "--> 'AccidentArea' possui 2 valores únicos, são eles:\n",
            " ['Urban' 'Rural']\n",
            "--> 'DayOfWeekClaimed' possui 8 valores únicos, são eles:\n",
            " ['Tuesday' 'Monday' 'Thursday' 'Friday' 'Wednesday' 'Saturday' 'Sunday'\n",
            " '0']\n",
            "--> 'MonthClaimed' possui 13 valores únicos, são eles:\n",
            " ['Jan' 'Nov' 'Jul' 'Feb' 'Mar' 'Dec' 'Apr' 'Aug' 'May' 'Jun' 'Sep' 'Oct'\n",
            " '0']\n",
            "--> 'WeekOfMonthClaimed' possui 5 valores únicos, são eles:\n",
            " [1 4 2 3 5]\n",
            "--> 'Sex' possui 2 valores únicos, são eles:\n",
            " ['Female' 'Male']\n",
            "--> 'MaritalStatus' possui 4 valores únicos, são eles:\n",
            " ['Single' 'Married' 'Widow' 'Divorced']\n",
            "--> 'Age' possui 66 valores únicos, são eles:\n",
            " [21 34 47 65 27 20 36  0 30 42 71 52 28 61 38 41 32 40 63 31 45 60 39 55\n",
            " 35 44 72 29 37 59 49 50 26 48 64 33 74 23 25 56 16 68 18 51 22 53 46 43\n",
            " 57 54 69 67 19 78 77 75 80 58 73 24 76 62 79 70 17 66]\n",
            "--> 'Fault' possui 2 valores únicos, são eles:\n",
            " ['Policy Holder' 'Third Party']\n",
            "--> 'PolicyType' possui 9 valores únicos, são eles:\n",
            " ['Sport - Liability' 'Sport - Collision' 'Sedan - Liability'\n",
            " 'Utility - All Perils' 'Sedan - All Perils' 'Sedan - Collision'\n",
            " 'Utility - Collision' 'Utility - Liability' 'Sport - All Perils']\n",
            "--> 'VehicleCategory' possui 3 valores únicos, são eles:\n",
            " ['Sport' 'Utility' 'Sedan']\n",
            "--> 'VehiclePrice' possui 6 valores únicos, são eles:\n",
            " ['more than 69000' '20000 to 29000' '30000 to 39000' 'less than 20000'\n",
            " '40000 to 59000' '60000 to 69000']\n",
            "--> 'FraudFound_P' possui 2 valores únicos, são eles:\n",
            " [0 1]\n",
            "--> 'PolicyNumber' possui 15420 valores únicos, são eles:\n",
            " [    1     2     3 ... 15418 15419 15420]\n",
            "--> 'RepNumber' possui 16 valores únicos, são eles:\n",
            " [12 15  7  4  3 14  1 13 11 16  6  2  8  5  9 10]\n",
            "--> 'Deductible' possui 4 valores únicos, são eles:\n",
            " [300 400 500 700]\n",
            "--> 'DriverRating' possui 4 valores únicos, são eles:\n",
            " [1 4 3 2]\n",
            "--> 'Days_Policy_Accident' possui 5 valores únicos, são eles:\n",
            " ['more than 30' '15 to 30' 'none' '1 to 7' '8 to 15']\n",
            "--> 'Days_Policy_Claim' possui 4 valores únicos, são eles:\n",
            " ['more than 30' '15 to 30' '8 to 15' 'none']\n",
            "--> 'PastNumberOfClaims' possui 4 valores únicos, são eles:\n",
            " ['none' '1' '2 to 4' 'more than 4']\n",
            "--> 'AgeOfVehicle' possui 8 valores únicos, são eles:\n",
            " ['3 years' '6 years' '7 years' 'more than 7' '5 years' 'new' '4 years'\n",
            " '2 years']\n",
            "--> 'AgeOfPolicyHolder' possui 9 valores únicos, são eles:\n",
            " ['26 to 30' '31 to 35' '41 to 50' '51 to 65' '21 to 25' '36 to 40'\n",
            " '16 to 17' 'over 65' '18 to 20']\n",
            "--> 'PoliceReportFiled' possui 2 valores únicos, são eles:\n",
            " ['No' 'Yes']\n",
            "--> 'WitnessPresent' possui 2 valores únicos, são eles:\n",
            " ['No' 'Yes']\n",
            "--> 'AgentType' possui 2 valores únicos, são eles:\n",
            " ['External' 'Internal']\n",
            "--> 'NumberOfSuppliments' possui 4 valores únicos, são eles:\n",
            " ['none' 'more than 5' '3 to 5' '1 to 2']\n",
            "--> 'AddressChange_Claim' possui 5 valores únicos, são eles:\n",
            " ['1 year' 'no change' '4 to 8 years' '2 to 3 years' 'under 6 months']\n",
            "--> 'NumberOfCars' possui 5 valores únicos, são eles:\n",
            " ['3 to 4' '1 vehicle' '2 vehicles' '5 to 8' 'more than 8']\n",
            "--> 'Year' possui 3 valores únicos, são eles:\n",
            " [1994 1995 1996]\n",
            "--> 'BasePolicy' possui 3 valores únicos, são eles:\n",
            " ['Liability' 'Collision' 'All Perils']\n"
          ]
        }
      ],
      "source": [
        "for coluna in df_dataset.columns:\n",
        "    valores_unicos = df_dataset[coluna].unique()\n",
        "    print(f\"--> '{coluna}' possui {len(valores_unicos)} valores únicos, são eles:\\n {valores_unicos}\")"
      ]
    },
    {
      "cell_type": "markdown",
      "metadata": {},
      "source": [
        "### 3.3. Resumo sobre as colunas\n",
        "\n",
        "Breve entendimento de cada atributo. Levando em conta o contexto do problema, em geral o nome da coluna é autoexplicativo, porém, em alguns momentos pode dar margem à mais de uma interpretação. Aqui explicarei o que é cada atributo, como trabalharei com ele e problemas que precisam ser investigados."
      ]
    },
    {
      "cell_type": "markdown",
      "metadata": {},
      "source": [
        "1. **Month** (object):  \n",
        "    - considerarei como o mês em que o acidente ocorreu\n",
        "    - mês abreviado (3 primeiras letras, em inglês)\n",
        "    - contém os 12 possíveis meses, não há valores faltantes nem incompatíveis\n",
        "\n",
        "2. **WeekOfMonth** (int64):\n",
        "    - considerarei como a semana do mês em que o acidente ocorreu\n",
        "    - contém valores inteiros de 1 a 5\n",
        "\n",
        "3. **DayOfWeek** (object):\n",
        "    - considerarei como o dia da semana em que o acidente ocorreu\n",
        "    - nome do dia da semana completo, em inglês\n",
        "    - contém os 7 possíveis dias da semana, não há valores faltantes nem incompatíveis\n",
        "\n",
        "4. **Make** (object):\n",
        "    - considerarei como a marca do veículo envolvido no acidente\n",
        "    - contém uma lista com 19 fabricantes\n",
        "\n",
        "5. **AccidentArea** (object):\n",
        "    - informa se o acidente ocorreu em uma área rural ou urbana\n",
        "\n",
        "6. **DayOfWeekClaimed** (object):\n",
        "    - dia da semana referente ao pedido de seguro\n",
        "    - nome do dia da semana completo, em inglês\n",
        "    - contém 8 valores únicos (7 possíveis dias da semana + '0'), a seguir serão investigados mais a fundo\n",
        "\n",
        "7. **MonthClaimed** (object):\n",
        "    - mês referente ao pedido de seguro\n",
        "    - mês abreviado (3 primeiras letras, em inglês)\n",
        "    - contém 13 valores únicos (12 possíves meses + '0'), a seguir serão investigados mais a fundo\n",
        "\n",
        "8. **WeekOfMonthClaimed** (int64):\n",
        "    - semana do mês referente ao pedido de seguro\n",
        "    - contém valores inteiros de 1 a 5\n",
        "\n",
        "9. **Sex** (object):\n",
        "    - é o sexo biológico da pessoa envolvida no acidente ou da pessoa solicitando o seguro? (considerarei a primeira opção)\n",
        "    - pode ser: sexo masculino ou feminino\n",
        "\n",
        "10. **MaritalStatus** (object):\n",
        "    - é o estado civil da pessoa envolvida no acidente ou da pessoa solicitando o seguro? (considerarei a primeira opção)\n",
        "    - pode ser: solteiro, casado, divorciado ou viúvo\n",
        "\n",
        "11. **Age** (int64):\n",
        "    - é a idade da pessoa envolvida no acidente ou da pessoa solicitando o seguro? (considerarei a primeira opção)\n",
        "    - valores inteiros de 16 a 80 (a seguir, o valor '0' será investigado mais a fundo)\n",
        "\n",
        "12. **Fault** (object):\n",
        "    - indica quem foi considerado como o responsável pelo acidente\n",
        "    - pode ser: titular do seguro ou terceiro\n",
        "\n",
        "13. **PolicyType** (object):\n",
        "    - indica o tipo da apólice contratada\n",
        "    - contém uma lista com 9 tipos, onde cada um é composto por 'categoria do veículo' + 'tipo do seguro'\n",
        "        - categoria do veículo: sport, sedan, utility\n",
        "        - tipo de seguro: liability, all perils, collision\n",
        "    - já existe um atributo para indicar a categoria do veículo (VehicleCategory) e outra para indicar o tipo de seguro (BasePolicy), a seguir verificarei como tratar essas informações duplicadas\n",
        "\n",
        "14. **VehicleCategory** (object):\n",
        "    - indica a categoria do veículo registrado na apólice/envolvido no acidente\n",
        "    - pode ser: sport, sedan, utility\n",
        "\n",
        "15. **VehiclePrice** (object):\n",
        "    - indica o preço do veículo envolvido no acidente\n",
        "    - contém 6 faixas de valores (provavelmente em dólares) \n",
        "    - duas abordagens serão avaliadas: considerar como um dado categórico ou substituir os intervalos pelo valor médio\n",
        "\n",
        "16. **FraudFound_P** (int64):\n",
        "    - indica se aquela solicitação foi ou não uma fraude\n",
        "    - é o atributo alvo\n",
        "\n",
        "17. **PolicyNumber** (int64):\n",
        "    - identifica cada pedido de seguro\n",
        "    - contém 15420 valores inteiros únicos, de 1 a 15420\n",
        "    - a seguir será verificada a relação entre o número da linha e o PolicyNumber, possivelmente são a mesma coisa\n",
        "\n",
        "18. **RepNumber** (int64):\n",
        "    - indica o número do representante\n",
        "    - contém valores inteiros de 1 a 16\n",
        "    - não fica claro a relevância do parâmetro para o problema, a seguir isso será investigado\n",
        "\n",
        "19. **Deductible** (int64):\n",
        "    - indica o valor da franquia do seguro\n",
        "    - 4 opções de valores inteiros: 300, 400, 500 e 700\n",
        "\n",
        "20. **DriverRating** (int64):\n",
        "    - alguma métrica de avaliação do motorista\n",
        "    - contém valores inteiros de 1 a 4\n",
        "    - não fica claro se esses dados se traduzem em categorias ou se estão dentro de um certo intervalo de avaliação\n",
        "\n",
        "21. **Days_Policy_Accident** (object):\n",
        "    - será considerado como o número de dias que se passaram entre a compra da apólice e o acidente\n",
        "    - contém 5 faixas de valores \n",
        "    - duas abordagens serão avaliadas: considerar como um dado categórico ou substituir os intervalos pelo valor médio\n",
        "\n",
        "22. **Days_Policy_Claim** (object):\n",
        "    - será considerado como o número de dias que se passaram entre a compra da apólice e o pedido de indenização\n",
        "    - contém 4 faixas de valores \n",
        "    - duas abordagens serão avaliadas: considerar como um dado categórico ou substituir os intervalos pelo valor médio\n",
        "\n",
        "23. **PastNumberOfClaims** (object):\n",
        "    - indica quantas vezes a mesma pessoa realizou pedidos de indenização\n",
        "    - contém 4 faixas de valores\n",
        "\n",
        "24. **AgeOfVehicle** (object):\n",
        "    - indica a idade do veículo (considerarei referenre ao momento do acidente)\n",
        "    - contém 8 faixas de valores \n",
        "    - duas abordagens serão avaliadas: considerar como um dado categórico ou substituir os intervalos pelo valor médio\n",
        "\n",
        "25. **AgeOfPolicyHolder** (object):\n",
        "    - indica a idade do titular da apólice\n",
        "    - contém 9 faixas de valores\n",
        "    - duas abordagens serão avaliadas: considerar como um dado categórico ou substituir os intervalos pelo valor médio\n",
        "\n",
        "26. **PoliceReportFiled** (object):\n",
        "    - indica se foi feito um boletim de ocorrência para o acidente\n",
        "    - pode ser: sim ou não\n",
        "\n",
        "27. **WitnessPresent** (object):\n",
        "    - indica se uma testemunha estava presente no momento do acidente\n",
        "    - pode ser: sim ou não\n",
        "\n",
        "28. **AgentType** (object):\n",
        "    - classifica um agente (relacionado ao acidente ou ao pedido) como externo ou interno\n",
        "    - não fica claro a relevância do parâmetro para o problema, a seguir isso será investigado\n",
        "\n",
        "29. **NumberOfSuppliments** (object):\n",
        "    - indica algum tipo de suplemento no seguro\n",
        "    - contém 4 faixas de valores\n",
        "    - duas abordagens serão avaliadas: considerar como um dado categórico ou substituir os intervalos pelo valor médio\n",
        "    - não fica claro a relevância do parâmetro para o problema, a seguir isso será investigado\n",
        "\n",
        "30. **AddressChange_Claim** (object):\n",
        "    - indica quantos anos se passaram entre a última vez que foi registrado uma mudança de endereço e o pedido de indenização\n",
        "    - contém 5 faixas de valores\n",
        "    - duas abordagens serão avaliadas: considerar como um dado categórico ou substituir os intervalos pelo valor médio\n",
        "\n",
        "31. **NumberOfCars** (object):\n",
        "    - considerarei como o número de carros cobertos pela apólice (outra possibilidade seria o número de carros envolvidos no acidente)\n",
        "    - contém 5 faixas de valores\n",
        "    - duas abordagens serão avaliadas: considerar como um dado categórico ou substituir os intervalos pelo valor médio\n",
        "\n",
        "32. **Year** (int64):\n",
        "    - considerarei como o ano em que o acidente ocorreu\n",
        "    - pode ser: 1994, 1995 e 1996\n",
        "\n",
        "33. **BasePolicy** (object):\n",
        "    - indica o tipo de seguro contratado\n",
        "    - pode ser: liability, all perils, collision"
      ]
    },
    {
      "cell_type": "markdown",
      "metadata": {},
      "source": [
        "## PARTE 4: Tratamento dos dados"
      ]
    },
    {
      "cell_type": "code",
      "execution_count": 6,
      "metadata": {},
      "outputs": [],
      "source": [
        "df_dataset_1 = df_dataset.copy()"
      ]
    },
    {
      "cell_type": "markdown",
      "metadata": {},
      "source": [
        "### 4.1. Verificar relação entre os índices das linhas do dataset e 'PolicyNumber'\n",
        "\n",
        "PolicyNumber é igual ao índice da linha+1?"
      ]
    },
    {
      "cell_type": "code",
      "execution_count": 7,
      "metadata": {},
      "outputs": [
        {
          "data": {
            "text/plain": [
              "<bound method NDFrame.describe of 0            1\n",
              "1            2\n",
              "2            3\n",
              "3            4\n",
              "4            5\n",
              "         ...  \n",
              "15415    15416\n",
              "15416    15417\n",
              "15417    15418\n",
              "15418    15419\n",
              "15419    15420\n",
              "Name: PolicyNumber, Length: 15420, dtype: int64>"
            ]
          },
          "execution_count": 7,
          "metadata": {},
          "output_type": "execute_result"
        }
      ],
      "source": [
        "df_dataset_1['PolicyNumber'].describe"
      ]
    },
    {
      "cell_type": "code",
      "execution_count": 8,
      "metadata": {},
      "outputs": [
        {
          "name": "stdout",
          "output_type": "stream",
          "text": [
            "Número de linhas do dataset: 15420\n",
            "Quantidade de linhas onde PolicyNumber = indice+1: 15420\n"
          ]
        }
      ],
      "source": [
        "df_dataset_total_linhas = len(df_dataset_1)\n",
        "\n",
        "PolicyNumber_e_indice = sum(1 if df_dataset_1['PolicyNumber'].iloc[indice] == indice+1 else 0 \\\n",
        "                                    for indice in range(df_dataset_total_linhas))\n",
        "\n",
        "print(f\"Número de linhas do dataset: {df_dataset_total_linhas}\")\n",
        "print(f\"Quantidade de linhas onde PolicyNumber = indice+1: {PolicyNumber_e_indice}\")"
      ]
    },
    {
      "cell_type": "markdown",
      "metadata": {},
      "source": [
        "Como a suposição foi provada verdadeira, esta coluna será ignorada, pois não apresenta utilidade para o problema em questão."
      ]
    },
    {
      "cell_type": "code",
      "execution_count": 9,
      "metadata": {},
      "outputs": [],
      "source": [
        "df_dataset_1.drop(columns='PolicyNumber', inplace=True)"
      ]
    },
    {
      "cell_type": "markdown",
      "metadata": {},
      "source": [
        "### 4.2. Tratar o valor 0 encontrado em 'DayOfWeekClaimed', 'MonthClaimed' e 'Age'"
      ]
    },
    {
      "cell_type": "code",
      "execution_count": 10,
      "metadata": {},
      "outputs": [
        {
          "name": "stdout",
          "output_type": "stream",
          "text": [
            "DayOfWeekClaimed e MonthClaimed possuem o valor '0' na(s) mesma(s) linha(s): True\n",
            "Índice(s): [1516]\n"
          ]
        }
      ],
      "source": [
        "##### 'DayOfWeekClaimed' e 'MonthClaimed'\n",
        "\n",
        "DayOfWeekClaimed_zeros = df_dataset_1.index[df_dataset_1['DayOfWeekClaimed'] == '0'].tolist()\n",
        "MonthClaimed_zeros = df_dataset_1.index[df_dataset_1['MonthClaimed'] == '0'].tolist()\n",
        "\n",
        "print(\"DayOfWeekClaimed e MonthClaimed possuem o valor '0' na(s) mesma(s) linha(s):\", DayOfWeekClaimed_zeros == MonthClaimed_zeros)\n",
        "print(\"Índice(s):\", DayOfWeekClaimed_zeros)\n",
        "\n",
        "# como trata-se apenas de uma única ocorrência, a linha correspondente será eliminada\n",
        "df_dataset_1 = df_dataset_1.drop(DayOfWeekClaimed_zeros)\n",
        "df_dataset_1.reset_index(drop=True, inplace=True)\n"
      ]
    },
    {
      "cell_type": "code",
      "execution_count": 11,
      "metadata": {},
      "outputs": [
        {
          "name": "stdout",
          "output_type": "stream",
          "text": [
            "Age possui o valor '0' em 319 linhas. \n",
            "\n",
            "--> Correspondência para 'Sex': ['Male']\n",
            "--> Correspondência para 'MaritalStatus': ['Single']\n",
            "--> Correspondência para 'Days_Policy_Accident': ['more than 30']\n",
            "--> Correspondência para 'Days_Policy_Claim': ['more than 30']\n",
            "--> Correspondência para 'AgeOfPolicyHolder': ['16 to 17']\n"
          ]
        }
      ],
      "source": [
        "##### 'Age'\n",
        "\n",
        "Age_zeros = df_dataset_1.index[df_dataset_1['Age'] == 0].tolist()\n",
        "print(f\"Age possui o valor '0' em {len(Age_zeros)} linhas. \\n\")\n",
        "\n",
        "# partirei do seguinte questionamento: nessas ocasiões, existe alguma relação com outra coluna que pode ser útil?\n",
        "\n",
        "for coluna in df_dataset_1.columns:\n",
        "    linhas_age0 = df_dataset_1.loc[df_dataset_1['Age']==0, coluna].unique()\n",
        "    if len(linhas_age0) < 2 and coluna != 'Age':\n",
        "        print(f\"--> Correspondência para '{coluna}': {linhas_age0}\")\n"
      ]
    },
    {
      "cell_type": "code",
      "execution_count": 12,
      "metadata": {},
      "outputs": [
        {
          "data": {
            "text/plain": [
              "16 to 17     319\n",
              "18 to 20      15\n",
              "21 to 25     108\n",
              "26 to 30     613\n",
              "31 to 35    5593\n",
              "36 to 40    4043\n",
              "41 to 50    2828\n",
              "51 to 65    1392\n",
              "over 65      508\n",
              "Name: AgeOfPolicyHolder, dtype: int64"
            ]
          },
          "execution_count": 12,
          "metadata": {},
          "output_type": "execute_result"
        }
      ],
      "source": [
        "df_dataset_1['AgeOfPolicyHolder'].value_counts().sort_index()"
      ]
    },
    {
      "cell_type": "markdown",
      "metadata": {},
      "source": [
        "Verificando as colunas que possuem sempre a mesma correspondência, à primeira vista, aquela que pode dar uma solução para Age==0 é 'AgeOfPolicyHolder'.\n",
        "\n",
        "E, de fato, considerando todo o dataset, temos uma frequência de 319 para '16 to 17' em AgeOfPolicyHolder. Exatamente a mesma quantidade de linhas com Age==0.\n",
        "\n",
        "Investigarei o seguinte: 'Age' sempre está dentro do intervalo de 'AgeOfPolicyHolder'?"
      ]
    },
    {
      "cell_type": "code",
      "execution_count": 13,
      "metadata": {},
      "outputs": [
        {
          "name": "stdout",
          "output_type": "stream",
          "text": [
            "Em 7241 linhas 'Age' não corresponde a 'AgeOfPolicyHolder'. O que representa 46.96% do total de linhas.\n"
          ]
        }
      ],
      "source": [
        "# extrair os limites dos intervalos em 'AgeOfPolicyHolder'\n",
        "get_intervalo_AgeOfPolicyHolder = lambda linha: [int(linha[:2]), int(linha[-2:])] if 'to' in linha else [int(linha[-2:]), 200]\n",
        "\n",
        "df_dataset_total_linhas = len(df_dataset_1)\n",
        "total = 0\n",
        "\n",
        "for indice in range(df_dataset_total_linhas):\n",
        "    idade = df_dataset_1['Age'].iloc[indice]\n",
        "    intervalo_idade = get_intervalo_AgeOfPolicyHolder(df_dataset_1['AgeOfPolicyHolder'].iloc[indice])\n",
        "    if ~(idade >= intervalo_idade[0] and idade <= intervalo_idade[1]): total += 1\n",
        "\n",
        "print(f\"Em {total} linhas 'Age' não corresponde a 'AgeOfPolicyHolder'. O que representa {total/df_dataset_total_linhas:.2%} do total de linhas.\")"
      ]
    },
    {
      "cell_type": "markdown",
      "metadata": {},
      "source": [
        "A resposta para o questionamento é 'não'. Ou seja, o indivíduo envolvido no acidente não necessariamente é a pessoa titular da apólice do seguro. \n",
        "\n",
        "Apesar disso, para não excluir essa quantidade de linhas do dataset, a opção escolhida para dar seguimento ao projeto é a de substituir o valor de 0 de 'Age' pela média do intervalo de 'AgeOfPolicyHolder'."
      ]
    },
    {
      "cell_type": "code",
      "execution_count": 14,
      "metadata": {},
      "outputs": [
        {
          "name": "stdout",
          "output_type": "stream",
          "text": [
            "Age possui o valor '0' em 0 linhas. \n",
            "\n",
            "Age possui o valor '16.5' em 319 linhas. \n",
            "\n"
          ]
        }
      ],
      "source": [
        "df_dataset_1.loc[df_dataset_1['Age']==0, 'Age'] = 16.5\n",
        "\n",
        "Age_zeros = df_dataset_1.index[df_dataset_1['Age'] == 0].tolist()\n",
        "print(f\"Age possui o valor '0' em {len(Age_zeros)} linhas. \\n\")\n",
        "\n",
        "Age_mean = df_dataset_1.index[df_dataset_1['Age'] == 16.5].tolist()\n",
        "print(f\"Age possui o valor '16.5' em {len(Age_mean)} linhas. \\n\")"
      ]
    },
    {
      "cell_type": "markdown",
      "metadata": {},
      "source": [
        "### 4.3. Verificar relação entre 'PolicyType', 'VehicleCategory' e 'BasePolicy'\n",
        "\n",
        "PolicyType = \"VehicleCategory - BasePolicy\"?"
      ]
    },
    {
      "cell_type": "code",
      "execution_count": 15,
      "metadata": {},
      "outputs": [
        {
          "data": {
            "text/plain": [
              "<bound method NDFrame.describe of                PolicyType VehicleCategory  BasePolicy\n",
              "0       Sport - Liability           Sport   Liability\n",
              "1       Sport - Collision           Sport   Collision\n",
              "2       Sport - Collision           Sport   Collision\n",
              "3       Sedan - Liability           Sport   Liability\n",
              "4       Sport - Collision           Sport   Collision\n",
              "...                   ...             ...         ...\n",
              "15414   Sedan - Collision           Sedan   Collision\n",
              "15415   Sedan - Liability           Sport   Liability\n",
              "15416   Sedan - Collision           Sedan   Collision\n",
              "15417  Sedan - All Perils           Sedan  All Perils\n",
              "15418   Sedan - Collision           Sedan   Collision\n",
              "\n",
              "[15419 rows x 3 columns]>"
            ]
          },
          "execution_count": 15,
          "metadata": {},
          "output_type": "execute_result"
        }
      ],
      "source": [
        "df_dataset_1[['PolicyType', 'VehicleCategory', 'BasePolicy']].describe"
      ]
    },
    {
      "cell_type": "code",
      "execution_count": 16,
      "metadata": {},
      "outputs": [
        {
          "name": "stdout",
          "output_type": "stream",
          "text": [
            "'PolicyType' corresponde a 'VehicleCategory - BasePolicy' em 10432 linhas. O que representa 67.66% do total de linhas.\n"
          ]
        }
      ],
      "source": [
        "df_dataset_total_linhas = len(df_dataset_1)\n",
        "total = 0\n",
        "\n",
        "for indice in range(df_dataset_total_linhas):\n",
        "    PolicyType = df_dataset_1['PolicyType'].iloc[indice]\n",
        "    VehicleCategory_BasePolicy = f\"{df_dataset_1['VehicleCategory'].iloc[indice]} - {df_dataset_1['BasePolicy'].iloc[indice]}\"\n",
        "    if PolicyType == VehicleCategory_BasePolicy: total += 1\n",
        "\n",
        "print(f\"'PolicyType' corresponde a 'VehicleCategory - BasePolicy' em {total} linhas. O que representa {total/df_dataset_total_linhas:.2%} do total de linhas.\")"
      ]
    },
    {
      "cell_type": "markdown",
      "metadata": {},
      "source": [
        "A suposição foi provada falsa, portanto, nada será feito com essas três colunas. Mesmo se a suposição fosse verdadeira, ter as informações tanto separadas quanto combinadas pode ser útil para o modelo a ser construído."
      ]
    },
    {
      "cell_type": "markdown",
      "metadata": {},
      "source": [
        "## PARTE 5: Investigar relações com a variável alvo\n",
        "\n",
        "Usar de testes estatísticos e recursos gráficos para verificar as relações entre os atributos e o target ('FraudFound_P')."
      ]
    },
    {
      "cell_type": "markdown",
      "metadata": {},
      "source": [
        "### 5.1 Teste de Independência\n",
        "\n",
        "Considerando os diferentes tipos de atributos (numéricos, binários, categóricos), a abordagem escolhida leva em conta a tabela de contigência para cada par coluna e target. Será realizado o teste de independência chi-quadrado, onde a hipótese nula **$H_0$** é que as colunas **não têm relação** e a hipótese alternativa **$H_1$** é que **existe relação** entre as colunas. O nível de significância (alfa) considerado é de 0,05.\n",
        "\n",
        "Para os resultados dos testes:\n",
        "\n",
        "- Se o valor-p encontrado for **maior que alfa**, não rejeitamos a hipótese nula. Podemos dizer que o resultado do teste não detecta uma relação significativa entre as variáveis;\n",
        "\n",
        "- Se o valor-p encontrado for **menor que alfa**, podemos dizer que há evidências estatísticas suficientes de que existe alguma relação entre as variáveis."
      ]
    },
    {
      "cell_type": "code",
      "execution_count": 17,
      "metadata": {},
      "outputs": [
        {
          "data": {
            "text/html": [
              "<div>\n",
              "<style scoped>\n",
              "    .dataframe tbody tr th:only-of-type {\n",
              "        vertical-align: middle;\n",
              "    }\n",
              "\n",
              "    .dataframe tbody tr th {\n",
              "        vertical-align: top;\n",
              "    }\n",
              "\n",
              "    .dataframe thead th {\n",
              "        text-align: right;\n",
              "    }\n",
              "</style>\n",
              "<table border=\"1\" class=\"dataframe\">\n",
              "  <thead>\n",
              "    <tr style=\"text-align: right;\">\n",
              "      <th>FraudFound_P</th>\n",
              "      <th>0</th>\n",
              "      <th>1</th>\n",
              "    </tr>\n",
              "    <tr>\n",
              "      <th>MaritalStatus</th>\n",
              "      <th></th>\n",
              "      <th></th>\n",
              "    </tr>\n",
              "  </thead>\n",
              "  <tbody>\n",
              "    <tr>\n",
              "      <th>Divorced</th>\n",
              "      <td>73</td>\n",
              "      <td>3</td>\n",
              "    </tr>\n",
              "    <tr>\n",
              "      <th>Married</th>\n",
              "      <td>9986</td>\n",
              "      <td>639</td>\n",
              "    </tr>\n",
              "    <tr>\n",
              "      <th>Single</th>\n",
              "      <td>4405</td>\n",
              "      <td>278</td>\n",
              "    </tr>\n",
              "    <tr>\n",
              "      <th>Widow</th>\n",
              "      <td>32</td>\n",
              "      <td>3</td>\n",
              "    </tr>\n",
              "  </tbody>\n",
              "</table>\n",
              "</div>"
            ],
            "text/plain": [
              "FraudFound_P      0    1\n",
              "MaritalStatus           \n",
              "Divorced         73    3\n",
              "Married        9986  639\n",
              "Single         4405  278\n",
              "Widow            32    3"
            ]
          },
          "execution_count": 17,
          "metadata": {},
          "output_type": "execute_result"
        }
      ],
      "source": [
        "# exemplo de tabela de contigência\n",
        "pd.crosstab(df_dataset_1['MaritalStatus'], df_dataset_1['FraudFound_P'])"
      ]
    },
    {
      "cell_type": "code",
      "execution_count": 18,
      "metadata": {},
      "outputs": [
        {
          "name": "stdout",
          "output_type": "stream",
          "text": [
            "Há evidências estatísticas suficientes de que existe alguma relação entre FraudFound_P e os seguintes atributos:\n",
            "                Atributo            χ²       Valor-p\n",
            "10          FraudFound_P  15401.236138  0.000000e+00\n",
            "7             PolicyType    437.491381  1.768441e-89\n",
            "20            BasePolicy    402.947238  3.170436e-88\n",
            "8        VehicleCategory    290.980893  6.520817e-64\n",
            "6                  Fault    264.984556  1.406180e-59\n",
            "18   AddressChange_Claim    104.722693  9.704718e-22\n",
            "11            Deductible     72.406255  1.302831e-15\n",
            "9           VehiclePrice     67.836116  2.888324e-13\n",
            "13    PastNumberOfClaims     53.541755  1.405198e-11\n",
            "1                   Make     59.815292  2.191573e-06\n",
            "3           MonthClaimed     42.200514  1.495245e-05\n",
            "2           AccidentArea     16.901858  3.936304e-05\n",
            "15     AgeOfPolicyHolder     33.104861  5.896560e-05\n",
            "4                    Sex     13.495678  2.391135e-04\n",
            "17   NumberOfSuppliments     18.155527  4.085276e-04\n",
            "5                    Age    109.664968  4.472083e-04\n",
            "0                  Month     29.771469  1.720902e-03\n",
            "14          AgeOfVehicle     21.995137  2.545322e-03\n",
            "16             AgentType      7.380469  6.593597e-03\n",
            "19                  Year      9.592587  8.260307e-03\n",
            "12  Days_Policy_Accident     11.569842  2.085381e-02\n"
          ]
        }
      ],
      "source": [
        "# teste de independêndia chi-quadrado\n",
        "nivel_significancia = 0.05\n",
        "teste_independencia = []\n",
        "\n",
        "for coluna in df_dataset_1.columns:\n",
        "    tabela_contigencia = pd.crosstab(df_dataset_1[coluna], df_dataset_1['FraudFound_P'])\n",
        "    chi2_val, valor_p, _, __ = stats.chi2_contingency(tabela_contigencia)\n",
        "    if valor_p < nivel_significancia:\n",
        "        teste_independencia.append([coluna, chi2_val, valor_p])\n",
        "\n",
        "print(\"Há evidências estatísticas suficientes de que existe alguma relação entre FraudFound_P e os seguintes atributos:\")\n",
        "\n",
        "df_teste_independencia = pd.DataFrame(teste_independencia, columns=['Atributo', '\\u03C7\\u00B2', 'Valor-p'])\n",
        "df_teste_independencia.sort_values(by='Valor-p', inplace=True)\n",
        "print(df_teste_independencia)"
      ]
    },
    {
      "cell_type": "markdown",
      "metadata": {},
      "source": [
        "### 5.2 TODO\n",
        "\n",
        "Apenas com os atributos que mostram ter uma potencial relação com a variável alvo, utilizarei de recursos gráficos para visualizar mais a fundo essas relações e ver se é possível extrair algum insight."
      ]
    },
    {
      "cell_type": "code",
      "execution_count": 34,
      "metadata": {},
      "outputs": [
        {
          "data": {
            "text/plain": [
              "Sedan - Collision       5584\n",
              "Sedan - Liability       4987\n",
              "Sedan - All Perils      4086\n",
              "Sport - Collision        348\n",
              "Utility - All Perils     340\n",
              "Utility - Collision       30\n",
              "Sport - All Perils        22\n",
              "Utility - Liability       21\n",
              "Sport - Liability          1\n",
              "Name: PolicyType, dtype: int64"
            ]
          },
          "execution_count": 34,
          "metadata": {},
          "output_type": "execute_result"
        }
      ],
      "source": [
        "df_dataset_1['PolicyType'].value_counts()"
      ]
    },
    {
      "cell_type": "code",
      "execution_count": 33,
      "metadata": {},
      "outputs": [
        {
          "data": {
            "text/plain": [
              "PolicyType\n",
              "Sedan - All Perils      4086\n",
              "Sedan - Collision       5584\n",
              "Sedan - Liability       4987\n",
              "Sport - All Perils        22\n",
              "Sport - Collision        348\n",
              "Sport - Liability          1\n",
              "Utility - All Perils     340\n",
              "Utility - Collision       30\n",
              "Utility - Liability       21\n",
              "Name: PolicyType, dtype: int64"
            ]
          },
          "execution_count": 33,
          "metadata": {},
          "output_type": "execute_result"
        }
      ],
      "source": [
        "df_dataset_1['PolicyType'].groupby(df_dataset_1['PolicyType']).agg('count')"
      ]
    },
    {
      "cell_type": "code",
      "execution_count": null,
      "metadata": {},
      "outputs": [],
      "source": [
        "# Percentage by 'atributo' e Percentage by Total\n",
        "df_dataset_total_linhas = len(df_dataset_1)\n",
        "\n",
        "for coluna in df_teste_independencia['Atributo'].values: \n",
        "    # 1. total de registros por tipo\n",
        "    a = df_dataset_1[coluna].value_counts()\n",
        "\n",
        "    # 2. total de registros por tipo com FraudFound_P = 1\n",
        "    b = df_dataset_1.loc[df_dataset_1['FraudFound_P']==1, coluna].value_counts()\n",
        "    #df_dataset['PolicyType'].groupby(df_dataset['PolicyType']).agg('count')\n",
        "\n",
        "    # 2/1\n",
        "    c = b / a\n",
        "\n",
        "    # 2/df_dataset_total_linhas\n",
        "    d = b / df_dataset_total_linhas\n",
        "\n",
        "    #tabela_contigencia = pd.crosstab(df_dataset[coluna], df_dataset['FraudFound_P'])\n",
        "    #tabela_contigencia.plot.pie(subplots=True)\n",
        "    #tabela_contigencia.plot(kind='bar', rot=0, stacked=True)"
      ]
    },
    {
      "cell_type": "code",
      "execution_count": 41,
      "metadata": {},
      "outputs": [
        {
          "data": {
            "text/plain": [
              "Sedan - All Perils      411\n",
              "Sedan - Collision       384\n",
              "Sedan - Liability        36\n",
              "Sport - Collision        48\n",
              "Utility - All Perils     41\n",
              "Utility - Collision       3\n",
              "Name: PolicyType, dtype: int64"
            ]
          },
          "execution_count": 41,
          "metadata": {},
          "output_type": "execute_result"
        }
      ],
      "source": [
        "df_dataset_1.loc[df_dataset_1['FraudFound_P'] == 1, 'PolicyType'].value_counts().sort_index()"
      ]
    },
    {
      "cell_type": "code",
      "execution_count": 37,
      "metadata": {},
      "outputs": [
        {
          "name": "stdout",
          "output_type": "stream",
          "text": [
            "FraudFound_P             0    1\n",
            "PolicyType                     \n",
            "Sedan - All Perils    3675  411\n",
            "Sedan - Collision     5200  384\n",
            "Sedan - Liability     4951   36\n",
            "Sport - All Perils      22    0\n",
            "Sport - Collision      300   48\n",
            "Sport - Liability        1    0\n",
            "Utility - All Perils   299   41\n",
            "Utility - Collision     27    3\n",
            "Utility - Liability     21    0\n"
          ]
        },
        {
          "data": {
            "text/plain": [
              "<AxesSubplot:xlabel='PolicyType'>"
            ]
          },
          "execution_count": 37,
          "metadata": {},
          "output_type": "execute_result"
        },
        {
          "data": {
            "image/png": "[encoded data removed]",
            "text/plain": [
              "<Figure size 504x288 with 1 Axes>"
            ]
          },
          "metadata": {
            "needs_background": "light"
          },
          "output_type": "display_data"
        }
      ],
      "source": [
        "#colunas_analise_exploratoria = [i[0] for i in teste_independencia]\n",
        "#print(df_teste_independencia['Atributo'].values)\n",
        "\n",
        "#corr_matrix = df_dataset[df_teste_independencia['Atributo'].values].corr(method = 'spearman')\n",
        "#sn.heatmap(corr_matrix, annot=True)\n",
        "\n",
        "CrosstabResult=pd.crosstab(index=df_dataset_1['PolicyType'], columns=df_dataset_1['FraudFound_P'])\n",
        "print(CrosstabResult)\n",
        " \n",
        "# Grouped bar chart between GENDER and APPROVE_LOAN\n",
        "CrosstabResult.plot.bar(figsize=(7,4), rot=0)"
      ]
    },
    {
      "cell_type": "markdown",
      "metadata": {},
      "source": [
        "## PARTE 6: Transformar dados"
      ]
    },
    {
      "cell_type": "markdown",
      "metadata": {},
      "source": [
        "o que é RepNumber? o que é DriverRating? o que é AgentType? o que é NumberOfSuppliments?\n",
        "diferença entre mês do acidente e mês de solicitação (pode citar isso, mas a coluna Days_Policy_Claim e/ou Days_Policy_Accident já deve ajudar)"
      ]
    },
    {
      "cell_type": "code",
      "execution_count": 19,
      "metadata": {},
      "outputs": [],
      "source": [
        "df_dataset_2 = df_dataset_1.copy()"
      ]
    },
    {
      "cell_type": "markdown",
      "metadata": {},
      "source": [
        "### 6.1. Conversão de dados categóricos e binários\n",
        "\n",
        "A partir da investigação realizada anteriormente, os seguintes atributos categóricos podem ser transformados em binário:\n",
        "\n",
        "**AccidentArea**: 1=Urban, 0=Rural\n",
        "\n",
        "**Sex**: 1=Female, 0=Male\n",
        "\n",
        "**Fault**: 1=Policy Holder, 0=Third Party\n",
        "\n",
        "**PoliceReportFiled**: 1=No, 0=Yes\n",
        "\n",
        "**WitnessPresent**: 1=No, 0=Yes\n",
        "\n",
        "**AgentType**: 1=External 0=Internal"
      ]
    },
    {
      "cell_type": "code",
      "execution_count": 20,
      "metadata": {},
      "outputs": [
        {
          "name": "stdout",
          "output_type": "stream",
          "text": [
            "AccidentArea\n",
            "Valores antigos: ['Urban' 'Rural']\n",
            "Valores novos: [1 0] \n",
            "\n",
            "Sex\n",
            "Valores antigos: ['Female' 'Male']\n",
            "Valores novos: [1 0] \n",
            "\n",
            "Fault\n",
            "Valores antigos: ['Policy Holder' 'Third Party']\n",
            "Valores novos: [1 0] \n",
            "\n",
            "PoliceReportFiled\n",
            "Valores antigos: ['No' 'Yes']\n",
            "Valores novos: [1 0] \n",
            "\n",
            "WitnessPresent\n",
            "Valores antigos: ['No' 'Yes']\n",
            "Valores novos: [1 0] \n",
            "\n",
            "AgentType\n",
            "Valores antigos: ['External' 'Internal']\n",
            "Valores novos: [1 0] \n",
            "\n"
          ]
        }
      ],
      "source": [
        "categorico_para_binario = ['AccidentArea', 'Sex', 'Fault', 'PoliceReportFiled', 'WitnessPresent', 'AgentType']\n",
        "\n",
        "for coluna in categorico_para_binario:\n",
        "    print(coluna)\n",
        "\n",
        "    valores_unicos = df_dataset_2[coluna].unique()\n",
        "    print(f\"Valores antigos: {valores_unicos}\")\n",
        "\n",
        "    df_dataset_2[coluna] = df_dataset_2[coluna].replace(valores_unicos[0], 1).replace(valores_unicos[1], 0)\n",
        "\n",
        "    valores_unicos = df_dataset_2[coluna].unique()\n",
        "    print(f\"Valores novos: {valores_unicos} \\n\")"
      ]
    },
    {
      "cell_type": "code",
      "execution_count": 21,
      "metadata": {},
      "outputs": [
        {
          "name": "stdout",
          "output_type": "stream",
          "text": [
            "<class 'pandas.core.frame.DataFrame'>\n",
            "RangeIndex: 15419 entries, 0 to 15418\n",
            "Data columns (total 6 columns):\n",
            " #   Column             Non-Null Count  Dtype\n",
            "---  ------             --------------  -----\n",
            " 0   AccidentArea       15419 non-null  int64\n",
            " 1   Sex                15419 non-null  int64\n",
            " 2   Fault              15419 non-null  int64\n",
            " 3   PoliceReportFiled  15419 non-null  int64\n",
            " 4   WitnessPresent     15419 non-null  int64\n",
            " 5   AgentType          15419 non-null  int64\n",
            "dtypes: int64(6)\n",
            "memory usage: 722.9 KB\n"
          ]
        }
      ],
      "source": [
        "df_dataset_2[categorico_para_binario].info()"
      ]
    },
    {
      "cell_type": "markdown",
      "metadata": {},
      "source": [
        "### 6.2 Conversão dos dados ordinais\n",
        "\n",
        "A partir da investigação realizada anteriormente, são atributos ordinais: 'Month', 'DayOfWeek', 'DayOfWeekClaimed', 'MonthClaimed'. \n",
        "\n",
        "Estes devem corresponder à sua ordem natural. Exemplo: para o atributo 'Month', 'Jan' deve corresponder a 1, 'Feb' deve corresponder a 2, 'Mar' deve corresponder a 3, etc."
      ]
    },
    {
      "cell_type": "code",
      "execution_count": 22,
      "metadata": {},
      "outputs": [],
      "source": [
        "dias_da_semana = {'Monday':1,'Tuesday':2,'Wednesday':3,'Thursday':4,'Friday':5,'Saturday':6,'Sunday':7}\n",
        "meses = {'Jan':1,'Feb':2,'Mar':3,'Apr':4,'May':5,'Jun':6,'Jul':7,'Aug':8,'Sep':9,'Oct':10,'Nov':11,'Dec':12}\n",
        "\n",
        "Month = {'Month': meses}\n",
        "DayOfWeek = {'DayOfWeek': dias_da_semana}\n",
        "DayOfWeekClaimed = {'DayOfWeekClaimed': dias_da_semana}\n",
        "MonthClaimed = {'MonthClaimed': meses}\n",
        "\n",
        "mapping = [Month, DayOfWeek, DayOfWeekClaimed, MonthClaimed]"
      ]
    },
    {
      "cell_type": "code",
      "execution_count": 23,
      "metadata": {},
      "outputs": [],
      "source": [
        "for i in range(len(mapping)):\n",
        "    df_dataset_2.replace(mapping[i], inplace=True)"
      ]
    },
    {
      "cell_type": "code",
      "execution_count": 24,
      "metadata": {},
      "outputs": [
        {
          "name": "stdout",
          "output_type": "stream",
          "text": [
            "Month\n",
            "Valores antigos: ['Dec' 'Jan' 'Oct' 'Jun' 'Feb' 'Nov' 'Apr' 'Mar' 'Aug' 'Jul' 'May' 'Sep']\n",
            "Valores novos: [12  1 10  6  2 11  4  3  8  7  5  9] \n",
            "\n",
            "DayOfWeek\n",
            "Valores antigos: ['Wednesday' 'Friday' 'Saturday' 'Monday' 'Tuesday' 'Sunday' 'Thursday']\n",
            "Valores novos: [3 5 6 1 2 7 4] \n",
            "\n",
            "DayOfWeekClaimed\n",
            "Valores antigos: ['Tuesday' 'Monday' 'Thursday' 'Friday' 'Wednesday' 'Saturday' 'Sunday']\n",
            "Valores novos: [2 1 4 5 3 6 7] \n",
            "\n",
            "MonthClaimed\n",
            "Valores antigos: ['Jan' 'Nov' 'Jul' 'Feb' 'Mar' 'Dec' 'Apr' 'Aug' 'May' 'Jun' 'Sep' 'Oct']\n",
            "Valores novos: [ 1 11  7  2  3 12  4  8  5  6  9 10] \n",
            "\n"
          ]
        }
      ],
      "source": [
        "ordinais = ['Month', 'DayOfWeek', 'DayOfWeekClaimed', 'MonthClaimed']\n",
        "\n",
        "for coluna in ordinais:\n",
        "    print(coluna)\n",
        "    print(f\"Valores antigos: {df_dataset_1[coluna].unique()}\")\n",
        "    print(f\"Valores novos: {df_dataset_2[coluna].unique()} \\n\")"
      ]
    },
    {
      "cell_type": "markdown",
      "metadata": {},
      "source": [
        "### 6.3 Conversão dos dados de intervalo\n",
        "\n",
        "A partir da investigação realizada anteriormente, são atributos de intervalos:'PastNumberOfClaims', 'NumberOfSuppliments', 'VehiclePrice', 'Days_Policy_Accident', 'Days_Policy_Claim', 'AgeOfVehicle', 'AgeOfPolicyHolder', 'AddressChange_Claim', 'NumberOfCars'. \n",
        "\n",
        "Estes serão nivelados por baixo. Exemplo: para o atributo 'NumberOfSuppliments', 'none' deve corresponder a 0, '1 to 2' deve corresponder a 1, '3 to 5' deve corresponder a 3 e 'more than 5' deve corresponder a 6."
      ]
    },
    {
      "cell_type": "code",
      "execution_count": 25,
      "metadata": {},
      "outputs": [],
      "source": [
        "PastNumberOfClaims = {'PastNumberOfClaims':{'none':0 ,'1':1,'2 to 4':2,'more than 4':5 }}\n",
        "NumberOfSuppliments = {'NumberOfSuppliments':{'none':0,'1 to 2':1,'3 to 5':3,'more than 5':6}}\n",
        "AgeOfVehicle = {'AgeOfVehicle':{'3 years':3,'6 years':6,'7 years':7,'more than 7':8,'5 years':5,'new':0,'4 years':4,'2 years':2}}\n",
        "VehiclePrice = {'VehiclePrice':{'more than 69000':69001,'20000 to 29000':20000,'30000 to 39000':30000,'less than 20000':19999,\n",
        "                                     '40000 to 59000':40000,'60000 to 69000':60000}}\n",
        "Days_Policy_Accident = {'Days_Policy_Accident':{'more than 30':31,'15 to 30':15,'none':0,'1 to 7':1,'8 to 15':8}}\n",
        "Days_Policy_Claim = {'Days_Policy_Claim':{'more than 30':31,'15 to 30':15,'8 to 15':8,'none':0}}\n",
        "AgeOfPolicyHolder = {'AgeOfPolicyHolder':{'26 to 30':26,'31 to 35':31,'41 to 50':41,'51 to 65':51,'21 to 25':21,'36 to 40':36,\n",
        "                                                            '16 to 17':16, 'over 65':66, '18 to 20':18}}\n",
        "AddressChange_Claim = {'AddressChange_Claim':{'1 year':1,'no change':0,'4 to 8 years':4,'2 to 3 years':2,'under 6 months':0.5}}\n",
        "NumberOfCars = {'NumberOfCars':{'3 to 4':3,'1 vehicle':1,'2 vehicles':2,'5 to 8':5,'more than 8':9}}\n",
        "\n",
        "mapping = [PastNumberOfClaims, NumberOfSuppliments, VehiclePrice, AgeOfVehicle, Days_Policy_Accident, \n",
        "            Days_Policy_Claim, AgeOfPolicyHolder, AddressChange_Claim, NumberOfCars]"
      ]
    },
    {
      "cell_type": "code",
      "execution_count": 26,
      "metadata": {},
      "outputs": [],
      "source": [
        "for i in range(len(mapping)):\n",
        "    df_dataset_2.replace(mapping[i], inplace=True)"
      ]
    },
    {
      "cell_type": "code",
      "execution_count": 27,
      "metadata": {},
      "outputs": [
        {
          "name": "stdout",
          "output_type": "stream",
          "text": [
            "PastNumberOfClaims\n",
            "Valores antigos: ['none' '1' '2 to 4' 'more than 4']\n",
            "Valores novos: [0 1 2 5] \n",
            "\n",
            "NumberOfSuppliments\n",
            "Valores antigos: ['none' 'more than 5' '3 to 5' '1 to 2']\n",
            "Valores novos: [0 6 3 1] \n",
            "\n",
            "VehiclePrice\n",
            "Valores antigos: ['more than 69000' '20000 to 29000' '30000 to 39000' 'less than 20000'\n",
            " '40000 to 59000' '60000 to 69000']\n",
            "Valores novos: [69001 20000 30000 19999 40000 60000] \n",
            "\n",
            "Days_Policy_Accident\n",
            "Valores antigos: ['more than 30' '15 to 30' 'none' '1 to 7' '8 to 15']\n",
            "Valores novos: [31 15  0  1  8] \n",
            "\n",
            "Days_Policy_Claim\n",
            "Valores antigos: ['more than 30' '15 to 30' '8 to 15']\n",
            "Valores novos: [31 15  8] \n",
            "\n",
            "AgeOfVehicle\n",
            "Valores antigos: ['3 years' '6 years' '7 years' 'more than 7' '5 years' 'new' '4 years'\n",
            " '2 years']\n",
            "Valores novos: [3 6 7 8 5 0 4 2] \n",
            "\n",
            "AgeOfPolicyHolder\n",
            "Valores antigos: ['26 to 30' '31 to 35' '41 to 50' '51 to 65' '21 to 25' '36 to 40'\n",
            " '16 to 17' 'over 65' '18 to 20']\n",
            "Valores novos: [26 31 41 51 21 36 16 66 18] \n",
            "\n",
            "AddressChange_Claim\n",
            "Valores antigos: ['1 year' 'no change' '4 to 8 years' '2 to 3 years' 'under 6 months']\n",
            "Valores novos: [1.  0.  4.  2.  0.5] \n",
            "\n",
            "NumberOfCars\n",
            "Valores antigos: ['3 to 4' '1 vehicle' '2 vehicles' '5 to 8' 'more than 8']\n",
            "Valores novos: [3 1 2 5 9] \n",
            "\n"
          ]
        }
      ],
      "source": [
        "dados_intervalos = ['PastNumberOfClaims', 'NumberOfSuppliments', 'VehiclePrice', 'Days_Policy_Accident', 'Days_Policy_Claim', \n",
        "                        'AgeOfVehicle', 'AgeOfPolicyHolder', 'AddressChange_Claim', 'NumberOfCars']\n",
        "\n",
        "for coluna in dados_intervalos:\n",
        "    print(coluna)\n",
        "    print(f\"Valores antigos: {df_dataset_1[coluna].unique()}\")\n",
        "    print(f\"Valores novos: {df_dataset_2[coluna].unique()} \\n\")"
      ]
    },
    {
      "cell_type": "markdown",
      "metadata": {},
      "source": [
        "### 6.3 Conversão dos dados categóricos e nominais\n",
        "\n",
        "A partir da investigação realizada anteriormente, os seguintes atributos são categóricos e nominais: 'Make','MaritalStatus','PolicyType','VehicleCategory' e 'BasePolicy'. Agora, estes terão uma representação vetorial binária."
      ]
    },
    {
      "cell_type": "code",
      "execution_count": 28,
      "metadata": {},
      "outputs": [
        {
          "name": "stdout",
          "output_type": "stream",
          "text": [
            "<class 'pandas.core.frame.DataFrame'>\n",
            "RangeIndex: 15419 entries, 0 to 15418\n",
            "Columns: 32 entries, Month to BasePolicy\n",
            "dtypes: float64(2), int64(25), object(5)\n",
            "memory usage: 3.8+ MB\n"
          ]
        }
      ],
      "source": [
        "df_dataset_2.info(verbose=False)"
      ]
    },
    {
      "cell_type": "code",
      "execution_count": 29,
      "metadata": {},
      "outputs": [
        {
          "name": "stdout",
          "output_type": "stream",
          "text": [
            "<class 'pandas.core.frame.DataFrame'>\n",
            "RangeIndex: 15419 entries, 0 to 15418\n",
            "Columns: 65 entries, Month to BasePolicy_Liability\n",
            "dtypes: float64(2), int64(25), uint8(38)\n",
            "memory usage: 3.7 MB\n"
          ]
        }
      ],
      "source": [
        "# get_dummies transforma as colunas do tipo 'object'\n",
        "\n",
        "# 19 categorias de 'Make' + 4 categorias de 'MaritalStatus' + 9 categorias de 'PolicyType'\n",
        "# + 3 categorias de 'VehicleCategory' + 3 categorias de 'BasePolicy'\n",
        "# = 38 colunas\n",
        "df_dataset_2 = pd.get_dummies(df_dataset_2);\n",
        "df_dataset_2.info(verbose=False)"
      ]
    },
    {
      "cell_type": "markdown",
      "metadata": {},
      "source": [
        "## PARTE 7: Investigar relações com a variável alvo (novamente)\n",
        "\n",
        "Será realizado o mesmo teste de independência executado na PARTE 5. A ideia é verificar se, após as transformações, aparecem novas relações relevantes entre os atributos e o target ('FraudFound_P')."
      ]
    },
    {
      "cell_type": "code",
      "execution_count": 30,
      "metadata": {},
      "outputs": [],
      "source": [
        "df_final = df_dataset_2.copy()"
      ]
    },
    {
      "cell_type": "code",
      "execution_count": 31,
      "metadata": {},
      "outputs": [
        {
          "name": "stdout",
          "output_type": "stream",
          "text": [
            "Há evidências estatísticas suficientes de que existe alguma relação entre FraudFound_P e os seguintes atributos:\n",
            "                           Atributo            χ²       Valor-p\n",
            "7                      FraudFound_P  15401.236138  0.000000e+00\n",
            "29             BasePolicy_Liability    364.390028  3.116620e-81\n",
            "21     PolicyType_Sedan - Liability    361.581932  1.273869e-80\n",
            "25            VehicleCategory_Sport    283.640594  1.208553e-63\n",
            "5                             Fault    264.984556  1.406180e-59\n",
            "24            VehicleCategory_Sedan    229.174903  9.021607e-52\n",
            "27            BasePolicy_All Perils    192.648135  8.400805e-44\n",
            "19    PolicyType_Sedan - All Perils    162.856618  2.688717e-37\n",
            "15              AddressChange_Claim    104.722693  9.704718e-22\n",
            "8                        Deductible     72.406255  1.302831e-15\n",
            "6                      VehiclePrice     67.836116  2.888324e-13\n",
            "10               PastNumberOfClaims     53.541755  1.405198e-11\n",
            "22     PolicyType_Sport - Collision     37.152501  1.092425e-09\n",
            "17                      Make_Accura     35.525852  2.516880e-09\n",
            "28             BasePolicy_Collision     29.267146  6.305578e-08\n",
            "23  PolicyType_Utility - All Perils     21.691830  3.201519e-06\n",
            "26          VehicleCategory_Utility     18.827174  1.431136e-05\n",
            "2                      MonthClaimed     42.200514  1.495245e-05\n",
            "1                      AccidentArea     16.901858  3.936304e-05\n",
            "12                AgeOfPolicyHolder     33.104861  5.896560e-05\n",
            "3                               Sex     13.495678  2.391135e-04\n",
            "14              NumberOfSuppliments     18.155527  4.085276e-04\n",
            "4                               Age    109.664968  4.472083e-04\n",
            "20     PolicyType_Sedan - Collision     12.093358  5.060177e-04\n",
            "0                             Month     29.771469  1.720902e-03\n",
            "11                     AgeOfVehicle     21.995137  2.545322e-03\n",
            "13                        AgentType      7.380469  6.593597e-03\n",
            "16                             Year      9.592587  8.260307e-03\n",
            "9              Days_Policy_Accident     11.569842  2.085381e-02\n",
            "18                          Make_VW      4.557015  3.278417e-02\n"
          ]
        }
      ],
      "source": [
        "# teste de independêndia chi-quadrado\n",
        "nivel_significancia = 0.05\n",
        "teste_independencia = []\n",
        "\n",
        "for coluna in df_final.columns:\n",
        "    tabela_contigencia = pd.crosstab(df_final[coluna], df_final['FraudFound_P'])\n",
        "    chi2_val, valor_p, _, __ = stats.chi2_contingency(tabela_contigencia)\n",
        "    if valor_p < nivel_significancia:\n",
        "        teste_independencia.append([coluna, chi2_val, valor_p])\n",
        "\n",
        "print(\"Há evidências estatísticas suficientes de que existe alguma relação entre FraudFound_P e os seguintes atributos:\")\n",
        "\n",
        "df_teste_independencia = pd.DataFrame(teste_independencia, columns=['Atributo', '\\u03C7\\u00B2', 'Valor-p'])\n",
        "df_teste_independencia.sort_values(by='Valor-p', inplace=True)\n",
        "print(df_teste_independencia)"
      ]
    },
    {
      "cell_type": "markdown",
      "metadata": {},
      "source": [
        "## PARTE 8: Dividir variáveis dependentes e independentes\n",
        "\n",
        "Variável dependente/alvo: 'FraudFound_P'"
      ]
    },
    {
      "cell_type": "code",
      "execution_count": 32,
      "metadata": {},
      "outputs": [
        {
          "name": "stdout",
          "output_type": "stream",
          "text": [
            "(15419, 64) (15419,)\n"
          ]
        }
      ],
      "source": [
        "X = df_final.drop('FraudFound_P', axis=1).copy()\n",
        "y = df_final['FraudFound_P'].copy()\n",
        "print(X.shape, y.shape)"
      ]
    },
    {
      "cell_type": "markdown",
      "metadata": {},
      "source": [
        "## PARTE 9: Balancear dados\n",
        "\n",
        "Método escolhido: SMOTE"
      ]
    },
    {
      "cell_type": "code",
      "execution_count": 34,
      "metadata": {},
      "outputs": [
        {
          "data": {
            "text/plain": [
              "0    14496\n",
              "1      923\n",
              "Name: FraudFound_P, dtype: int64"
            ]
          },
          "execution_count": 34,
          "metadata": {},
          "output_type": "execute_result"
        }
      ],
      "source": [
        "y.value_counts()"
      ]
    },
    {
      "cell_type": "code",
      "execution_count": 33,
      "metadata": {},
      "outputs": [
        {
          "name": "stdout",
          "output_type": "stream",
          "text": [
            "(28992, 64) (28992,)\n"
          ]
        }
      ],
      "source": [
        "X_smote, y_smote = SMOTE().fit_resample(X, y)\n",
        "print(X_smote.shape, y_smote.shape)"
      ]
    },
    {
      "cell_type": "code",
      "execution_count": 36,
      "metadata": {},
      "outputs": [
        {
          "data": {
            "text/plain": [
              "0    14496\n",
              "1    14496\n",
              "Name: FraudFound_P, dtype: int64"
            ]
          },
          "execution_count": 36,
          "metadata": {},
          "output_type": "execute_result"
        }
      ],
      "source": [
        "y_smote.value_counts()"
      ]
    },
    {
      "cell_type": "markdown",
      "metadata": {},
      "source": [
        "## PARTE 10: Dividir dados de treino e de teste\n",
        "\n",
        "70% treino e 30% teste"
      ]
    },
    {
      "cell_type": "code",
      "execution_count": 35,
      "metadata": {},
      "outputs": [
        {
          "name": "stdout",
          "output_type": "stream",
          "text": [
            "(20294, 64) (8698, 64) (20294,) (8698,)\n"
          ]
        }
      ],
      "source": [
        "X_train, X_test, y_train, y_test = train_test_split(X_smote, y_smote, test_size=0.3, stratify=y_smote, random_state=42)\n",
        "print(X_train.shape, X_test.shape, y_train.shape, y_test.shape)"
      ]
    },
    {
      "cell_type": "markdown",
      "metadata": {},
      "source": [
        "## PARTE 11: Rodar experimentos\n",
        "\n",
        "Serão avaliados diferentes configurações dos seguintes algoritmos: Regressão Logística e Random Forest."
      ]
    },
    {
      "cell_type": "markdown",
      "metadata": {},
      "source": [
        "### 11.1 Criar os modelos de classificação e definir os possíveis hiperparâmetros para cada"
      ]
    },
    {
      "cell_type": "code",
      "execution_count": 86,
      "metadata": {},
      "outputs": [],
      "source": [
        "# Regressão Logística\n",
        "RL_classifier = LogisticRegression()\n",
        "penalty = ['none', 'l2']\n",
        "c_values = [100, 0.01]\n",
        "RL_grid = dict(penalty=penalty,C=c_values)\n",
        "\n",
        "# Random Forest\n",
        "RF_classifier = RandomForestClassifier()\n",
        "n_estimators = [10, 100]\n",
        "max_features = ['sqrt', 'log2']\n",
        "RF_grid = dict(n_estimators=n_estimators, max_features=max_features)\n",
        "\n",
        "classificadores = [RL_classifier, RF_classifier]\n",
        "grids = [RL_grid, RF_grid]"
      ]
    },
    {
      "cell_type": "markdown",
      "metadata": {},
      "source": [
        "### 11.2 Definir as métricas de comparação"
      ]
    },
    {
      "cell_type": "code",
      "execution_count": 87,
      "metadata": {},
      "outputs": [],
      "source": [
        "metricas = {'accuracy_score':metrics.make_scorer(metrics.accuracy_score),\n",
        "          'f1_score':metrics.make_scorer(metrics.f1_score),\n",
        "          'roc_auc_score':metrics.make_scorer(metrics.roc_auc_score) \n",
        "         }"
      ]
    },
    {
      "cell_type": "markdown",
      "metadata": {},
      "source": [
        "### 11.3 Definir os parâmetros dos experimentos"
      ]
    },
    {
      "cell_type": "code",
      "execution_count": 88,
      "metadata": {},
      "outputs": [],
      "source": [
        "# cross validation\n",
        "n_splits = 5\n",
        "n_repeats = 3\n",
        "cv = RepeatedStratifiedKFold(n_splits=n_splits, n_repeats=n_repeats, random_state=42)"
      ]
    },
    {
      "cell_type": "markdown",
      "metadata": {},
      "source": [
        "### 11.4 Executar os experimentos"
      ]
    },
    {
      "cell_type": "code",
      "execution_count": 89,
      "metadata": {},
      "outputs": [
        {
          "name": "stderr",
          "output_type": "stream",
          "text": [
            "c:\\Users\\pvito\\AppData\\Local\\Programs\\Python\\Python39\\lib\\site-packages\\sklearn\\linear_model\\_logistic.py:1113: UserWarning: Setting penalty='none' will ignore the C and l1_ratio parameters\n",
            "  warnings.warn(\n",
            "c:\\Users\\pvito\\AppData\\Local\\Programs\\Python\\Python39\\lib\\site-packages\\sklearn\\linear_model\\_logistic.py:1113: UserWarning: Setting penalty='none' will ignore the C and l1_ratio parameters\n",
            "  warnings.warn(\n",
            "c:\\Users\\pvito\\AppData\\Local\\Programs\\Python\\Python39\\lib\\site-packages\\sklearn\\linear_model\\_logistic.py:1113: UserWarning: Setting penalty='none' will ignore the C and l1_ratio parameters\n",
            "  warnings.warn(\n",
            "c:\\Users\\pvito\\AppData\\Local\\Programs\\Python\\Python39\\lib\\site-packages\\sklearn\\linear_model\\_logistic.py:1113: UserWarning: Setting penalty='none' will ignore the C and l1_ratio parameters\n",
            "  warnings.warn(\n",
            "c:\\Users\\pvito\\AppData\\Local\\Programs\\Python\\Python39\\lib\\site-packages\\sklearn\\linear_model\\_logistic.py:444: ConvergenceWarning: lbfgs failed to converge (status=1):\n",
            "STOP: TOTAL NO. of ITERATIONS REACHED LIMIT.\n",
            "\n",
            "Increase the number of iterations (max_iter) or scale the data as shown in:\n",
            "    https://scikit-learn.org/stable/modules/preprocessing.html\n",
            "Please also refer to the documentation for alternative solver options:\n",
            "    https://scikit-learn.org/stable/modules/linear_model.html#logistic-regression\n",
            "  n_iter_i = _check_optimize_result(\n",
            "c:\\Users\\pvito\\AppData\\Local\\Programs\\Python\\Python39\\lib\\site-packages\\sklearn\\linear_model\\_logistic.py:1113: UserWarning: Setting penalty='none' will ignore the C and l1_ratio parameters\n",
            "  warnings.warn(\n",
            "c:\\Users\\pvito\\AppData\\Local\\Programs\\Python\\Python39\\lib\\site-packages\\sklearn\\linear_model\\_logistic.py:444: ConvergenceWarning: lbfgs failed to converge (status=1):\n",
            "STOP: TOTAL NO. of ITERATIONS REACHED LIMIT.\n",
            "\n",
            "Increase the number of iterations (max_iter) or scale the data as shown in:\n",
            "    https://scikit-learn.org/stable/modules/preprocessing.html\n",
            "Please also refer to the documentation for alternative solver options:\n",
            "    https://scikit-learn.org/stable/modules/linear_model.html#logistic-regression\n",
            "  n_iter_i = _check_optimize_result(\n",
            "c:\\Users\\pvito\\AppData\\Local\\Programs\\Python\\Python39\\lib\\site-packages\\sklearn\\linear_model\\_logistic.py:1113: UserWarning: Setting penalty='none' will ignore the C and l1_ratio parameters\n",
            "  warnings.warn(\n",
            "c:\\Users\\pvito\\AppData\\Local\\Programs\\Python\\Python39\\lib\\site-packages\\sklearn\\linear_model\\_logistic.py:1113: UserWarning: Setting penalty='none' will ignore the C and l1_ratio parameters\n",
            "  warnings.warn(\n",
            "c:\\Users\\pvito\\AppData\\Local\\Programs\\Python\\Python39\\lib\\site-packages\\sklearn\\linear_model\\_logistic.py:1113: UserWarning: Setting penalty='none' will ignore the C and l1_ratio parameters\n",
            "  warnings.warn(\n",
            "c:\\Users\\pvito\\AppData\\Local\\Programs\\Python\\Python39\\lib\\site-packages\\sklearn\\linear_model\\_logistic.py:1113: UserWarning: Setting penalty='none' will ignore the C and l1_ratio parameters\n",
            "  warnings.warn(\n",
            "c:\\Users\\pvito\\AppData\\Local\\Programs\\Python\\Python39\\lib\\site-packages\\sklearn\\linear_model\\_logistic.py:1113: UserWarning: Setting penalty='none' will ignore the C and l1_ratio parameters\n",
            "  warnings.warn(\n",
            "c:\\Users\\pvito\\AppData\\Local\\Programs\\Python\\Python39\\lib\\site-packages\\sklearn\\linear_model\\_logistic.py:444: ConvergenceWarning: lbfgs failed to converge (status=1):\n",
            "STOP: TOTAL NO. of ITERATIONS REACHED LIMIT.\n",
            "\n",
            "Increase the number of iterations (max_iter) or scale the data as shown in:\n",
            "    https://scikit-learn.org/stable/modules/preprocessing.html\n",
            "Please also refer to the documentation for alternative solver options:\n",
            "    https://scikit-learn.org/stable/modules/linear_model.html#logistic-regression\n",
            "  n_iter_i = _check_optimize_result(\n",
            "c:\\Users\\pvito\\AppData\\Local\\Programs\\Python\\Python39\\lib\\site-packages\\sklearn\\linear_model\\_logistic.py:1113: UserWarning: Setting penalty='none' will ignore the C and l1_ratio parameters\n",
            "  warnings.warn(\n",
            "c:\\Users\\pvito\\AppData\\Local\\Programs\\Python\\Python39\\lib\\site-packages\\sklearn\\linear_model\\_logistic.py:1113: UserWarning: Setting penalty='none' will ignore the C and l1_ratio parameters\n",
            "  warnings.warn(\n",
            "c:\\Users\\pvito\\AppData\\Local\\Programs\\Python\\Python39\\lib\\site-packages\\sklearn\\linear_model\\_logistic.py:444: ConvergenceWarning: lbfgs failed to converge (status=1):\n",
            "STOP: TOTAL NO. of ITERATIONS REACHED LIMIT.\n",
            "\n",
            "Increase the number of iterations (max_iter) or scale the data as shown in:\n",
            "    https://scikit-learn.org/stable/modules/preprocessing.html\n",
            "Please also refer to the documentation for alternative solver options:\n",
            "    https://scikit-learn.org/stable/modules/linear_model.html#logistic-regression\n",
            "  n_iter_i = _check_optimize_result(\n",
            "c:\\Users\\pvito\\AppData\\Local\\Programs\\Python\\Python39\\lib\\site-packages\\sklearn\\linear_model\\_logistic.py:1113: UserWarning: Setting penalty='none' will ignore the C and l1_ratio parameters\n",
            "  warnings.warn(\n",
            "c:\\Users\\pvito\\AppData\\Local\\Programs\\Python\\Python39\\lib\\site-packages\\sklearn\\linear_model\\_logistic.py:444: ConvergenceWarning: lbfgs failed to converge (status=1):\n",
            "STOP: TOTAL NO. of ITERATIONS REACHED LIMIT.\n",
            "\n",
            "Increase the number of iterations (max_iter) or scale the data as shown in:\n",
            "    https://scikit-learn.org/stable/modules/preprocessing.html\n",
            "Please also refer to the documentation for alternative solver options:\n",
            "    https://scikit-learn.org/stable/modules/linear_model.html#logistic-regression\n",
            "  n_iter_i = _check_optimize_result(\n",
            "c:\\Users\\pvito\\AppData\\Local\\Programs\\Python\\Python39\\lib\\site-packages\\sklearn\\linear_model\\_logistic.py:1113: UserWarning: Setting penalty='none' will ignore the C and l1_ratio parameters\n",
            "  warnings.warn(\n",
            "c:\\Users\\pvito\\AppData\\Local\\Programs\\Python\\Python39\\lib\\site-packages\\sklearn\\linear_model\\_logistic.py:444: ConvergenceWarning: lbfgs failed to converge (status=1):\n",
            "STOP: TOTAL NO. of ITERATIONS REACHED LIMIT.\n",
            "\n",
            "Increase the number of iterations (max_iter) or scale the data as shown in:\n",
            "    https://scikit-learn.org/stable/modules/preprocessing.html\n",
            "Please also refer to the documentation for alternative solver options:\n",
            "    https://scikit-learn.org/stable/modules/linear_model.html#logistic-regression\n",
            "  n_iter_i = _check_optimize_result(\n",
            "c:\\Users\\pvito\\AppData\\Local\\Programs\\Python\\Python39\\lib\\site-packages\\sklearn\\linear_model\\_logistic.py:1113: UserWarning: Setting penalty='none' will ignore the C and l1_ratio parameters\n",
            "  warnings.warn(\n",
            "c:\\Users\\pvito\\AppData\\Local\\Programs\\Python\\Python39\\lib\\site-packages\\sklearn\\linear_model\\_logistic.py:444: ConvergenceWarning: lbfgs failed to converge (status=1):\n",
            "STOP: TOTAL NO. of ITERATIONS REACHED LIMIT.\n",
            "\n",
            "Increase the number of iterations (max_iter) or scale the data as shown in:\n",
            "    https://scikit-learn.org/stable/modules/preprocessing.html\n",
            "Please also refer to the documentation for alternative solver options:\n",
            "    https://scikit-learn.org/stable/modules/linear_model.html#logistic-regression\n",
            "  n_iter_i = _check_optimize_result(\n",
            "c:\\Users\\pvito\\AppData\\Local\\Programs\\Python\\Python39\\lib\\site-packages\\sklearn\\linear_model\\_logistic.py:444: ConvergenceWarning: lbfgs failed to converge (status=1):\n",
            "STOP: TOTAL NO. of ITERATIONS REACHED LIMIT.\n",
            "\n",
            "Increase the number of iterations (max_iter) or scale the data as shown in:\n",
            "    https://scikit-learn.org/stable/modules/preprocessing.html\n",
            "Please also refer to the documentation for alternative solver options:\n",
            "    https://scikit-learn.org/stable/modules/linear_model.html#logistic-regression\n",
            "  n_iter_i = _check_optimize_result(\n",
            "c:\\Users\\pvito\\AppData\\Local\\Programs\\Python\\Python39\\lib\\site-packages\\sklearn\\linear_model\\_logistic.py:444: ConvergenceWarning: lbfgs failed to converge (status=1):\n",
            "STOP: TOTAL NO. of ITERATIONS REACHED LIMIT.\n",
            "\n",
            "Increase the number of iterations (max_iter) or scale the data as shown in:\n",
            "    https://scikit-learn.org/stable/modules/preprocessing.html\n",
            "Please also refer to the documentation for alternative solver options:\n",
            "    https://scikit-learn.org/stable/modules/linear_model.html#logistic-regression\n",
            "  n_iter_i = _check_optimize_result(\n",
            "c:\\Users\\pvito\\AppData\\Local\\Programs\\Python\\Python39\\lib\\site-packages\\sklearn\\linear_model\\_logistic.py:444: ConvergenceWarning: lbfgs failed to converge (status=1):\n",
            "STOP: TOTAL NO. of ITERATIONS REACHED LIMIT.\n",
            "\n",
            "Increase the number of iterations (max_iter) or scale the data as shown in:\n",
            "    https://scikit-learn.org/stable/modules/preprocessing.html\n",
            "Please also refer to the documentation for alternative solver options:\n",
            "    https://scikit-learn.org/stable/modules/linear_model.html#logistic-regression\n",
            "  n_iter_i = _check_optimize_result(\n",
            "c:\\Users\\pvito\\AppData\\Local\\Programs\\Python\\Python39\\lib\\site-packages\\sklearn\\linear_model\\_logistic.py:444: ConvergenceWarning: lbfgs failed to converge (status=1):\n",
            "STOP: TOTAL NO. of ITERATIONS REACHED LIMIT.\n",
            "\n",
            "Increase the number of iterations (max_iter) or scale the data as shown in:\n",
            "    https://scikit-learn.org/stable/modules/preprocessing.html\n",
            "Please also refer to the documentation for alternative solver options:\n",
            "    https://scikit-learn.org/stable/modules/linear_model.html#logistic-regression\n",
            "  n_iter_i = _check_optimize_result(\n",
            "c:\\Users\\pvito\\AppData\\Local\\Programs\\Python\\Python39\\lib\\site-packages\\sklearn\\linear_model\\_logistic.py:1113: UserWarning: Setting penalty='none' will ignore the C and l1_ratio parameters\n",
            "  warnings.warn(\n",
            "c:\\Users\\pvito\\AppData\\Local\\Programs\\Python\\Python39\\lib\\site-packages\\sklearn\\linear_model\\_logistic.py:1113: UserWarning: Setting penalty='none' will ignore the C and l1_ratio parameters\n",
            "  warnings.warn(\n",
            "c:\\Users\\pvito\\AppData\\Local\\Programs\\Python\\Python39\\lib\\site-packages\\sklearn\\linear_model\\_logistic.py:1113: UserWarning: Setting penalty='none' will ignore the C and l1_ratio parameters\n",
            "  warnings.warn(\n",
            "c:\\Users\\pvito\\AppData\\Local\\Programs\\Python\\Python39\\lib\\site-packages\\sklearn\\linear_model\\_logistic.py:1113: UserWarning: Setting penalty='none' will ignore the C and l1_ratio parameters\n",
            "  warnings.warn(\n",
            "c:\\Users\\pvito\\AppData\\Local\\Programs\\Python\\Python39\\lib\\site-packages\\sklearn\\linear_model\\_logistic.py:444: ConvergenceWarning: lbfgs failed to converge (status=1):\n",
            "STOP: TOTAL NO. of ITERATIONS REACHED LIMIT.\n",
            "\n",
            "Increase the number of iterations (max_iter) or scale the data as shown in:\n",
            "    https://scikit-learn.org/stable/modules/preprocessing.html\n",
            "Please also refer to the documentation for alternative solver options:\n",
            "    https://scikit-learn.org/stable/modules/linear_model.html#logistic-regression\n",
            "  n_iter_i = _check_optimize_result(\n",
            "c:\\Users\\pvito\\AppData\\Local\\Programs\\Python\\Python39\\lib\\site-packages\\sklearn\\linear_model\\_logistic.py:1113: UserWarning: Setting penalty='none' will ignore the C and l1_ratio parameters\n",
            "  warnings.warn(\n",
            "c:\\Users\\pvito\\AppData\\Local\\Programs\\Python\\Python39\\lib\\site-packages\\sklearn\\linear_model\\_logistic.py:444: ConvergenceWarning: lbfgs failed to converge (status=1):\n",
            "STOP: TOTAL NO. of ITERATIONS REACHED LIMIT.\n",
            "\n",
            "Increase the number of iterations (max_iter) or scale the data as shown in:\n",
            "    https://scikit-learn.org/stable/modules/preprocessing.html\n",
            "Please also refer to the documentation for alternative solver options:\n",
            "    https://scikit-learn.org/stable/modules/linear_model.html#logistic-regression\n",
            "  n_iter_i = _check_optimize_result(\n",
            "c:\\Users\\pvito\\AppData\\Local\\Programs\\Python\\Python39\\lib\\site-packages\\sklearn\\linear_model\\_logistic.py:1113: UserWarning: Setting penalty='none' will ignore the C and l1_ratio parameters\n",
            "  warnings.warn(\n",
            "c:\\Users\\pvito\\AppData\\Local\\Programs\\Python\\Python39\\lib\\site-packages\\sklearn\\linear_model\\_logistic.py:1113: UserWarning: Setting penalty='none' will ignore the C and l1_ratio parameters\n",
            "  warnings.warn(\n",
            "c:\\Users\\pvito\\AppData\\Local\\Programs\\Python\\Python39\\lib\\site-packages\\sklearn\\linear_model\\_logistic.py:1113: UserWarning: Setting penalty='none' will ignore the C and l1_ratio parameters\n",
            "  warnings.warn(\n",
            "c:\\Users\\pvito\\AppData\\Local\\Programs\\Python\\Python39\\lib\\site-packages\\sklearn\\linear_model\\_logistic.py:1113: UserWarning: Setting penalty='none' will ignore the C and l1_ratio parameters\n",
            "  warnings.warn(\n",
            "c:\\Users\\pvito\\AppData\\Local\\Programs\\Python\\Python39\\lib\\site-packages\\sklearn\\linear_model\\_logistic.py:1113: UserWarning: Setting penalty='none' will ignore the C and l1_ratio parameters\n",
            "  warnings.warn(\n",
            "c:\\Users\\pvito\\AppData\\Local\\Programs\\Python\\Python39\\lib\\site-packages\\sklearn\\linear_model\\_logistic.py:444: ConvergenceWarning: lbfgs failed to converge (status=1):\n",
            "STOP: TOTAL NO. of ITERATIONS REACHED LIMIT.\n",
            "\n",
            "Increase the number of iterations (max_iter) or scale the data as shown in:\n",
            "    https://scikit-learn.org/stable/modules/preprocessing.html\n",
            "Please also refer to the documentation for alternative solver options:\n",
            "    https://scikit-learn.org/stable/modules/linear_model.html#logistic-regression\n",
            "  n_iter_i = _check_optimize_result(\n",
            "c:\\Users\\pvito\\AppData\\Local\\Programs\\Python\\Python39\\lib\\site-packages\\sklearn\\linear_model\\_logistic.py:1113: UserWarning: Setting penalty='none' will ignore the C and l1_ratio parameters\n",
            "  warnings.warn(\n",
            "c:\\Users\\pvito\\AppData\\Local\\Programs\\Python\\Python39\\lib\\site-packages\\sklearn\\linear_model\\_logistic.py:1113: UserWarning: Setting penalty='none' will ignore the C and l1_ratio parameters\n",
            "  warnings.warn(\n",
            "c:\\Users\\pvito\\AppData\\Local\\Programs\\Python\\Python39\\lib\\site-packages\\sklearn\\linear_model\\_logistic.py:444: ConvergenceWarning: lbfgs failed to converge (status=1):\n",
            "STOP: TOTAL NO. of ITERATIONS REACHED LIMIT.\n",
            "\n",
            "Increase the number of iterations (max_iter) or scale the data as shown in:\n",
            "    https://scikit-learn.org/stable/modules/preprocessing.html\n",
            "Please also refer to the documentation for alternative solver options:\n",
            "    https://scikit-learn.org/stable/modules/linear_model.html#logistic-regression\n",
            "  n_iter_i = _check_optimize_result(\n",
            "c:\\Users\\pvito\\AppData\\Local\\Programs\\Python\\Python39\\lib\\site-packages\\sklearn\\linear_model\\_logistic.py:1113: UserWarning: Setting penalty='none' will ignore the C and l1_ratio parameters\n",
            "  warnings.warn(\n",
            "c:\\Users\\pvito\\AppData\\Local\\Programs\\Python\\Python39\\lib\\site-packages\\sklearn\\linear_model\\_logistic.py:444: ConvergenceWarning: lbfgs failed to converge (status=1):\n",
            "STOP: TOTAL NO. of ITERATIONS REACHED LIMIT.\n",
            "\n",
            "Increase the number of iterations (max_iter) or scale the data as shown in:\n",
            "    https://scikit-learn.org/stable/modules/preprocessing.html\n",
            "Please also refer to the documentation for alternative solver options:\n",
            "    https://scikit-learn.org/stable/modules/linear_model.html#logistic-regression\n",
            "  n_iter_i = _check_optimize_result(\n",
            "c:\\Users\\pvito\\AppData\\Local\\Programs\\Python\\Python39\\lib\\site-packages\\sklearn\\linear_model\\_logistic.py:1113: UserWarning: Setting penalty='none' will ignore the C and l1_ratio parameters\n",
            "  warnings.warn(\n",
            "c:\\Users\\pvito\\AppData\\Local\\Programs\\Python\\Python39\\lib\\site-packages\\sklearn\\linear_model\\_logistic.py:444: ConvergenceWarning: lbfgs failed to converge (status=1):\n",
            "STOP: TOTAL NO. of ITERATIONS REACHED LIMIT.\n",
            "\n",
            "Increase the number of iterations (max_iter) or scale the data as shown in:\n",
            "    https://scikit-learn.org/stable/modules/preprocessing.html\n",
            "Please also refer to the documentation for alternative solver options:\n",
            "    https://scikit-learn.org/stable/modules/linear_model.html#logistic-regression\n",
            "  n_iter_i = _check_optimize_result(\n",
            "c:\\Users\\pvito\\AppData\\Local\\Programs\\Python\\Python39\\lib\\site-packages\\sklearn\\linear_model\\_logistic.py:1113: UserWarning: Setting penalty='none' will ignore the C and l1_ratio parameters\n",
            "  warnings.warn(\n",
            "c:\\Users\\pvito\\AppData\\Local\\Programs\\Python\\Python39\\lib\\site-packages\\sklearn\\linear_model\\_logistic.py:444: ConvergenceWarning: lbfgs failed to converge (status=1):\n",
            "STOP: TOTAL NO. of ITERATIONS REACHED LIMIT.\n",
            "\n",
            "Increase the number of iterations (max_iter) or scale the data as shown in:\n",
            "    https://scikit-learn.org/stable/modules/preprocessing.html\n",
            "Please also refer to the documentation for alternative solver options:\n",
            "    https://scikit-learn.org/stable/modules/linear_model.html#logistic-regression\n",
            "  n_iter_i = _check_optimize_result(\n",
            "c:\\Users\\pvito\\AppData\\Local\\Programs\\Python\\Python39\\lib\\site-packages\\sklearn\\linear_model\\_logistic.py:444: ConvergenceWarning: lbfgs failed to converge (status=1):\n",
            "STOP: TOTAL NO. of ITERATIONS REACHED LIMIT.\n",
            "\n",
            "Increase the number of iterations (max_iter) or scale the data as shown in:\n",
            "    https://scikit-learn.org/stable/modules/preprocessing.html\n",
            "Please also refer to the documentation for alternative solver options:\n",
            "    https://scikit-learn.org/stable/modules/linear_model.html#logistic-regression\n",
            "  n_iter_i = _check_optimize_result(\n",
            "c:\\Users\\pvito\\AppData\\Local\\Programs\\Python\\Python39\\lib\\site-packages\\sklearn\\linear_model\\_logistic.py:444: ConvergenceWarning: lbfgs failed to converge (status=1):\n",
            "STOP: TOTAL NO. of ITERATIONS REACHED LIMIT.\n",
            "\n",
            "Increase the number of iterations (max_iter) or scale the data as shown in:\n",
            "    https://scikit-learn.org/stable/modules/preprocessing.html\n",
            "Please also refer to the documentation for alternative solver options:\n",
            "    https://scikit-learn.org/stable/modules/linear_model.html#logistic-regression\n",
            "  n_iter_i = _check_optimize_result(\n",
            "c:\\Users\\pvito\\AppData\\Local\\Programs\\Python\\Python39\\lib\\site-packages\\sklearn\\linear_model\\_logistic.py:444: ConvergenceWarning: lbfgs failed to converge (status=1):\n",
            "STOP: TOTAL NO. of ITERATIONS REACHED LIMIT.\n",
            "\n",
            "Increase the number of iterations (max_iter) or scale the data as shown in:\n",
            "    https://scikit-learn.org/stable/modules/preprocessing.html\n",
            "Please also refer to the documentation for alternative solver options:\n",
            "    https://scikit-learn.org/stable/modules/linear_model.html#logistic-regression\n",
            "  n_iter_i = _check_optimize_result(\n",
            "c:\\Users\\pvito\\AppData\\Local\\Programs\\Python\\Python39\\lib\\site-packages\\sklearn\\linear_model\\_logistic.py:444: ConvergenceWarning: lbfgs failed to converge (status=1):\n",
            "STOP: TOTAL NO. of ITERATIONS REACHED LIMIT.\n",
            "\n",
            "Increase the number of iterations (max_iter) or scale the data as shown in:\n",
            "    https://scikit-learn.org/stable/modules/preprocessing.html\n",
            "Please also refer to the documentation for alternative solver options:\n",
            "    https://scikit-learn.org/stable/modules/linear_model.html#logistic-regression\n",
            "  n_iter_i = _check_optimize_result(\n",
            "c:\\Users\\pvito\\AppData\\Local\\Programs\\Python\\Python39\\lib\\site-packages\\sklearn\\linear_model\\_logistic.py:444: ConvergenceWarning: lbfgs failed to converge (status=1):\n",
            "STOP: TOTAL NO. of ITERATIONS REACHED LIMIT.\n",
            "\n",
            "Increase the number of iterations (max_iter) or scale the data as shown in:\n",
            "    https://scikit-learn.org/stable/modules/preprocessing.html\n",
            "Please also refer to the documentation for alternative solver options:\n",
            "    https://scikit-learn.org/stable/modules/linear_model.html#logistic-regression\n",
            "  n_iter_i = _check_optimize_result(\n",
            "c:\\Users\\pvito\\AppData\\Local\\Programs\\Python\\Python39\\lib\\site-packages\\sklearn\\linear_model\\_logistic.py:444: ConvergenceWarning: lbfgs failed to converge (status=1):\n",
            "STOP: TOTAL NO. of ITERATIONS REACHED LIMIT.\n",
            "\n",
            "Increase the number of iterations (max_iter) or scale the data as shown in:\n",
            "    https://scikit-learn.org/stable/modules/preprocessing.html\n",
            "Please also refer to the documentation for alternative solver options:\n",
            "    https://scikit-learn.org/stable/modules/linear_model.html#logistic-regression\n",
            "  n_iter_i = _check_optimize_result(\n",
            "c:\\Users\\pvito\\AppData\\Local\\Programs\\Python\\Python39\\lib\\site-packages\\sklearn\\linear_model\\_logistic.py:444: ConvergenceWarning: lbfgs failed to converge (status=1):\n",
            "STOP: TOTAL NO. of ITERATIONS REACHED LIMIT.\n",
            "\n",
            "Increase the number of iterations (max_iter) or scale the data as shown in:\n",
            "    https://scikit-learn.org/stable/modules/preprocessing.html\n",
            "Please also refer to the documentation for alternative solver options:\n",
            "    https://scikit-learn.org/stable/modules/linear_model.html#logistic-regression\n",
            "  n_iter_i = _check_optimize_result(\n",
            "c:\\Users\\pvito\\AppData\\Local\\Programs\\Python\\Python39\\lib\\site-packages\\sklearn\\linear_model\\_logistic.py:444: ConvergenceWarning: lbfgs failed to converge (status=1):\n",
            "STOP: TOTAL NO. of ITERATIONS REACHED LIMIT.\n",
            "\n",
            "Increase the number of iterations (max_iter) or scale the data as shown in:\n",
            "    https://scikit-learn.org/stable/modules/preprocessing.html\n",
            "Please also refer to the documentation for alternative solver options:\n",
            "    https://scikit-learn.org/stable/modules/linear_model.html#logistic-regression\n",
            "  n_iter_i = _check_optimize_result(\n",
            "c:\\Users\\pvito\\AppData\\Local\\Programs\\Python\\Python39\\lib\\site-packages\\sklearn\\linear_model\\_logistic.py:444: ConvergenceWarning: lbfgs failed to converge (status=1):\n",
            "STOP: TOTAL NO. of ITERATIONS REACHED LIMIT.\n",
            "\n",
            "Increase the number of iterations (max_iter) or scale the data as shown in:\n",
            "    https://scikit-learn.org/stable/modules/preprocessing.html\n",
            "Please also refer to the documentation for alternative solver options:\n",
            "    https://scikit-learn.org/stable/modules/linear_model.html#logistic-regression\n",
            "  n_iter_i = _check_optimize_result(\n",
            "c:\\Users\\pvito\\AppData\\Local\\Programs\\Python\\Python39\\lib\\site-packages\\sklearn\\linear_model\\_logistic.py:444: ConvergenceWarning: lbfgs failed to converge (status=1):\n",
            "STOP: TOTAL NO. of ITERATIONS REACHED LIMIT.\n",
            "\n",
            "Increase the number of iterations (max_iter) or scale the data as shown in:\n",
            "    https://scikit-learn.org/stable/modules/preprocessing.html\n",
            "Please also refer to the documentation for alternative solver options:\n",
            "    https://scikit-learn.org/stable/modules/linear_model.html#logistic-regression\n",
            "  n_iter_i = _check_optimize_result(\n",
            "c:\\Users\\pvito\\AppData\\Local\\Programs\\Python\\Python39\\lib\\site-packages\\sklearn\\linear_model\\_logistic.py:444: ConvergenceWarning: lbfgs failed to converge (status=1):\n",
            "STOP: TOTAL NO. of ITERATIONS REACHED LIMIT.\n",
            "\n",
            "Increase the number of iterations (max_iter) or scale the data as shown in:\n",
            "    https://scikit-learn.org/stable/modules/preprocessing.html\n",
            "Please also refer to the documentation for alternative solver options:\n",
            "    https://scikit-learn.org/stable/modules/linear_model.html#logistic-regression\n",
            "  n_iter_i = _check_optimize_result(\n",
            "c:\\Users\\pvito\\AppData\\Local\\Programs\\Python\\Python39\\lib\\site-packages\\sklearn\\linear_model\\_logistic.py:444: ConvergenceWarning: lbfgs failed to converge (status=1):\n",
            "STOP: TOTAL NO. of ITERATIONS REACHED LIMIT.\n",
            "\n",
            "Increase the number of iterations (max_iter) or scale the data as shown in:\n",
            "    https://scikit-learn.org/stable/modules/preprocessing.html\n",
            "Please also refer to the documentation for alternative solver options:\n",
            "    https://scikit-learn.org/stable/modules/linear_model.html#logistic-regression\n",
            "  n_iter_i = _check_optimize_result(\n"
          ]
        }
      ],
      "source": [
        "resultados = {}\n",
        "\n",
        "for model in classificadores:\n",
        "    grid = grids[classificadores.index(model)]\n",
        "    grid_search = GridSearchCV(estimator=model, param_grid=grid, cv=cv, scoring=metricas, refit='accuracy_score', error_score=0, verbose=False)\n",
        "    grid_result = grid_search.fit(X, y)\n",
        "    resultados[f\"{model}\"] = grid_result"
      ]
    },
    {
      "cell_type": "markdown",
      "metadata": {},
      "source": [
        "## PARTE 12: Analisar os resultados"
      ]
    },
    {
      "cell_type": "code",
      "execution_count": 217,
      "metadata": {},
      "outputs": [],
      "source": [
        "id_vars = ['mean_fit_time', 'std_fit_time', 'mean_score_time', 'std_score_time', 'params', 'mean_test_accuracy_score', 'std_test_accuracy_score', 'rank_test_accuracy_score', 'mean_test_f1_score', 'std_test_f1_score', 'rank_test_f1_score', 'mean_test_roc_auc_score', 'std_test_roc_auc_score', 'rank_test_roc_auc_score']\n",
        "id_vars_RL = id_vars + ['param_penalty', 'param_C']\n",
        "id_vars_RF = id_vars + ['param_max_features', 'param_n_estimators']\n",
        "\n",
        "df_results_RL = pd.DataFrame(resultados['LogisticRegression()'].cv_results_)\n",
        "df_results_RF = pd.DataFrame(resultados['RandomForestClassifier()'].cv_results_)\n",
        "\n",
        "df_results_RL = pd.melt(df_results_RL, id_vars=id_vars_RL)\n",
        "df_results_RF = pd.melt(df_results_RF, id_vars=id_vars_RF)"
      ]
    },
    {
      "cell_type": "code",
      "execution_count": 218,
      "metadata": {},
      "outputs": [
        {
          "name": "stdout",
          "output_type": "stream",
          "text": [
            "<class 'pandas.core.frame.DataFrame'>\n",
            "RangeIndex: 180 entries, 0 to 179\n",
            "Data columns (total 18 columns):\n",
            " #   Column                    Non-Null Count  Dtype  \n",
            "---  ------                    --------------  -----  \n",
            " 0   mean_fit_time             180 non-null    float64\n",
            " 1   std_fit_time              180 non-null    float64\n",
            " 2   mean_score_time           180 non-null    float64\n",
            " 3   std_score_time            180 non-null    float64\n",
            " 4   params                    180 non-null    object \n",
            " 5   mean_test_accuracy_score  180 non-null    float64\n",
            " 6   std_test_accuracy_score   180 non-null    float64\n",
            " 7   rank_test_accuracy_score  180 non-null    int32  \n",
            " 8   mean_test_f1_score        180 non-null    float64\n",
            " 9   std_test_f1_score         180 non-null    float64\n",
            " 10  rank_test_f1_score        180 non-null    int32  \n",
            " 11  mean_test_roc_auc_score   180 non-null    float64\n",
            " 12  std_test_roc_auc_score    180 non-null    float64\n",
            " 13  rank_test_roc_auc_score   180 non-null    int32  \n",
            " 14  param_max_features        180 non-null    object \n",
            " 15  param_n_estimators        180 non-null    object \n",
            " 16  variable                  180 non-null    object \n",
            " 17  value                     180 non-null    float64\n",
            "dtypes: float64(11), int32(3), object(4)\n",
            "memory usage: 23.3+ KB\n"
          ]
        }
      ],
      "source": [
        "df_results_RF.info()"
      ]
    },
    {
      "cell_type": "code",
      "execution_count": 219,
      "metadata": {},
      "outputs": [],
      "source": [
        "#classificadores = [df_results_RL, df_results_RF]\n",
        "classificadores = [df_results_RF]\n",
        "metrica = [*metricas.keys()]\n",
        "\n",
        "# TODO - pegar lista de params automaticamente\n",
        "params = [{'max_features': 'sqrt', 'n_estimators': 10},\n",
        "  {'max_features': 'sqrt', 'n_estimators': 100},\n",
        "  {'max_features': 'log2', 'n_estimators': 10},\n",
        "  {'max_features': 'log2', 'n_estimators': 100}]\n",
        "\n",
        "df_analisar = pd.DataFrame()\n",
        "\n",
        "def valores(modelo, config, metrica):\n",
        "  val = modelo.loc[modelo['params']==config]\n",
        "  val = val.loc[val.variable.str.contains(f'[a-zA-Z]+[0-9]+_[a-zA-Z]+_{metrica}+'), 'value']\n",
        "  return val\n",
        "\n",
        "for model in classificadores:\n",
        "  # TODO - adiciona uma coluna para cada config de classificador e metrica (3 metricas + 8 configs = 24 colunas)\n",
        "  df_analisar[\"rf_a\"] = valores(model, params[0], metrica[0])"
      ]
    },
    {
      "cell_type": "code",
      "execution_count": 220,
      "metadata": {},
      "outputs": [
        {
          "name": "stdout",
          "output_type": "stream",
          "text": [
            "<class 'pandas.core.frame.DataFrame'>\n",
            "Int64Index: 15 entries, 0 to 56\n",
            "Data columns (total 1 columns):\n",
            " #   Column  Non-Null Count  Dtype  \n",
            "---  ------  --------------  -----  \n",
            " 0   rf_a    15 non-null     float64\n",
            "dtypes: float64(1)\n",
            "memory usage: 240.0 bytes\n"
          ]
        }
      ],
      "source": [
        "df_analisar.info()"
      ]
    },
    {
      "cell_type": "code",
      "execution_count": 221,
      "metadata": {},
      "outputs": [
        {
          "data": {
            "text/plain": [
              "Text(0, 0.5, 'metrica')"
            ]
          },
          "execution_count": 221,
          "metadata": {},
          "output_type": "execute_result"
        },
        {
          "data": {
            "image/png": "[encoded data removed]",
            "text/plain": [
              "<Figure size 432x288 with 1 Axes>"
            ]
          },
          "metadata": {
            "needs_background": "light"
          },
          "output_type": "display_data"
        }
      ],
      "source": [
        "ax = sns.boxplot(data=acuracia, width = 0.5, fliersize = 3)\n",
        "ax.set_xlabel(\"Classificadores\")\n",
        "ax.set_ylabel(\"metrica\")"
      ]
    }
  ],
  "metadata": {
    "colab": {
      "collapsed_sections": [
        "N1H4xy9Q4uTv",
        "0Mo4hBsj5bbA"
      ],
      "name": "insurance-fraud-detection.ipynb",
      "provenance": []
    },
    "interpreter": {
      "hash": "d6cd257906ac1e8b880016419fc620c6d832bb406340c745d3507cc8a681b5df"
    },
    "kernelspec": {
      "display_name": "Python 3.9.1 64-bit",
      "language": "python",
      "name": "python3"
    },
    "language_info": {
      "codemirror_mode": {
        "name": "ipython",
        "version": 3
      },
      "file_extension": ".py",
      "mimetype": "text/x-python",
      "name": "python",
      "nbconvert_exporter": "python",
      "pygments_lexer": "ipython3",
      "version": "3.9.1"
    }
  },
  "nbformat": 4,
  "nbformat_minor": 0
}
