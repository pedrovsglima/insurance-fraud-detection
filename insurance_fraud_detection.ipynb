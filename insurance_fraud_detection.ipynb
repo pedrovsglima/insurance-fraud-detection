{
  "cells": [
    {
      "cell_type": "markdown",
      "metadata": {
        "id": "BQpPSTu231Lh"
      },
      "source": [
        "# Detecção de fraude em seguro de veículo\n",
        "\n"
      ]
    },
    {
      "cell_type": "markdown",
      "metadata": {
        "id": "9TiNc0my6Cq-"
      },
      "source": [
        "## Sobre"
      ]
    },
    {
      "cell_type": "markdown",
      "metadata": {
        "id": "zVWYIGL45jPk"
      },
      "source": [
        "### Objetivo\n",
        "\n",
        "todo\n",
        "\n",
        "### Base de dados\n",
        "\n",
        "todo\n",
        "\n",
        "Disponível em: https://www.kaggle.com/datasets/shivamb/vehicle-claim-fraud-detection"
      ]
    },
    {
      "cell_type": "markdown",
      "metadata": {
        "id": "N1H4xy9Q4uTv"
      },
      "source": [
        "## PARTE 1: Importar bibliotecas"
      ]
    },
    {
      "cell_type": "code",
      "execution_count": 23,
      "metadata": {
        "id": "VXnBZ4Fe2jAj"
      },
      "outputs": [],
      "source": [
        "import pandas as pd\n",
        "import scipy.stats as stats"
      ]
    },
    {
      "cell_type": "markdown",
      "metadata": {
        "id": "0Mo4hBsj5bbA"
      },
      "source": [
        "## PARTE 2: Importar base de dados\n"
      ]
    },
    {
      "cell_type": "code",
      "execution_count": 2,
      "metadata": {
        "id": "fumcC6J72lgF"
      },
      "outputs": [],
      "source": [
        "url_dataset = \"https://github.com/peuvitor/insurance-fraud-detection/blob/main/dataset/fraud_oracle.csv?raw=true\"\n",
        "\n",
        "df_dataset = pd.read_csv(url_dataset)"
      ]
    },
    {
      "cell_type": "markdown",
      "metadata": {},
      "source": [
        "## PARTE 3: Entendimento da base de dados"
      ]
    },
    {
      "cell_type": "markdown",
      "metadata": {},
      "source": [
        "### 3.1. Investigar as colunas existentes\n",
        "\n",
        "Quantas e quais são as colunas? Quais são os seus respectivos tipos?"
      ]
    },
    {
      "cell_type": "code",
      "execution_count": 3,
      "metadata": {},
      "outputs": [
        {
          "data": {
            "text/html": [
              "<div>\n",
              "<style scoped>\n",
              "    .dataframe tbody tr th:only-of-type {\n",
              "        vertical-align: middle;\n",
              "    }\n",
              "\n",
              "    .dataframe tbody tr th {\n",
              "        vertical-align: top;\n",
              "    }\n",
              "\n",
              "    .dataframe thead th {\n",
              "        text-align: right;\n",
              "    }\n",
              "</style>\n",
              "<table border=\"1\" class=\"dataframe\">\n",
              "  <thead>\n",
              "    <tr style=\"text-align: right;\">\n",
              "      <th></th>\n",
              "      <th>Month</th>\n",
              "      <th>WeekOfMonth</th>\n",
              "      <th>DayOfWeek</th>\n",
              "      <th>Make</th>\n",
              "      <th>AccidentArea</th>\n",
              "      <th>DayOfWeekClaimed</th>\n",
              "      <th>MonthClaimed</th>\n",
              "      <th>WeekOfMonthClaimed</th>\n",
              "      <th>Sex</th>\n",
              "      <th>MaritalStatus</th>\n",
              "      <th>...</th>\n",
              "      <th>AgeOfVehicle</th>\n",
              "      <th>AgeOfPolicyHolder</th>\n",
              "      <th>PoliceReportFiled</th>\n",
              "      <th>WitnessPresent</th>\n",
              "      <th>AgentType</th>\n",
              "      <th>NumberOfSuppliments</th>\n",
              "      <th>AddressChange_Claim</th>\n",
              "      <th>NumberOfCars</th>\n",
              "      <th>Year</th>\n",
              "      <th>BasePolicy</th>\n",
              "    </tr>\n",
              "  </thead>\n",
              "  <tbody>\n",
              "    <tr>\n",
              "      <th>0</th>\n",
              "      <td>Dec</td>\n",
              "      <td>5</td>\n",
              "      <td>Wednesday</td>\n",
              "      <td>Honda</td>\n",
              "      <td>Urban</td>\n",
              "      <td>Tuesday</td>\n",
              "      <td>Jan</td>\n",
              "      <td>1</td>\n",
              "      <td>Female</td>\n",
              "      <td>Single</td>\n",
              "      <td>...</td>\n",
              "      <td>3 years</td>\n",
              "      <td>26 to 30</td>\n",
              "      <td>No</td>\n",
              "      <td>No</td>\n",
              "      <td>External</td>\n",
              "      <td>none</td>\n",
              "      <td>1 year</td>\n",
              "      <td>3 to 4</td>\n",
              "      <td>1994</td>\n",
              "      <td>Liability</td>\n",
              "    </tr>\n",
              "    <tr>\n",
              "      <th>1</th>\n",
              "      <td>Jan</td>\n",
              "      <td>3</td>\n",
              "      <td>Wednesday</td>\n",
              "      <td>Honda</td>\n",
              "      <td>Urban</td>\n",
              "      <td>Monday</td>\n",
              "      <td>Jan</td>\n",
              "      <td>4</td>\n",
              "      <td>Male</td>\n",
              "      <td>Single</td>\n",
              "      <td>...</td>\n",
              "      <td>6 years</td>\n",
              "      <td>31 to 35</td>\n",
              "      <td>Yes</td>\n",
              "      <td>No</td>\n",
              "      <td>External</td>\n",
              "      <td>none</td>\n",
              "      <td>no change</td>\n",
              "      <td>1 vehicle</td>\n",
              "      <td>1994</td>\n",
              "      <td>Collision</td>\n",
              "    </tr>\n",
              "    <tr>\n",
              "      <th>2</th>\n",
              "      <td>Oct</td>\n",
              "      <td>5</td>\n",
              "      <td>Friday</td>\n",
              "      <td>Honda</td>\n",
              "      <td>Urban</td>\n",
              "      <td>Thursday</td>\n",
              "      <td>Nov</td>\n",
              "      <td>2</td>\n",
              "      <td>Male</td>\n",
              "      <td>Married</td>\n",
              "      <td>...</td>\n",
              "      <td>7 years</td>\n",
              "      <td>41 to 50</td>\n",
              "      <td>No</td>\n",
              "      <td>No</td>\n",
              "      <td>External</td>\n",
              "      <td>none</td>\n",
              "      <td>no change</td>\n",
              "      <td>1 vehicle</td>\n",
              "      <td>1994</td>\n",
              "      <td>Collision</td>\n",
              "    </tr>\n",
              "    <tr>\n",
              "      <th>3</th>\n",
              "      <td>Jun</td>\n",
              "      <td>2</td>\n",
              "      <td>Saturday</td>\n",
              "      <td>Toyota</td>\n",
              "      <td>Rural</td>\n",
              "      <td>Friday</td>\n",
              "      <td>Jul</td>\n",
              "      <td>1</td>\n",
              "      <td>Male</td>\n",
              "      <td>Married</td>\n",
              "      <td>...</td>\n",
              "      <td>more than 7</td>\n",
              "      <td>51 to 65</td>\n",
              "      <td>Yes</td>\n",
              "      <td>No</td>\n",
              "      <td>External</td>\n",
              "      <td>more than 5</td>\n",
              "      <td>no change</td>\n",
              "      <td>1 vehicle</td>\n",
              "      <td>1994</td>\n",
              "      <td>Liability</td>\n",
              "    </tr>\n",
              "    <tr>\n",
              "      <th>4</th>\n",
              "      <td>Jan</td>\n",
              "      <td>5</td>\n",
              "      <td>Monday</td>\n",
              "      <td>Honda</td>\n",
              "      <td>Urban</td>\n",
              "      <td>Tuesday</td>\n",
              "      <td>Feb</td>\n",
              "      <td>2</td>\n",
              "      <td>Female</td>\n",
              "      <td>Single</td>\n",
              "      <td>...</td>\n",
              "      <td>5 years</td>\n",
              "      <td>31 to 35</td>\n",
              "      <td>No</td>\n",
              "      <td>No</td>\n",
              "      <td>External</td>\n",
              "      <td>none</td>\n",
              "      <td>no change</td>\n",
              "      <td>1 vehicle</td>\n",
              "      <td>1994</td>\n",
              "      <td>Collision</td>\n",
              "    </tr>\n",
              "  </tbody>\n",
              "</table>\n",
              "<p>5 rows × 33 columns</p>\n",
              "</div>"
            ],
            "text/plain": [
              "  Month  WeekOfMonth  DayOfWeek    Make AccidentArea DayOfWeekClaimed  \\\n",
              "0   Dec            5  Wednesday   Honda        Urban          Tuesday   \n",
              "1   Jan            3  Wednesday   Honda        Urban           Monday   \n",
              "2   Oct            5     Friday   Honda        Urban         Thursday   \n",
              "3   Jun            2   Saturday  Toyota        Rural           Friday   \n",
              "4   Jan            5     Monday   Honda        Urban          Tuesday   \n",
              "\n",
              "  MonthClaimed  WeekOfMonthClaimed     Sex MaritalStatus  ...  AgeOfVehicle  \\\n",
              "0          Jan                   1  Female        Single  ...       3 years   \n",
              "1          Jan                   4    Male        Single  ...       6 years   \n",
              "2          Nov                   2    Male       Married  ...       7 years   \n",
              "3          Jul                   1    Male       Married  ...   more than 7   \n",
              "4          Feb                   2  Female        Single  ...       5 years   \n",
              "\n",
              "  AgeOfPolicyHolder PoliceReportFiled WitnessPresent AgentType  \\\n",
              "0          26 to 30                No             No  External   \n",
              "1          31 to 35               Yes             No  External   \n",
              "2          41 to 50                No             No  External   \n",
              "3          51 to 65               Yes             No  External   \n",
              "4          31 to 35                No             No  External   \n",
              "\n",
              "   NumberOfSuppliments  AddressChange_Claim  NumberOfCars  Year  BasePolicy  \n",
              "0                 none               1 year        3 to 4  1994   Liability  \n",
              "1                 none            no change     1 vehicle  1994   Collision  \n",
              "2                 none            no change     1 vehicle  1994   Collision  \n",
              "3          more than 5            no change     1 vehicle  1994   Liability  \n",
              "4                 none            no change     1 vehicle  1994   Collision  \n",
              "\n",
              "[5 rows x 33 columns]"
            ]
          },
          "execution_count": 3,
          "metadata": {},
          "output_type": "execute_result"
        }
      ],
      "source": [
        "df_dataset.head()"
      ]
    },
    {
      "cell_type": "code",
      "execution_count": 4,
      "metadata": {
        "colab": {
          "base_uri": "https://localhost:8080/"
        },
        "id": "vuTI40Y06Nsa",
        "outputId": "48e57588-aaf3-4f36-d698-8e12e4e07c47"
      },
      "outputs": [
        {
          "name": "stdout",
          "output_type": "stream",
          "text": [
            "<class 'pandas.core.frame.DataFrame'>\n",
            "RangeIndex: 15420 entries, 0 to 15419\n",
            "Data columns (total 33 columns):\n",
            " #   Column                Non-Null Count  Dtype \n",
            "---  ------                --------------  ----- \n",
            " 0   Month                 15420 non-null  object\n",
            " 1   WeekOfMonth           15420 non-null  int64 \n",
            " 2   DayOfWeek             15420 non-null  object\n",
            " 3   Make                  15420 non-null  object\n",
            " 4   AccidentArea          15420 non-null  object\n",
            " 5   DayOfWeekClaimed      15420 non-null  object\n",
            " 6   MonthClaimed          15420 non-null  object\n",
            " 7   WeekOfMonthClaimed    15420 non-null  int64 \n",
            " 8   Sex                   15420 non-null  object\n",
            " 9   MaritalStatus         15420 non-null  object\n",
            " 10  Age                   15420 non-null  int64 \n",
            " 11  Fault                 15420 non-null  object\n",
            " 12  PolicyType            15420 non-null  object\n",
            " 13  VehicleCategory       15420 non-null  object\n",
            " 14  VehiclePrice          15420 non-null  object\n",
            " 15  FraudFound_P          15420 non-null  int64 \n",
            " 16  PolicyNumber          15420 non-null  int64 \n",
            " 17  RepNumber             15420 non-null  int64 \n",
            " 18  Deductible            15420 non-null  int64 \n",
            " 19  DriverRating          15420 non-null  int64 \n",
            " 20  Days_Policy_Accident  15420 non-null  object\n",
            " 21  Days_Policy_Claim     15420 non-null  object\n",
            " 22  PastNumberOfClaims    15420 non-null  object\n",
            " 23  AgeOfVehicle          15420 non-null  object\n",
            " 24  AgeOfPolicyHolder     15420 non-null  object\n",
            " 25  PoliceReportFiled     15420 non-null  object\n",
            " 26  WitnessPresent        15420 non-null  object\n",
            " 27  AgentType             15420 non-null  object\n",
            " 28  NumberOfSuppliments   15420 non-null  object\n",
            " 29  AddressChange_Claim   15420 non-null  object\n",
            " 30  NumberOfCars          15420 non-null  object\n",
            " 31  Year                  15420 non-null  int64 \n",
            " 32  BasePolicy            15420 non-null  object\n",
            "dtypes: int64(9), object(24)\n",
            "memory usage: 3.9+ MB\n"
          ]
        }
      ],
      "source": [
        "df_dataset.info()"
      ]
    },
    {
      "cell_type": "markdown",
      "metadata": {},
      "source": [
        "### 3.2. Valores únicos de cada coluna\n",
        "\n",
        "Verificar quais os possíveis valores encontrados na base de dados para cada atributo. Além disso, essa parte será útil para identificar possíveis valores faltantes ou incomuns."
      ]
    },
    {
      "cell_type": "code",
      "execution_count": 5,
      "metadata": {},
      "outputs": [
        {
          "name": "stdout",
          "output_type": "stream",
          "text": [
            "--> 'Month' possui 12 valores únicos, são eles:\n",
            " ['Dec' 'Jan' 'Oct' 'Jun' 'Feb' 'Nov' 'Apr' 'Mar' 'Aug' 'Jul' 'May' 'Sep']\n",
            "--> 'WeekOfMonth' possui 5 valores únicos, são eles:\n",
            " [5 3 2 4 1]\n",
            "--> 'DayOfWeek' possui 7 valores únicos, são eles:\n",
            " ['Wednesday' 'Friday' 'Saturday' 'Monday' 'Tuesday' 'Sunday' 'Thursday']\n",
            "--> 'Make' possui 19 valores únicos, são eles:\n",
            " ['Honda' 'Toyota' 'Ford' 'Mazda' 'Chevrolet' 'Pontiac' 'Accura' 'Dodge'\n",
            " 'Mercury' 'Jaguar' 'Nisson' 'VW' 'Saab' 'Saturn' 'Porche' 'BMW' 'Mecedes'\n",
            " 'Ferrari' 'Lexus']\n",
            "--> 'AccidentArea' possui 2 valores únicos, são eles:\n",
            " ['Urban' 'Rural']\n",
            "--> 'DayOfWeekClaimed' possui 8 valores únicos, são eles:\n",
            " ['Tuesday' 'Monday' 'Thursday' 'Friday' 'Wednesday' 'Saturday' 'Sunday'\n",
            " '0']\n",
            "--> 'MonthClaimed' possui 13 valores únicos, são eles:\n",
            " ['Jan' 'Nov' 'Jul' 'Feb' 'Mar' 'Dec' 'Apr' 'Aug' 'May' 'Jun' 'Sep' 'Oct'\n",
            " '0']\n",
            "--> 'WeekOfMonthClaimed' possui 5 valores únicos, são eles:\n",
            " [1 4 2 3 5]\n",
            "--> 'Sex' possui 2 valores únicos, são eles:\n",
            " ['Female' 'Male']\n",
            "--> 'MaritalStatus' possui 4 valores únicos, são eles:\n",
            " ['Single' 'Married' 'Widow' 'Divorced']\n",
            "--> 'Age' possui 66 valores únicos, são eles:\n",
            " [21 34 47 65 27 20 36  0 30 42 71 52 28 61 38 41 32 40 63 31 45 60 39 55\n",
            " 35 44 72 29 37 59 49 50 26 48 64 33 74 23 25 56 16 68 18 51 22 53 46 43\n",
            " 57 54 69 67 19 78 77 75 80 58 73 24 76 62 79 70 17 66]\n",
            "--> 'Fault' possui 2 valores únicos, são eles:\n",
            " ['Policy Holder' 'Third Party']\n",
            "--> 'PolicyType' possui 9 valores únicos, são eles:\n",
            " ['Sport - Liability' 'Sport - Collision' 'Sedan - Liability'\n",
            " 'Utility - All Perils' 'Sedan - All Perils' 'Sedan - Collision'\n",
            " 'Utility - Collision' 'Utility - Liability' 'Sport - All Perils']\n",
            "--> 'VehicleCategory' possui 3 valores únicos, são eles:\n",
            " ['Sport' 'Utility' 'Sedan']\n",
            "--> 'VehiclePrice' possui 6 valores únicos, são eles:\n",
            " ['more than 69000' '20000 to 29000' '30000 to 39000' 'less than 20000'\n",
            " '40000 to 59000' '60000 to 69000']\n",
            "--> 'FraudFound_P' possui 2 valores únicos, são eles:\n",
            " [0 1]\n",
            "--> 'PolicyNumber' possui 15420 valores únicos, são eles:\n",
            " [    1     2     3 ... 15418 15419 15420]\n",
            "--> 'RepNumber' possui 16 valores únicos, são eles:\n",
            " [12 15  7  4  3 14  1 13 11 16  6  2  8  5  9 10]\n",
            "--> 'Deductible' possui 4 valores únicos, são eles:\n",
            " [300 400 500 700]\n",
            "--> 'DriverRating' possui 4 valores únicos, são eles:\n",
            " [1 4 3 2]\n",
            "--> 'Days_Policy_Accident' possui 5 valores únicos, são eles:\n",
            " ['more than 30' '15 to 30' 'none' '1 to 7' '8 to 15']\n",
            "--> 'Days_Policy_Claim' possui 4 valores únicos, são eles:\n",
            " ['more than 30' '15 to 30' '8 to 15' 'none']\n",
            "--> 'PastNumberOfClaims' possui 4 valores únicos, são eles:\n",
            " ['none' '1' '2 to 4' 'more than 4']\n",
            "--> 'AgeOfVehicle' possui 8 valores únicos, são eles:\n",
            " ['3 years' '6 years' '7 years' 'more than 7' '5 years' 'new' '4 years'\n",
            " '2 years']\n",
            "--> 'AgeOfPolicyHolder' possui 9 valores únicos, são eles:\n",
            " ['26 to 30' '31 to 35' '41 to 50' '51 to 65' '21 to 25' '36 to 40'\n",
            " '16 to 17' 'over 65' '18 to 20']\n",
            "--> 'PoliceReportFiled' possui 2 valores únicos, são eles:\n",
            " ['No' 'Yes']\n",
            "--> 'WitnessPresent' possui 2 valores únicos, são eles:\n",
            " ['No' 'Yes']\n",
            "--> 'AgentType' possui 2 valores únicos, são eles:\n",
            " ['External' 'Internal']\n",
            "--> 'NumberOfSuppliments' possui 4 valores únicos, são eles:\n",
            " ['none' 'more than 5' '3 to 5' '1 to 2']\n",
            "--> 'AddressChange_Claim' possui 5 valores únicos, são eles:\n",
            " ['1 year' 'no change' '4 to 8 years' '2 to 3 years' 'under 6 months']\n",
            "--> 'NumberOfCars' possui 5 valores únicos, são eles:\n",
            " ['3 to 4' '1 vehicle' '2 vehicles' '5 to 8' 'more than 8']\n",
            "--> 'Year' possui 3 valores únicos, são eles:\n",
            " [1994 1995 1996]\n",
            "--> 'BasePolicy' possui 3 valores únicos, são eles:\n",
            " ['Liability' 'Collision' 'All Perils']\n"
          ]
        }
      ],
      "source": [
        "for coluna in df_dataset.columns:\n",
        "    valores_unicos = df_dataset[coluna].unique()\n",
        "    print(f\"--> '{coluna}' possui {len(valores_unicos)} valores únicos, são eles:\\n {valores_unicos}\")"
      ]
    },
    {
      "cell_type": "markdown",
      "metadata": {},
      "source": [
        "### 3.3. Resumo sobre as colunas\n",
        "\n",
        "Breve entendimento de cada atributo. Levando em conta o contexto do problema, em geral o nome da coluna é autoexplicativo, porém, em alguns momentos pode dar margem à mais de uma interpretação. Aqui explicarei o que é cada atributo, como trabalharei com ele e problemas que precisam ser investigados."
      ]
    },
    {
      "cell_type": "markdown",
      "metadata": {},
      "source": [
        "1. **Month** (object):  \n",
        "- considerarei como o mês em que o acidente ocorreu\n",
        "- mês abreviado (3 primeiras letras, em inglês)\n",
        "- contém os 12 possíveis meses, não há valores faltantes nem incompatíveis\n",
        "\n",
        "2. **WeekOfMonth** (int64):\n",
        "- considerarei como a semana do mês em que o acidente ocorreu\n",
        "- contém valores inteiros de 1 a 5\n",
        "\n",
        "3. **DayOfWeek** (object):\n",
        "- considerarei como o dia da semana em que o acidente ocorreu\n",
        "- nome do dia da semana completo, em inglês\n",
        "- contém os 7 possíveis dias da semana, não há valores faltantes nem incompatíveis\n",
        "\n",
        "4. **Make** (object):\n",
        "- considerarei como a marca do veículo envolvido no acidente\n",
        "- contém uma lista com 19 fabricantes\n",
        "\n",
        "5. **AccidentArea** (object):\n",
        "- informa se o acidente ocorreu em uma área rural ou urbana\n",
        "\n",
        "6. **DayOfWeekClaimed** (object):\n",
        "- dia da semana referente ao pedido de seguro\n",
        "- nome do dia da semana completo, em inglês\n",
        "- contém 8 valores únicos (7 possíveis dias da semana + '0'), a seguir serão investigados mais a fundo\n",
        "\n",
        "7. **MonthClaimed** (object):\n",
        "- mês referente ao pedido de seguro\n",
        "- mês abreviado (3 primeiras letras, em inglês)\n",
        "- contém 13 valores únicos (12 possíves meses + '0'), a seguir serão investigados mais a fundo\n",
        "\n",
        "8. **WeekOfMonthClaimed** (int64):\n",
        "- semana do mês referente ao pedido de seguro\n",
        "- contém valores inteiros de 1 a 5\n",
        "\n",
        "9. **Sex** (object):\n",
        "- é o sexo biológico da pessoa envolvida no acidente ou da pessoa solicitando o seguro? (considerarei a primeira opção)\n",
        "- pode ser: sexo masculino ou feminino\n",
        "\n",
        "10. **MaritalStatus** (object):\n",
        "- é o estado civil da pessoa envolvida no acidente ou da pessoa solicitando o seguro? (considerarei a primeira opção)\n",
        "- pode ser: solteiro, casado, divorciado ou viúvo\n",
        "\n",
        "11. **Age** (int64):\n",
        "- é a idade da pessoa envolvida no acidente ou da pessoa solicitando o seguro? (considerarei a primeira opção)\n",
        "- valores inteiros de 16 a 80 (a seguir, o valor '0' será investigado mais a fundo)\n",
        "\n",
        "12. **Fault** (object):\n",
        "- indica quem foi considerado como o responsável pelo acidente\n",
        "- pode ser: titular do seguro ou terceiro\n",
        "\n",
        "13. **PolicyType** (object):\n",
        "- indica o tipo da apólice contratada\n",
        "- contém uma lista com 9 tipos, onde cada um é composto por 'categoria do veículo' + 'tipo do seguro'\n",
        "    - categoria do veículo: sport, sedan, utility\n",
        "    - tipo de seguro: liability, all perils, collision\n",
        "- já existe um atributo para indicar a categoria do veículo (VehicleCategory) e outra para indicar o tipo de seguro (BasePolicy), a seguir verificarei como tratar essas informações duplicadas\n",
        "\n",
        "14. **VehicleCategory** (object):\n",
        "- indica a categoria do veículo registrado na apólice/envolvido no acidente\n",
        "- pode ser: sport, sedan, utility\n",
        "\n",
        "15. **VehiclePrice** (object):\n",
        "- indica o preço do veículo envolvido no acidente\n",
        "- contém 6 faixas de valores (provavelmente em dólares) \n",
        "- duas abordagens serão avaliadas: considerar como um dado categórico ou substituir os intervalos pelo valor médio\n",
        "\n",
        "16. **FraudFound_P** (int64):\n",
        "- indica se aquela solicitação foi ou não uma fraude\n",
        "- é o atributo alvo\n",
        "\n",
        "17. **PolicyNumber** (int64):\n",
        "- identifica cada pedido de seguro\n",
        "- contém 15420 valores inteiros únicos, de 1 a 15420\n",
        "- a seguir será verificada a relação entre o número da linha e o PolicyNumber, possivelmente são a mesma coisa\n",
        "\n",
        "18. **RepNumber** (int64):\n",
        "- indica o número do representante\n",
        "- contém valores inteiros de 1 a 16\n",
        "- não fica claro a relevância do parâmetro para o problema, a seguir isso será investigado\n",
        "\n",
        "19. **Deductible** (int64):\n",
        "- indica o valor da franquia do seguro\n",
        "- 4 opções de valores inteiros: 300, 400, 500 e 700\n",
        "\n",
        "20. **DriverRating** (int64):\n",
        "- alguma métrica de avaliação do motorista\n",
        "- contém valores inteiros de 1 a 4\n",
        "- não fica claro se esses dados se traduzem em categorias ou se estão dentro de um certo intervalo de avaliação\n",
        "\n",
        "21. **Days_Policy_Accident** (object):\n",
        "- será considerado como o número de dias que se passaram entre a compra da apólice e o acidente\n",
        "- contém 5 faixas de valores \n",
        "- duas abordagens serão avaliadas: considerar como um dado categórico ou substituir os intervalos pelo valor médio\n",
        "\n",
        "22. **Days_Policy_Claim** (object):\n",
        "- será considerado como o número de dias que se passaram entre a compra da apólice e o pedido de indenização\n",
        "- contém 4 faixas de valores \n",
        "- duas abordagens serão avaliadas: considerar como um dado categórico ou substituir os intervalos pelo valor médio\n",
        "\n",
        "23. **PastNumberOfClaims** (object):\n",
        "- indica quantas vezes a mesma pessoa realizou pedidos de indenização\n",
        "- contém 4 faixas de valores\n",
        "\n",
        "24. **AgeOfVehicle** (object):\n",
        "- indica a idade do veículo (considerarei referenre ao momento do acidente)\n",
        "- contém 8 faixas de valores \n",
        "- duas abordagens serão avaliadas: considerar como um dado categórico ou substituir os intervalos pelo valor médio\n",
        "\n",
        "25. **AgeOfPolicyHolder** (object):\n",
        "- indica a idade do titular da apólice\n",
        "- contém 9 faixas de valores\n",
        "- duas abordagens serão avaliadas: considerar como um dado categórico ou substituir os intervalos pelo valor médio\n",
        "\n",
        "26. **PoliceReportFiled** (object):\n",
        "- indica se foi feito um boletim de ocorrência para o acidente\n",
        "- pode ser: sim ou não\n",
        "\n",
        "27. **WitnessPresent** (object):\n",
        "- indica se uma testemunha estava presente no momento do acidente\n",
        "- pode ser: sim ou não\n",
        "\n",
        "28. **AgentType** (object):\n",
        "- classifica um agente (relacionado ao acidente ou ao pedido) como externo ou interno\n",
        "- não fica claro a relevância do parâmetro para o problema, a seguir isso será investigado\n",
        "\n",
        "29. **NumberOfSuppliments** (object):\n",
        "- indica algum tipo de suplemento no seguro\n",
        "- contém 4 faixas de valores\n",
        "- duas abordagens serão avaliadas: considerar como um dado categórico ou substituir os intervalos pelo valor médio\n",
        "- não fica claro a relevância do parâmetro para o problema, a seguir isso será investigado\n",
        "\n",
        "30. **AddressChange_Claim** (object):\n",
        "- indica quantos anos se passaram entre a última vez que foi registrado uma mudança de endereço e o pedido de indenização\n",
        "- contém 5 faixas de valores\n",
        "- duas abordagens serão avaliadas: considerar como um dado categórico ou substituir os intervalos pelo valor médio\n",
        "\n",
        "31. **NumberOfCars** (object):\n",
        "- considerarei como o número de carros cobertos pela apólice (outra possibilidade seria o número de carros envolvidos no acidente)\n",
        "- contém 5 faixas de valores\n",
        "- duas abordagens serão avaliadas: considerar como um dado categórico ou substituir os intervalos pelo valor médio\n",
        "\n",
        "32. **Year** (int64):\n",
        "- considerarei como o ano em que o acidente ocorreu\n",
        "- pode ser: 1994, 1995 e 1996\n",
        "\n",
        "33. **BasePolicy** (object):\n",
        "- indica o tipo de seguro contratado\n",
        "- pode ser: liability, all perils, collision"
      ]
    },
    {
      "cell_type": "markdown",
      "metadata": {},
      "source": [
        "## PARTE 4: Tratamento dos dados"
      ]
    },
    {
      "cell_type": "markdown",
      "metadata": {},
      "source": [
        "### 4.1. Verificar relação entre os índices das linhas do dataset e 'PolicyNumber'\n",
        "\n",
        "PolicyNumber é igual ao índice da linha+1?"
      ]
    },
    {
      "cell_type": "code",
      "execution_count": 6,
      "metadata": {},
      "outputs": [
        {
          "data": {
            "text/plain": [
              "<bound method NDFrame.describe of 0            1\n",
              "1            2\n",
              "2            3\n",
              "3            4\n",
              "4            5\n",
              "         ...  \n",
              "15415    15416\n",
              "15416    15417\n",
              "15417    15418\n",
              "15418    15419\n",
              "15419    15420\n",
              "Name: PolicyNumber, Length: 15420, dtype: int64>"
            ]
          },
          "execution_count": 6,
          "metadata": {},
          "output_type": "execute_result"
        }
      ],
      "source": [
        "df_dataset['PolicyNumber'].describe"
      ]
    },
    {
      "cell_type": "code",
      "execution_count": 7,
      "metadata": {},
      "outputs": [
        {
          "name": "stdout",
          "output_type": "stream",
          "text": [
            "Número de linhas do dataset: 15420\n",
            "Quantidade de linhas onde PolicyNumber = indice+1: 15420\n"
          ]
        }
      ],
      "source": [
        "df_dataset_total_linhas = len(df_dataset)\n",
        "\n",
        "PolicyNumber_e_indice = sum(1 if df_dataset['PolicyNumber'].iloc[indice] == indice+1 else 0 \\\n",
        "                                    for indice in range(df_dataset_total_linhas))\n",
        "\n",
        "print(f\"Número de linhas do dataset: {df_dataset_total_linhas}\")\n",
        "print(f\"Quantidade de linhas onde PolicyNumber = indice+1: {PolicyNumber_e_indice}\")"
      ]
    },
    {
      "cell_type": "markdown",
      "metadata": {},
      "source": [
        "Como a suposição foi provada verdadeira, esta coluna será ignorada, pois não apresenta utilidade para o problema em questão."
      ]
    },
    {
      "cell_type": "code",
      "execution_count": 8,
      "metadata": {},
      "outputs": [],
      "source": [
        "df_dataset.drop(columns='PolicyNumber', inplace=True)"
      ]
    },
    {
      "cell_type": "markdown",
      "metadata": {},
      "source": [
        "### 4.2. Tratar o valor 0 encontrado em 'DayOfWeekClaimed', 'MonthClaimed' e 'Age'"
      ]
    },
    {
      "cell_type": "code",
      "execution_count": 9,
      "metadata": {},
      "outputs": [
        {
          "name": "stdout",
          "output_type": "stream",
          "text": [
            "DayOfWeekClaimed e MonthClaimed possuem o valor '0' na(s) mesma(s) linha(s): True\n",
            "Índice(s): [1516]\n"
          ]
        }
      ],
      "source": [
        "##### 'DayOfWeekClaimed' e 'MonthClaimed'\n",
        "\n",
        "DayOfWeekClaimed_zeros = df_dataset.index[df_dataset['DayOfWeekClaimed'] == '0'].tolist()\n",
        "MonthClaimed_zeros = df_dataset.index[df_dataset['MonthClaimed'] == '0'].tolist()\n",
        "\n",
        "print(\"DayOfWeekClaimed e MonthClaimed possuem o valor '0' na(s) mesma(s) linha(s):\", DayOfWeekClaimed_zeros == MonthClaimed_zeros)\n",
        "print(\"Índice(s):\", DayOfWeekClaimed_zeros)\n",
        "\n",
        "# como trata-se apenas de uma única ocorrência, a linha correspondente será eliminada\n",
        "df_dataset = df_dataset.drop(DayOfWeekClaimed_zeros)\n",
        "df_dataset.reset_index(drop=True, inplace=True)\n"
      ]
    },
    {
      "cell_type": "code",
      "execution_count": 10,
      "metadata": {},
      "outputs": [
        {
          "name": "stdout",
          "output_type": "stream",
          "text": [
            "Age possui o valor '0' em 319 linhas. \n",
            "\n",
            "--> Correspondência para 'Sex': ['Male']\n",
            "--> Correspondência para 'MaritalStatus': ['Single']\n",
            "--> Correspondência para 'Days_Policy_Accident': ['more than 30']\n",
            "--> Correspondência para 'Days_Policy_Claim': ['more than 30']\n",
            "--> Correspondência para 'AgeOfPolicyHolder': ['16 to 17']\n"
          ]
        }
      ],
      "source": [
        "##### 'Age'\n",
        "\n",
        "Age_zeros = df_dataset.index[df_dataset['Age'] == 0].tolist()\n",
        "print(f\"Age possui o valor '0' em {len(Age_zeros)} linhas. \\n\")\n",
        "\n",
        "# partirei do seguinte questionamento: nessas ocasiões, existe alguma relação com outra coluna que pode ser útil?\n",
        "\n",
        "for coluna in df_dataset.columns:\n",
        "    linhas_age0 = df_dataset.loc[df_dataset['Age']==0, coluna].unique()\n",
        "    if len(linhas_age0) < 2 and coluna != 'Age':\n",
        "        print(f\"--> Correspondência para '{coluna}': {linhas_age0}\")\n"
      ]
    },
    {
      "cell_type": "code",
      "execution_count": 11,
      "metadata": {},
      "outputs": [
        {
          "data": {
            "text/plain": [
              "16 to 17     319\n",
              "18 to 20      15\n",
              "21 to 25     108\n",
              "26 to 30     613\n",
              "31 to 35    5593\n",
              "36 to 40    4043\n",
              "41 to 50    2828\n",
              "51 to 65    1392\n",
              "over 65      508\n",
              "Name: AgeOfPolicyHolder, dtype: int64"
            ]
          },
          "execution_count": 11,
          "metadata": {},
          "output_type": "execute_result"
        }
      ],
      "source": [
        "df_dataset['AgeOfPolicyHolder'].value_counts().sort_index()"
      ]
    },
    {
      "cell_type": "markdown",
      "metadata": {},
      "source": [
        "Verificando as colunas que possuem sempre a mesma correspondência, à primeira vista, aquela que pode dar uma solução para Age==0 é 'AgeOfPolicyHolder'.\n",
        "\n",
        "E, de fato, considerando todo o dataset, temos uma frequência de 319 para '16 to 17' em AgeOfPolicyHolder. Exatamente a mesma quantidade de linhas com Age==0.\n",
        "\n",
        "Investigarei o seguinte: 'Age' sempre está dentro do intervalo de 'AgeOfPolicyHolder'?"
      ]
    },
    {
      "cell_type": "code",
      "execution_count": 12,
      "metadata": {},
      "outputs": [
        {
          "name": "stdout",
          "output_type": "stream",
          "text": [
            "Em 7241 linhas 'Age' não corresponde a 'AgeOfPolicyHolder'. O que representa 46.96% do total de linhas.\n"
          ]
        }
      ],
      "source": [
        "# extrair os limites dos intervalos em 'AgeOfPolicyHolder'\n",
        "get_intervalo_AgeOfPolicyHolder = lambda linha: [int(linha[:2]), int(linha[-2:])] if 'to' in linha else [int(linha[-2:]), 200]\n",
        "\n",
        "df_dataset_total_linhas = len(df_dataset)\n",
        "total = 0\n",
        "\n",
        "for indice in range(df_dataset_total_linhas):\n",
        "    idade = df_dataset['Age'].iloc[indice]\n",
        "    intervalo_idade = get_intervalo_AgeOfPolicyHolder(df_dataset['AgeOfPolicyHolder'].iloc[indice])\n",
        "    if ~(idade >= intervalo_idade[0] and idade <= intervalo_idade[1]): total += 1\n",
        "\n",
        "print(f\"Em {total} linhas 'Age' não corresponde a 'AgeOfPolicyHolder'. O que representa {total/df_dataset_total_linhas:.2%} do total de linhas.\")"
      ]
    },
    {
      "cell_type": "markdown",
      "metadata": {},
      "source": [
        "A resposta para o questionamento é 'não'. Ou seja, o indivíduo envolvido no acidente não necessariamente é a pessoa titular da apólice do seguro. \n",
        "\n",
        "Apesar disso, para não excluir essa quantidade de linhas do dataset, a opção escolhida para dar seguimento ao projeto é a de substituir o valor de 0 de 'Age' pela média do intervalo de 'AgeOfPolicyHolder'."
      ]
    },
    {
      "cell_type": "code",
      "execution_count": 13,
      "metadata": {},
      "outputs": [
        {
          "name": "stdout",
          "output_type": "stream",
          "text": [
            "Age possui o valor '0' em 0 linhas. \n",
            "\n",
            "Age possui o valor '16.5' em 319 linhas. \n",
            "\n"
          ]
        }
      ],
      "source": [
        "df_dataset.loc[df_dataset['Age']==0, 'Age'] = 16.5\n",
        "\n",
        "Age_zeros = df_dataset.index[df_dataset['Age'] == 0].tolist()\n",
        "print(f\"Age possui o valor '0' em {len(Age_zeros)} linhas. \\n\")\n",
        "\n",
        "Age_mean = df_dataset.index[df_dataset['Age'] == 16.5].tolist()\n",
        "print(f\"Age possui o valor '16.5' em {len(Age_mean)} linhas. \\n\")"
      ]
    },
    {
      "cell_type": "markdown",
      "metadata": {},
      "source": [
        "### 4.3. Verificar relação entre 'PolicyType', 'VehicleCategory' e 'BasePolicy'\n",
        "\n",
        "PolicyType = \"VehicleCategory - BasePolicy\"?"
      ]
    },
    {
      "cell_type": "code",
      "execution_count": 14,
      "metadata": {},
      "outputs": [
        {
          "data": {
            "text/plain": [
              "<bound method NDFrame.describe of                PolicyType VehicleCategory  BasePolicy\n",
              "0       Sport - Liability           Sport   Liability\n",
              "1       Sport - Collision           Sport   Collision\n",
              "2       Sport - Collision           Sport   Collision\n",
              "3       Sedan - Liability           Sport   Liability\n",
              "4       Sport - Collision           Sport   Collision\n",
              "...                   ...             ...         ...\n",
              "15414   Sedan - Collision           Sedan   Collision\n",
              "15415   Sedan - Liability           Sport   Liability\n",
              "15416   Sedan - Collision           Sedan   Collision\n",
              "15417  Sedan - All Perils           Sedan  All Perils\n",
              "15418   Sedan - Collision           Sedan   Collision\n",
              "\n",
              "[15419 rows x 3 columns]>"
            ]
          },
          "execution_count": 14,
          "metadata": {},
          "output_type": "execute_result"
        }
      ],
      "source": [
        "df_dataset[['PolicyType', 'VehicleCategory', 'BasePolicy']].describe"
      ]
    },
    {
      "cell_type": "code",
      "execution_count": 15,
      "metadata": {},
      "outputs": [
        {
          "name": "stdout",
          "output_type": "stream",
          "text": [
            "'PolicyType' corresponde a 'VehicleCategory - BasePolicy' em 10432 linhas. O que representa 67.66% do total de linhas.\n"
          ]
        }
      ],
      "source": [
        "df_dataset_total_linhas = len(df_dataset)\n",
        "total = 0\n",
        "\n",
        "for indice in range(df_dataset_total_linhas):\n",
        "    PolicyType = df_dataset['PolicyType'].iloc[indice]\n",
        "    VehicleCategory_BasePolicy = f\"{df_dataset['VehicleCategory'].iloc[indice]} - {df_dataset['BasePolicy'].iloc[indice]}\"\n",
        "    if PolicyType == VehicleCategory_BasePolicy: total += 1\n",
        "\n",
        "print(f\"'PolicyType' corresponde a 'VehicleCategory - BasePolicy' em {total} linhas. O que representa {total/df_dataset_total_linhas:.2%} do total de linhas.\")"
      ]
    },
    {
      "cell_type": "markdown",
      "metadata": {},
      "source": [
        "A suposição foi provada falsa, portanto, nada será feito com essas três colunas. Mesmo se a suposição fosse verdadeira, ter as informações tanto separadas quanto combinadas pode ser útil para o modelo a ser construído."
      ]
    },
    {
      "cell_type": "markdown",
      "metadata": {},
      "source": [
        "## PARTE 5: Investigar relações com a variável alvo\n",
        "\n",
        "Usar de testes estatísticos e recursos gráficos para verificar as relações entre os atributos e o target ('FraudFound_P')."
      ]
    },
    {
      "cell_type": "markdown",
      "metadata": {},
      "source": [
        "### 5.1 Teste de Independência\n",
        "\n",
        "Considerando os diferentes tipos de atributos (numéricos, binários, categóricos), a abordagem escolhida leva em conta a tabela de contigência para cada par coluna e target. Será realizado o teste de independência chi-quadrado, onde a hipótese nula **$H_0$** é que as colunas **não têm relação** e a hipótese alternativa **$H_1$** é que **existe relação** entre as colunas. O nível de significância (alfa) considerado é de 0,05.\n",
        "\n",
        "Para os resultados dos testes:\n",
        "\n",
        "- Se o valor-p encontrado for **maior que alfa**, não rejeitamos a hipótese nula. Podemos dizer que o resultado do teste não detecta uma relação significativa entre as variáveis;\n",
        "\n",
        "- Se o valor-p encontrado for **menor que alfa**, podemos dizer que há evidências estatísticas suficientes de que existe alguma relação entre as variáveis."
      ]
    },
    {
      "cell_type": "code",
      "execution_count": 50,
      "metadata": {},
      "outputs": [
        {
          "data": {
            "text/html": [
              "<div>\n",
              "<style scoped>\n",
              "    .dataframe tbody tr th:only-of-type {\n",
              "        vertical-align: middle;\n",
              "    }\n",
              "\n",
              "    .dataframe tbody tr th {\n",
              "        vertical-align: top;\n",
              "    }\n",
              "\n",
              "    .dataframe thead th {\n",
              "        text-align: right;\n",
              "    }\n",
              "</style>\n",
              "<table border=\"1\" class=\"dataframe\">\n",
              "  <thead>\n",
              "    <tr style=\"text-align: right;\">\n",
              "      <th>FraudFound_P</th>\n",
              "      <th>0</th>\n",
              "      <th>1</th>\n",
              "    </tr>\n",
              "    <tr>\n",
              "      <th>MaritalStatus</th>\n",
              "      <th></th>\n",
              "      <th></th>\n",
              "    </tr>\n",
              "  </thead>\n",
              "  <tbody>\n",
              "    <tr>\n",
              "      <th>Divorced</th>\n",
              "      <td>73</td>\n",
              "      <td>3</td>\n",
              "    </tr>\n",
              "    <tr>\n",
              "      <th>Married</th>\n",
              "      <td>9986</td>\n",
              "      <td>639</td>\n",
              "    </tr>\n",
              "    <tr>\n",
              "      <th>Single</th>\n",
              "      <td>4405</td>\n",
              "      <td>278</td>\n",
              "    </tr>\n",
              "    <tr>\n",
              "      <th>Widow</th>\n",
              "      <td>32</td>\n",
              "      <td>3</td>\n",
              "    </tr>\n",
              "  </tbody>\n",
              "</table>\n",
              "</div>"
            ],
            "text/plain": [
              "FraudFound_P      0    1\n",
              "MaritalStatus           \n",
              "Divorced         73    3\n",
              "Married        9986  639\n",
              "Single         4405  278\n",
              "Widow            32    3"
            ]
          },
          "execution_count": 50,
          "metadata": {},
          "output_type": "execute_result"
        }
      ],
      "source": [
        "# exemplo de tabela de contigência\n",
        "pd.crosstab(df_dataset['MaritalStatus'], df_dataset['FraudFound_P'])"
      ]
    },
    {
      "cell_type": "code",
      "execution_count": 56,
      "metadata": {},
      "outputs": [
        {
          "name": "stdout",
          "output_type": "stream",
          "text": [
            "Há evidências estatísticas suficientes de que existe alguma relação entre FraudFound_P e os seguintes atributos:\n",
            "                Atributo            χ²       Valor-p\n",
            "10          FraudFound_P  15401.236138  0.000000e+00\n",
            "7             PolicyType    437.491381  1.768441e-89\n",
            "20            BasePolicy    402.947238  3.170436e-88\n",
            "8        VehicleCategory    290.980893  6.520817e-64\n",
            "6                  Fault    264.984556  1.406180e-59\n",
            "18   AddressChange_Claim    104.722693  9.704718e-22\n",
            "11            Deductible     72.406255  1.302831e-15\n",
            "9           VehiclePrice     67.836116  2.888324e-13\n",
            "13    PastNumberOfClaims     53.541755  1.405198e-11\n",
            "1                   Make     59.815292  2.191573e-06\n",
            "3           MonthClaimed     42.200514  1.495245e-05\n",
            "2           AccidentArea     16.901858  3.936304e-05\n",
            "15     AgeOfPolicyHolder     33.104861  5.896560e-05\n",
            "4                    Sex     13.495678  2.391135e-04\n",
            "17   NumberOfSuppliments     18.155527  4.085276e-04\n",
            "5                    Age    109.664968  4.472083e-04\n",
            "0                  Month     29.771469  1.720902e-03\n",
            "14          AgeOfVehicle     21.995137  2.545322e-03\n",
            "16             AgentType      7.380469  6.593597e-03\n",
            "19                  Year      9.592587  8.260307e-03\n",
            "12  Days_Policy_Accident     11.569842  2.085381e-02\n"
          ]
        }
      ],
      "source": [
        "# teste de independêndia chi-quadrado\n",
        "nivel_significancia = 0.05\n",
        "teste_independencia = []\n",
        "\n",
        "for coluna in df_dataset.columns:\n",
        "    tabela_contigencia = pd.crosstab(df_dataset[coluna], df_dataset['FraudFound_P'])\n",
        "    chi2_val, valor_p, _, __ = stats.chi2_contingency(tabela_contigencia)\n",
        "    if valor_p < nivel_significancia:\n",
        "        teste_independencia.append([coluna, chi2_val, valor_p])\n",
        "\n",
        "print(\"Há evidências estatísticas suficientes de que existe alguma relação entre FraudFound_P e os seguintes atributos:\")\n",
        "\n",
        "df_teste_independencia = pd.DataFrame(teste_independencia, columns=['Atributo', '\\u03C7\\u00B2', 'Valor-p'])\n",
        "df_teste_independencia.sort_values(by='Valor-p', inplace=True)\n",
        "print(df_teste_independencia)"
      ]
    },
    {
      "cell_type": "markdown",
      "metadata": {},
      "source": [
        "### 5.2 \n",
        "\n",
        "Apenas com os atributos que mostram ter uma potencial relação com a variável alvo, utilizarei de recursos gráficos para visualizar mais a fundo essas relações e ver se é possível extrair algum insight."
      ]
    },
    {
      "cell_type": "code",
      "execution_count": 57,
      "metadata": {},
      "outputs": [],
      "source": [
        "# todo"
      ]
    },
    {
      "cell_type": "markdown",
      "metadata": {},
      "source": [
        "## PARTE 6: Encoding the data"
      ]
    },
    {
      "cell_type": "markdown",
      "metadata": {},
      "source": [
        "o que é RepNumber? o que é DriverRating? o que é AgentType? o que é NumberOfSuppliments?\n",
        "diferença entre mês do acidente e mês de solicitação (pode citar isso, mas a coluna Days_Policy_Claim e/ou Days_Policy_Accident já deve ajudar)\n",
        "\n",
        "dados categóricos (binário, one hot encoder)\n",
        "\n",
        "VehiclePrice, Days_Policy_Accident, Days_Policy_Claim, AgeOfVehicle, AgeOfPolicyHolder, NumberOfSuppliments, AddressChange_Claim, NumberOfCars: substituir pela média ou categorizar?\n",
        "\n",
        "AccidentArea: 1=Urban, 0=Rural\n",
        "Sex: 1=Female, 0=Male\n",
        "Fault: 1=Policy Holder, 0=Third Party\n",
        "PoliceReportFiled: 1=Yes, 0=No\n",
        "WitnessPresent: 1=Yes, 0=No\n",
        "AgentType: 1=External 0=Internal"
      ]
    }
  ],
  "metadata": {
    "colab": {
      "collapsed_sections": [
        "N1H4xy9Q4uTv",
        "0Mo4hBsj5bbA"
      ],
      "name": "insurance-fraud-detection.ipynb",
      "provenance": []
    },
    "interpreter": {
      "hash": "d6cd257906ac1e8b880016419fc620c6d832bb406340c745d3507cc8a681b5df"
    },
    "kernelspec": {
      "display_name": "Python 3.9.1 64-bit",
      "language": "python",
      "name": "python3"
    },
    "language_info": {
      "codemirror_mode": {
        "name": "ipython",
        "version": 3
      },
      "file_extension": ".py",
      "mimetype": "text/x-python",
      "name": "python",
      "nbconvert_exporter": "python",
      "pygments_lexer": "ipython3",
      "version": "3.9.1"
    }
  },
  "nbformat": 4,
  "nbformat_minor": 0
}
